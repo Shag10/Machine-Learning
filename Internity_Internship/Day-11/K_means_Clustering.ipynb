{
  "nbformat": 4,
  "nbformat_minor": 0,
  "metadata": {
    "colab": {
      "name": "K-means_Clustering.ipynb",
      "provenance": []
    },
    "kernelspec": {
      "name": "python3",
      "display_name": "Python 3"
    }
  },
  "cells": [
    {
      "cell_type": "markdown",
      "metadata": {
        "id": "dhY7Tmkgo_Ep"
      },
      "source": [
        "# **K-Means Clustering from Scratch**"
      ]
    },
    {
      "cell_type": "code",
      "metadata": {
        "id": "5XrJW_8-o842"
      },
      "source": [
        "# Import important libraries\r\n",
        "import numpy as np \r\n",
        "import pandas as pd \r\n",
        "import random as rd\r\n",
        "import matplotlib.pyplot as plt\r\n",
        "from math import sqrt"
      ],
      "execution_count": null,
      "outputs": []
    },
    {
      "cell_type": "code",
      "metadata": {
        "colab": {
          "base_uri": "https://localhost:8080/",
          "height": 249
        },
        "id": "E47LkWUfpuz1",
        "outputId": "f0d9e257-57aa-4565-f196-7cd02e6e3979"
      },
      "source": [
        "# Load and read data\r\n",
        "data = pd.read_csv(\"clustering.csv\")\r\n",
        "data.head()"
      ],
      "execution_count": null,
      "outputs": [
        {
          "output_type": "execute_result",
          "data": {
            "text/html": [
              "<div>\n",
              "<style scoped>\n",
              "    .dataframe tbody tr th:only-of-type {\n",
              "        vertical-align: middle;\n",
              "    }\n",
              "\n",
              "    .dataframe tbody tr th {\n",
              "        vertical-align: top;\n",
              "    }\n",
              "\n",
              "    .dataframe thead th {\n",
              "        text-align: right;\n",
              "    }\n",
              "</style>\n",
              "<table border=\"1\" class=\"dataframe\">\n",
              "  <thead>\n",
              "    <tr style=\"text-align: right;\">\n",
              "      <th></th>\n",
              "      <th>Loan_ID</th>\n",
              "      <th>Gender</th>\n",
              "      <th>Married</th>\n",
              "      <th>Dependents</th>\n",
              "      <th>Education</th>\n",
              "      <th>Self_Employed</th>\n",
              "      <th>ApplicantIncome</th>\n",
              "      <th>CoapplicantIncome</th>\n",
              "      <th>LoanAmount</th>\n",
              "      <th>Loan_Amount_Term</th>\n",
              "      <th>Credit_History</th>\n",
              "      <th>Property_Area</th>\n",
              "      <th>Loan_Status</th>\n",
              "    </tr>\n",
              "  </thead>\n",
              "  <tbody>\n",
              "    <tr>\n",
              "      <th>0</th>\n",
              "      <td>LP001003</td>\n",
              "      <td>Male</td>\n",
              "      <td>Yes</td>\n",
              "      <td>1</td>\n",
              "      <td>Graduate</td>\n",
              "      <td>No</td>\n",
              "      <td>4583</td>\n",
              "      <td>1508.0</td>\n",
              "      <td>128.0</td>\n",
              "      <td>360.0</td>\n",
              "      <td>1.0</td>\n",
              "      <td>Rural</td>\n",
              "      <td>N</td>\n",
              "    </tr>\n",
              "    <tr>\n",
              "      <th>1</th>\n",
              "      <td>LP001005</td>\n",
              "      <td>Male</td>\n",
              "      <td>Yes</td>\n",
              "      <td>0</td>\n",
              "      <td>Graduate</td>\n",
              "      <td>Yes</td>\n",
              "      <td>3000</td>\n",
              "      <td>0.0</td>\n",
              "      <td>66.0</td>\n",
              "      <td>360.0</td>\n",
              "      <td>1.0</td>\n",
              "      <td>Urban</td>\n",
              "      <td>Y</td>\n",
              "    </tr>\n",
              "    <tr>\n",
              "      <th>2</th>\n",
              "      <td>LP001006</td>\n",
              "      <td>Male</td>\n",
              "      <td>Yes</td>\n",
              "      <td>0</td>\n",
              "      <td>Not Graduate</td>\n",
              "      <td>No</td>\n",
              "      <td>2583</td>\n",
              "      <td>2358.0</td>\n",
              "      <td>120.0</td>\n",
              "      <td>360.0</td>\n",
              "      <td>1.0</td>\n",
              "      <td>Urban</td>\n",
              "      <td>Y</td>\n",
              "    </tr>\n",
              "    <tr>\n",
              "      <th>3</th>\n",
              "      <td>LP001008</td>\n",
              "      <td>Male</td>\n",
              "      <td>No</td>\n",
              "      <td>0</td>\n",
              "      <td>Graduate</td>\n",
              "      <td>No</td>\n",
              "      <td>6000</td>\n",
              "      <td>0.0</td>\n",
              "      <td>141.0</td>\n",
              "      <td>360.0</td>\n",
              "      <td>1.0</td>\n",
              "      <td>Urban</td>\n",
              "      <td>Y</td>\n",
              "    </tr>\n",
              "    <tr>\n",
              "      <th>4</th>\n",
              "      <td>LP001013</td>\n",
              "      <td>Male</td>\n",
              "      <td>Yes</td>\n",
              "      <td>0</td>\n",
              "      <td>Not Graduate</td>\n",
              "      <td>No</td>\n",
              "      <td>2333</td>\n",
              "      <td>1516.0</td>\n",
              "      <td>95.0</td>\n",
              "      <td>360.0</td>\n",
              "      <td>1.0</td>\n",
              "      <td>Urban</td>\n",
              "      <td>Y</td>\n",
              "    </tr>\n",
              "  </tbody>\n",
              "</table>\n",
              "</div>"
            ],
            "text/plain": [
              "    Loan_ID Gender Married  ... Credit_History Property_Area Loan_Status\n",
              "0  LP001003   Male     Yes  ...            1.0         Rural           N\n",
              "1  LP001005   Male     Yes  ...            1.0         Urban           Y\n",
              "2  LP001006   Male     Yes  ...            1.0         Urban           Y\n",
              "3  LP001008   Male      No  ...            1.0         Urban           Y\n",
              "4  LP001013   Male     Yes  ...            1.0         Urban           Y\n",
              "\n",
              "[5 rows x 13 columns]"
            ]
          },
          "metadata": {
            "tags": []
          },
          "execution_count": 2
        }
      ]
    },
    {
      "cell_type": "markdown",
      "metadata": {
        "id": "aSVSLaqmqEX-"
      },
      "source": [
        "**We will take two variables from data \"ApplicantIncome\" and \"LoanAmount\"**."
      ]
    },
    {
      "cell_type": "code",
      "metadata": {
        "colab": {
          "base_uri": "https://localhost:8080/",
          "height": 279
        },
        "id": "yPsaZfG9p7xi",
        "outputId": "82fc1856-13ee-4748-d0ca-5b9e5c5c2ee3"
      },
      "source": [
        "X = data[[\"ApplicantIncome\", \"LoanAmount\"]]\r\n",
        "# Visualize data point\r\n",
        "plt.scatter(X[\"ApplicantIncome\"], X[\"LoanAmount\"], c=\"blue\")\r\n",
        "plt.xlabel(\"Applicant Income\")\r\n",
        "plt.ylabel(\"Loan Amount (In Thousands)\")\r\n",
        "plt.show()"
      ],
      "execution_count": null,
      "outputs": [
        {
          "output_type": "display_data",
          "data": {
            "image/png": "[encoded data removed]",
            "text/plain": [
              "<Figure size 432x288 with 1 Axes>"
            ]
          },
          "metadata": {
            "tags": [],
            "needs_background": "light"
          }
        }
      ]
    },
    {
      "cell_type": "markdown",
      "metadata": {
        "id": "e5x51HTEqQSv"
      },
      "source": [
        "### **Steps of K-Means clustering**\r\n",
        "\r\n",
        "1. Choose the number of clusters K\r\n",
        "2. Select K random points from the data as centroid\r\n",
        "3. Assign each data point to the closet cluster centriod\r\n",
        "4. Recompute the centriod of newly formed cluster, next step is to compute the centriod of newly formed clusters\r\n",
        "5. Repeat steps 3 and 4"
      ]
    },
    {
      "cell_type": "code",
      "metadata": {
        "colab": {
          "base_uri": "https://localhost:8080/",
          "height": 279
        },
        "id": "UwZ18E1GqLJo",
        "outputId": "625b838b-ad96-4455-fed6-304c4a6c3adc"
      },
      "source": [
        "# step 1 and 2\r\n",
        "\r\n",
        "# number of centriod\r\n",
        "K=3\r\n",
        "\r\n",
        "# select random observation as a centriod \r\n",
        "Centroids = (X.sample(n=K))\r\n",
        "plt.scatter(X[\"ApplicantIncome\"], X[\"LoanAmount\"], c=\"blue\")\r\n",
        "plt.scatter(Centroids[\"ApplicantIncome\"], Centroids[\"LoanAmount\"], c=\"red\")\r\n",
        "plt.xlabel(\"AnnualIncome\")\r\n",
        "plt.ylabel(\"Loan Amount (In Thousand)\")\r\n",
        "plt.show()"
      ],
      "execution_count": null,
      "outputs": [
        {
          "output_type": "display_data",
          "data": {
            "image/png": "[encoded data removed]",
            "text/plain": [
              "<Figure size 432x288 with 1 Axes>"
            ]
          },
          "metadata": {
            "tags": [],
            "needs_background": "light"
          }
        }
      ]
    },
    {
      "cell_type": "code",
      "metadata": {
        "colab": {
          "base_uri": "https://localhost:8080/",
          "height": 136
        },
        "id": "wPobs4oeqguJ",
        "outputId": "bd85e612-f05e-4d1d-bf4d-7141338aba49"
      },
      "source": [
        "Centroids"
      ],
      "execution_count": null,
      "outputs": [
        {
          "output_type": "execute_result",
          "data": {
            "text/html": [
              "<div>\n",
              "<style scoped>\n",
              "    .dataframe tbody tr th:only-of-type {\n",
              "        vertical-align: middle;\n",
              "    }\n",
              "\n",
              "    .dataframe tbody tr th {\n",
              "        vertical-align: top;\n",
              "    }\n",
              "\n",
              "    .dataframe thead th {\n",
              "        text-align: right;\n",
              "    }\n",
              "</style>\n",
              "<table border=\"1\" class=\"dataframe\">\n",
              "  <thead>\n",
              "    <tr style=\"text-align: right;\">\n",
              "      <th></th>\n",
              "      <th>ApplicantIncome</th>\n",
              "      <th>LoanAmount</th>\n",
              "    </tr>\n",
              "  </thead>\n",
              "  <tbody>\n",
              "    <tr>\n",
              "      <th>343</th>\n",
              "      <td>2239</td>\n",
              "      <td>128.0</td>\n",
              "    </tr>\n",
              "    <tr>\n",
              "      <th>44</th>\n",
              "      <td>3357</td>\n",
              "      <td>144.0</td>\n",
              "    </tr>\n",
              "    <tr>\n",
              "      <th>199</th>\n",
              "      <td>5746</td>\n",
              "      <td>144.0</td>\n",
              "    </tr>\n",
              "  </tbody>\n",
              "</table>\n",
              "</div>"
            ],
            "text/plain": [
              "     ApplicantIncome  LoanAmount\n",
              "343             2239       128.0\n",
              "44              3357       144.0\n",
              "199             5746       144.0"
            ]
          },
          "metadata": {
            "tags": []
          },
          "execution_count": 5
        }
      ]
    },
    {
      "cell_type": "code",
      "metadata": {
        "colab": {
          "base_uri": "https://localhost:8080/"
        },
        "id": "PVD9WPOHqk7f",
        "outputId": "72777328-a153-4e1b-ddf6-57c75da8f698"
      },
      "source": [
        "# Step 3 - Assign all the points to the closest cluster centroid\r\n",
        "# Step 4 - Recompute centroids of newly formed clusters\r\n",
        "# Step 5 - Repeat step 3 and 4\r\n",
        "\r\n",
        "diff = 1\r\n",
        "j=0\r\n",
        "\r\n",
        "while(diff!=0):\r\n",
        "    XD=X\r\n",
        "    i=1\r\n",
        "    for index1, row_c in Centroids.iterrows():\r\n",
        "        ED=[]\r\n",
        "        for index2, row_d in XD.iterrows():\r\n",
        "            d1 = (row_c[\"ApplicantIncome\"]-row_d[\"ApplicantIncome\"])**2\r\n",
        "            d2 = (row_c[\"LoanAmount\"]-row_d[\"LoanAmount\"])**2\r\n",
        "            d = sqrt(d1+d2)\r\n",
        "            ED.append(d)\r\n",
        "        X[i] = ED\r\n",
        "        i = i+1\r\n",
        "    \r\n",
        "    C = []\r\n",
        "    for index, row in X.iterrows():\r\n",
        "        min_dist=row[1]\r\n",
        "        pos=1\r\n",
        "        for i in range(K):\r\n",
        "          if row[i+1] < min_dist:\r\n",
        "                min_dist = row[i+1]\r\n",
        "                pos = i+1\r\n",
        "        C.append(pos)\r\n",
        "    X[\"Cluster\"]=C\r\n",
        "    Centroids_new = X.groupby([\"Cluster\"]).mean()[[\"LoanAmount\", \"ApplicantIncome\"]]\r\n",
        "    if j == 0:\r\n",
        "        diff = 1\r\n",
        "        j = j+1\r\n",
        "    else:\r\n",
        "        diff = (Centroids_new['LoanAmount'] - Centroids['LoanAmount']).sum() + (Centroids_new['ApplicantIncome'] - Centroids['ApplicantIncome']).sum()\r\n",
        "        print(diff.sum())\r\n",
        "    Centroids = X.groupby([\"Cluster\"]).mean()[[\"LoanAmount\",\"ApplicantIncome\"]]"
      ],
      "execution_count": null,
      "outputs": [
        {
          "output_type": "stream",
          "text": [
            "/usr/local/lib/python3.6/dist-packages/ipykernel_launcher.py:18: SettingWithCopyWarning: \n",
            "A value is trying to be set on a copy of a slice from a DataFrame.\n",
            "Try using .loc[row_indexer,col_indexer] = value instead\n",
            "\n",
            "See the caveats in the documentation: https://pandas.pydata.org/pandas-docs/stable/user_guide/indexing.html#returning-a-view-versus-a-copy\n",
            "/usr/local/lib/python3.6/dist-packages/ipykernel_launcher.py:30: SettingWithCopyWarning: \n",
            "A value is trying to be set on a copy of a slice from a DataFrame.\n",
            "Try using .loc[row_indexer,col_indexer] = value instead\n",
            "\n",
            "See the caveats in the documentation: https://pandas.pydata.org/pandas-docs/stable/user_guide/indexing.html#returning-a-view-versus-a-copy\n"
          ],
          "name": "stderr"
        },
        {
          "output_type": "stream",
          "text": [
            "218.5582302154238\n",
            "255.37125148586168\n",
            "244.66095351174067\n",
            "229.06905235705375\n",
            "218.24897861156342\n",
            "107.07928213052429\n",
            "52.84741626127729\n",
            "98.54724443834282\n",
            "90.64953219227577\n",
            "18.274686272279013\n",
            "9.21023994083339\n",
            "18.345487493007468\n",
            "46.27013250786139\n",
            "0.0\n"
          ],
          "name": "stdout"
        }
      ]
    },
    {
      "cell_type": "code",
      "metadata": {
        "colab": {
          "base_uri": "https://localhost:8080/",
          "height": 279
        },
        "id": "NVwkgQrkq11l",
        "outputId": "023de25e-b370-4c6a-a259-3bcfd410693b"
      },
      "source": [
        "color=['blue','green','grey']\r\n",
        "for k in range(K):\r\n",
        "    data=X[X[\"Cluster\"]==k+1]\r\n",
        "    plt.scatter(data[\"ApplicantIncome\"],data[\"LoanAmount\"],c=color[k])\r\n",
        "plt.scatter(Centroids[\"ApplicantIncome\"],Centroids[\"LoanAmount\"],c='red')\r\n",
        "plt.xlabel('Income')\r\n",
        "plt.ylabel('Loan Amount (In Thousands)')\r\n",
        "plt.show()"
      ],
      "execution_count": null,
      "outputs": [
        {
          "output_type": "display_data",
          "data": {
            "image/png": "[encoded data removed]",
            "text/plain": [
              "<Figure size 432x288 with 1 Axes>"
            ]
          },
          "metadata": {
            "tags": [],
            "needs_background": "light"
          }
        }
      ]
    },
    {
      "cell_type": "markdown",
      "metadata": {
        "id": "YJBgw3ltVWs3"
      },
      "source": [
        "# **K-Means Custering from Scratch Part-2**\r\n",
        "\r\n",
        "`On dataset crimes.csv`\r\n",
        "\r\n"
      ]
    },
    {
      "cell_type": "code",
      "metadata": {
        "id": "fSv1z4DFq_BU"
      },
      "source": [
        "# Import important libraries\r\n",
        "import numpy as np \r\n",
        "import pandas as pd \r\n",
        "import random as rd\r\n",
        "import matplotlib.pyplot as plt\r\n",
        "from math import sqrt"
      ],
      "execution_count": 1,
      "outputs": []
    },
    {
      "cell_type": "code",
      "metadata": {
        "id": "El44Ro76W7AZ",
        "colab": {
          "base_uri": "https://localhost:8080/",
          "height": 195
        },
        "outputId": "ba3e2987-cf2f-4eb5-9b8c-c9af2dbf4e71"
      },
      "source": [
        "# Load and read data\r\n",
        "data = pd.read_csv(\"crime.csv\")\r\n",
        "data.head()"
      ],
      "execution_count": 2,
      "outputs": [
        {
          "output_type": "execute_result",
          "data": {
            "text/html": [
              "<div>\n",
              "<style scoped>\n",
              "    .dataframe tbody tr th:only-of-type {\n",
              "        vertical-align: middle;\n",
              "    }\n",
              "\n",
              "    .dataframe tbody tr th {\n",
              "        vertical-align: top;\n",
              "    }\n",
              "\n",
              "    .dataframe thead th {\n",
              "        text-align: right;\n",
              "    }\n",
              "</style>\n",
              "<table border=\"1\" class=\"dataframe\">\n",
              "  <thead>\n",
              "    <tr style=\"text-align: right;\">\n",
              "      <th></th>\n",
              "      <th>Date</th>\n",
              "      <th>Latitude</th>\n",
              "      <th>Longitude</th>\n",
              "      <th>Magnitude</th>\n",
              "    </tr>\n",
              "  </thead>\n",
              "  <tbody>\n",
              "    <tr>\n",
              "      <th>0</th>\n",
              "      <td>2017-02-06T20:11:14.000Z</td>\n",
              "      <td>38.894376</td>\n",
              "      <td>-76.997556</td>\n",
              "      <td>4</td>\n",
              "    </tr>\n",
              "    <tr>\n",
              "      <th>1</th>\n",
              "      <td>2017-06-03T12:54:27.000Z</td>\n",
              "      <td>38.906838</td>\n",
              "      <td>-77.058661</td>\n",
              "      <td>6</td>\n",
              "    </tr>\n",
              "    <tr>\n",
              "      <th>2</th>\n",
              "      <td>2017-04-07T00:00:00.000Z</td>\n",
              "      <td>38.960739</td>\n",
              "      <td>-77.018034</td>\n",
              "      <td>16</td>\n",
              "    </tr>\n",
              "    <tr>\n",
              "      <th>3</th>\n",
              "      <td>2017-05-31T11:39:56.000Z</td>\n",
              "      <td>38.905151</td>\n",
              "      <td>-77.063998</td>\n",
              "      <td>4</td>\n",
              "    </tr>\n",
              "    <tr>\n",
              "      <th>4</th>\n",
              "      <td>2017-07-30T00:00:00.000Z</td>\n",
              "      <td>38.949532</td>\n",
              "      <td>-77.020246</td>\n",
              "      <td>16</td>\n",
              "    </tr>\n",
              "  </tbody>\n",
              "</table>\n",
              "</div>"
            ],
            "text/plain": [
              "                       Date   Latitude  Longitude Magnitude\n",
              "0  2017-02-06T20:11:14.000Z  38.894376 -76.997556         4\n",
              "1  2017-06-03T12:54:27.000Z  38.906838 -77.058661         6\n",
              "2  2017-04-07T00:00:00.000Z  38.960739 -77.018034        16\n",
              "3  2017-05-31T11:39:56.000Z  38.905151 -77.063998         4\n",
              "4  2017-07-30T00:00:00.000Z  38.949532 -77.020246        16"
            ]
          },
          "metadata": {
            "tags": []
          },
          "execution_count": 2
        }
      ]
    },
    {
      "cell_type": "code",
      "metadata": {
        "id": "8O-cXJdDXMJl",
        "colab": {
          "base_uri": "https://localhost:8080/",
          "height": 300
        },
        "outputId": "b425b2e0-3d39-4d19-eb35-1ade176fce08"
      },
      "source": [
        "# Visiualize data\r\n",
        "plt.scatter(data.Latitude,data.Longitude)\r\n",
        "plt.xlabel('Latitude')\r\n",
        "plt.ylabel('Longitude')"
      ],
      "execution_count": 3,
      "outputs": [
        {
          "output_type": "execute_result",
          "data": {
            "text/plain": [
              "Text(0, 0.5, 'Longitude')"
            ]
          },
          "metadata": {
            "tags": []
          },
          "execution_count": 3
        },
        {
          "output_type": "display_data",
          "data": {
            "image/png": "[encoded data removed]",
            "text/plain": [
              "<Figure size 432x288 with 1 Axes>"
            ]
          },
          "metadata": {
            "tags": [],
            "needs_background": "light"
          }
        }
      ]
    },
    {
      "cell_type": "code",
      "metadata": {
        "id": "nxC9tzl4XVLo",
        "colab": {
          "base_uri": "https://localhost:8080/",
          "height": 283
        },
        "outputId": "adaa5546-462c-44b5-cb29-c0a959c7e294"
      },
      "source": [
        "X = data[[\"Latitude\", \"Longitude\"]]\r\n",
        "plt.scatter(X[\"Latitude\"], X[\"Longitude\"], c=\"blue\")\r\n",
        "plt.xlabel(\"Latitude\")\r\n",
        "plt.ylabel(\"Longitude\")\r\n",
        "plt.show()"
      ],
      "execution_count": 4,
      "outputs": [
        {
          "output_type": "display_data",
          "data": {
            "image/png": "[encoded data removed]",
            "text/plain": [
              "<Figure size 432x288 with 1 Axes>"
            ]
          },
          "metadata": {
            "tags": [],
            "needs_background": "light"
          }
        }
      ]
    },
    {
      "cell_type": "code",
      "metadata": {
        "id": "eJSHh4M6XgWv",
        "colab": {
          "base_uri": "https://localhost:8080/",
          "height": 283
        },
        "outputId": "016fb857-e9cf-4a9c-849f-74dfad036aaa"
      },
      "source": [
        "# step 1 and 2\r\n",
        "\r\n",
        "# number of centriod\r\n",
        "K=5\r\n",
        "\r\n",
        "# select random observation as a centriod \r\n",
        "Centroids = (X.sample(n=K))\r\n",
        "plt.scatter(X[\"Latitude\"], X[\"Longitude\"], c=\"blue\")\r\n",
        "plt.scatter(Centroids[\"Latitude\"], Centroids[\"Longitude\"], c=\"red\")\r\n",
        "plt.xlabel(\"Latitude\")\r\n",
        "plt.ylabel(\"Longitude\")\r\n",
        "plt.show()"
      ],
      "execution_count": 5,
      "outputs": [
        {
          "output_type": "display_data",
          "data": {
            "image/png": "[encoded data removed]",
            "text/plain": [
              "<Figure size 432x288 with 1 Axes>"
            ]
          },
          "metadata": {
            "tags": [],
            "needs_background": "light"
          }
        }
      ]
    },
    {
      "cell_type": "code",
      "metadata": {
        "colab": {
          "base_uri": "https://localhost:8080/",
          "height": 195
        },
        "id": "iG4_-W7DXj0a",
        "outputId": "06355d91-9310-4660-8f7c-fc466f824666"
      },
      "source": [
        "Centroids"
      ],
      "execution_count": 6,
      "outputs": [
        {
          "output_type": "execute_result",
          "data": {
            "text/html": [
              "<div>\n",
              "<style scoped>\n",
              "    .dataframe tbody tr th:only-of-type {\n",
              "        vertical-align: middle;\n",
              "    }\n",
              "\n",
              "    .dataframe tbody tr th {\n",
              "        vertical-align: top;\n",
              "    }\n",
              "\n",
              "    .dataframe thead th {\n",
              "        text-align: right;\n",
              "    }\n",
              "</style>\n",
              "<table border=\"1\" class=\"dataframe\">\n",
              "  <thead>\n",
              "    <tr style=\"text-align: right;\">\n",
              "      <th></th>\n",
              "      <th>Latitude</th>\n",
              "      <th>Longitude</th>\n",
              "    </tr>\n",
              "  </thead>\n",
              "  <tbody>\n",
              "    <tr>\n",
              "      <th>22740</th>\n",
              "      <td>38.923394</td>\n",
              "      <td>-76.958404</td>\n",
              "    </tr>\n",
              "    <tr>\n",
              "      <th>18765</th>\n",
              "      <td>38.885133</td>\n",
              "      <td>-76.997326</td>\n",
              "    </tr>\n",
              "    <tr>\n",
              "      <th>8339</th>\n",
              "      <td>38.893331</td>\n",
              "      <td>-77.000576</td>\n",
              "    </tr>\n",
              "    <tr>\n",
              "      <th>5539</th>\n",
              "      <td>38.854564</td>\n",
              "      <td>-76.970576</td>\n",
              "    </tr>\n",
              "    <tr>\n",
              "      <th>5454</th>\n",
              "      <td>38.877582</td>\n",
              "      <td>-76.931267</td>\n",
              "    </tr>\n",
              "  </tbody>\n",
              "</table>\n",
              "</div>"
            ],
            "text/plain": [
              "        Latitude  Longitude\n",
              "22740  38.923394 -76.958404\n",
              "18765  38.885133 -76.997326\n",
              "8339   38.893331 -77.000576\n",
              "5539   38.854564 -76.970576\n",
              "5454   38.877582 -76.931267"
            ]
          },
          "metadata": {
            "tags": []
          },
          "execution_count": 6
        }
      ]
    },
    {
      "cell_type": "code",
      "metadata": {
        "colab": {
          "base_uri": "https://localhost:8080/"
        },
        "id": "UOvdPUNcXsgE",
        "outputId": "6243c46c-5fe6-4942-a54f-34413c5948bb"
      },
      "source": [
        "# Step 3 - Assign all the points to the closest cluster centroid\r\n",
        "# Step 4 - Recompute centroids of newly formed clusters\r\n",
        "# Step 5 - Repeat step 3 and 4\r\n",
        "\r\n",
        "diff = 1\r\n",
        "j=0\r\n",
        "\r\n",
        "while(diff!=0):\r\n",
        "    XD=X\r\n",
        "    i=1\r\n",
        "    for index1, row_c in Centroids.iterrows():\r\n",
        "        ED=[]\r\n",
        "        for index2, row_d in XD.iterrows():\r\n",
        "            d1 = (row_c[\"Latitude\"]-row_d[\"Latitude\"])**2\r\n",
        "            d2 = (row_c[\"Longitude\"]-row_d[\"Longitude\"])**2\r\n",
        "            d = sqrt(d1+d2)\r\n",
        "            ED.append(d)\r\n",
        "        X[i] = ED\r\n",
        "        i = i+1\r\n",
        "    \r\n",
        "    C = []\r\n",
        "    for index, row in X.iterrows():\r\n",
        "        min_dist=row[1]\r\n",
        "        pos=1\r\n",
        "        for i in range(K):\r\n",
        "          if row[i+1] < min_dist:\r\n",
        "                min_dist = row[i+1]\r\n",
        "                pos = i+1\r\n",
        "        C.append(pos)\r\n",
        "    X[\"Cluster\"]=C\r\n",
        "    Centroids_new = X.groupby([\"Cluster\"]).mean()[[\"Longitude\", \"Latitude\"]]\r\n",
        "    if j == 0:\r\n",
        "        diff = 1\r\n",
        "        j = j+1\r\n",
        "    else:\r\n",
        "        diff = (Centroids_new['Longitude'] - Centroids['Longitude']).sum() + (Centroids_new['Latitude'] - Centroids['Latitude']).sum()\r\n",
        "        print(diff.sum())\r\n",
        "    Centroids = X.groupby([\"Cluster\"]).mean()[[\"Longitude\",\"Latitude\"]]"
      ],
      "execution_count": 7,
      "outputs": [
        {
          "output_type": "stream",
          "text": [
            "/usr/local/lib/python3.6/dist-packages/ipykernel_launcher.py:18: SettingWithCopyWarning: \n",
            "A value is trying to be set on a copy of a slice from a DataFrame.\n",
            "Try using .loc[row_indexer,col_indexer] = value instead\n",
            "\n",
            "See the caveats in the documentation: https://pandas.pydata.org/pandas-docs/stable/user_guide/indexing.html#returning-a-view-versus-a-copy\n"
          ],
          "name": "stderr"
        },
        {
          "output_type": "stream",
          "text": [
            "-0.006347994129512813\n",
            "-0.0024259330898175335\n",
            "-0.0015897858237536866\n",
            "-0.001352515722189196\n",
            "-0.0013882614073992272\n",
            "-0.0027607838548320274\n",
            "-0.001730249925870453\n",
            "-0.0003497007593509238\n",
            "-0.00037004455606393094\n",
            "-0.00046140296431929073\n",
            "-0.00028185988095685843\n",
            "-0.00049928938149435\n",
            "-0.0001259899917371854\n",
            "-0.0002424002842928985\n",
            "6.397682647474312e-05\n",
            "-0.00010540264985081649\n",
            "0.00035294956045106574\n",
            "-0.0013206404221932644\n",
            "-0.0010204874127097696\n",
            "-0.002126141156423955\n",
            "-0.0016804633398095348\n",
            "-0.00019387782029411937\n",
            "0.0006006578616535307\n",
            "0.0005288961362310829\n",
            "0.0007667831151536575\n",
            "0.0006346817568712027\n",
            "0.0011518983895442148\n",
            "0.0006555836705288698\n",
            "0.00041781074354929615\n",
            "0.000204537904828328\n",
            "0.0004924201907812176\n",
            "9.77826650725433e-05\n",
            "5.5542308082578984e-05\n",
            "1.3693700751105098e-05\n",
            "0.0\n"
          ],
          "name": "stdout"
        }
      ]
    },
    {
      "cell_type": "code",
      "metadata": {
        "id": "ncDg6YHT1-jH",
        "colab": {
          "base_uri": "https://localhost:8080/",
          "height": 283
        },
        "outputId": "a5160c42-927c-400d-9c6b-5b669804ef7b"
      },
      "source": [
        "color=['blue','green','orange', 'yellow', 'grey']\r\n",
        "for k in range(K):\r\n",
        "    data=X[X[\"Cluster\"]==k+1]\r\n",
        "    plt.scatter(data[\"Latitude\"],data[\"Longitude\"],c=color[k])\r\n",
        "plt.scatter(Centroids[\"Latitude\"],Centroids[\"Longitude\"],c='red')\r\n",
        "plt.xlabel('Latitude')\r\n",
        "plt.ylabel('Longitude')\r\n",
        "plt.show()"
      ],
      "execution_count": 8,
      "outputs": [
        {
          "output_type": "display_data",
          "data": {
            "image/png": "[encoded data removed]",
            "text/plain": [
              "<Figure size 432x288 with 1 Axes>"
            ]
          },
          "metadata": {
            "tags": [],
            "needs_background": "light"
          }
        }
      ]
    },
    {
      "cell_type": "code",
      "metadata": {
        "id": "9qyGlHrA66vJ"
      },
      "source": [
        ""
      ],
      "execution_count": null,
      "outputs": []
    }
  ]
}