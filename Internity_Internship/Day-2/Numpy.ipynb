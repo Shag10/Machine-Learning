{
  "nbformat": 4,
  "nbformat_minor": 0,
  "metadata": {
    "colab": {
      "name": "Numpy.ipynb",
      "provenance": []
    },
    "kernelspec": {
      "name": "python3",
      "display_name": "Python 3"
    }
  },
  "cells": [
    {
      "cell_type": "code",
      "metadata": {
        "id": "QaSpo33XSs5g"
      },
      "source": [
        "import numpy as np"
      ],
      "execution_count": 1,
      "outputs": []
    },
    {
      "cell_type": "code",
      "metadata": {
        "colab": {
          "base_uri": "https://localhost:8080/"
        },
        "id": "se9D7gfUS0YQ",
        "outputId": "5d991e04-c1f8-46fd-ae15-5b11d08ea12b"
      },
      "source": [
        "arr = np.array([1, 2, 3, 4, 5])\r\n",
        "print(arr)\r\n",
        "print(type(arr))"
      ],
      "execution_count": 2,
      "outputs": [
        {
          "output_type": "stream",
          "text": [
            "[1 2 3 4 5]\n",
            "<class 'numpy.ndarray'>\n"
          ],
          "name": "stdout"
        }
      ]
    },
    {
      "cell_type": "code",
      "metadata": {
        "colab": {
          "base_uri": "https://localhost:8080/"
        },
        "id": "Xd6e05tvlIdi",
        "outputId": "4672cfb2-059e-4446-bf12-c92b192aea65"
      },
      "source": [
        "#Accessing Index \r\n",
        "arr = np.array([1, 2, 3, 4])\r\n",
        "print(arr[2] + arr[3])"
      ],
      "execution_count": null,
      "outputs": [
        {
          "output_type": "stream",
          "text": [
            "7\n"
          ],
          "name": "stdout"
        }
      ]
    },
    {
      "cell_type": "code",
      "metadata": {
        "colab": {
          "base_uri": "https://localhost:8080/"
        },
        "id": "e_zS5Nk5lS4n",
        "outputId": "1a28ce93-ae11-4440-ebe2-54efbbeece7a"
      },
      "source": [
        "\r\n",
        "arr = np.array([[1,2,3,4,5], [6,7,8,9,10]])\r\n",
        "print('5th element on 2nd dim: ', arr[1, 4])"
      ],
      "execution_count": 3,
      "outputs": [
        {
          "output_type": "stream",
          "text": [
            "5th element on 2nd dim:  10\n"
          ],
          "name": "stdout"
        }
      ]
    },
    {
      "cell_type": "code",
      "metadata": {
        "colab": {
          "base_uri": "https://localhost:8080/"
        },
        "id": "-djKq0gylXkO",
        "outputId": "7bd56a04-ce32-407d-9eac-aec9ec4642ba"
      },
      "source": [
        "#Array Slicing\r\n",
        "arr = np.array([1, 2, 3, 4, 5, 6, 7])\r\n",
        "print(arr[1:5])"
      ],
      "execution_count": 4,
      "outputs": [
        {
          "output_type": "stream",
          "text": [
            "[2 3 4 5]\n"
          ],
          "name": "stdout"
        }
      ]
    },
    {
      "cell_type": "code",
      "metadata": {
        "colab": {
          "base_uri": "https://localhost:8080/"
        },
        "id": "uyhi8w6ilbhF",
        "outputId": "34c02f1c-794f-4cf5-a80e-f7cad22df2a0"
      },
      "source": [
        "# Negetive Array Slicing\r\n",
        "arr = np.array([1, 2, 3, 4, 5, 6, 7])\r\n",
        "print(arr[-3:-1])"
      ],
      "execution_count": 5,
      "outputs": [
        {
          "output_type": "stream",
          "text": [
            "[5 6]\n"
          ],
          "name": "stdout"
        }
      ]
    },
    {
      "cell_type": "code",
      "metadata": {
        "colab": {
          "base_uri": "https://localhost:8080/"
        },
        "id": "UJddP1dGl3R_",
        "outputId": "90d226ee-723d-44e5-ffcc-845fc81b91be"
      },
      "source": [
        "#Shaping array\r\n",
        "arr = np.array([[1, 2, 3, 4], [5, 6, 7, 8]])\r\n",
        "print(arr.shape)"
      ],
      "execution_count": 6,
      "outputs": [
        {
          "output_type": "stream",
          "text": [
            "(2, 4)\n"
          ],
          "name": "stdout"
        }
      ]
    },
    {
      "cell_type": "code",
      "metadata": {
        "colab": {
          "base_uri": "https://localhost:8080/"
        },
        "id": "hEdN7kQgmfCE",
        "outputId": "f84cd45a-2a63-46c6-f430-74d30eb81430"
      },
      "source": [
        "#Reshaping array 1D to 2D\r\n",
        "arr = np.array([1, 2, 3, 4, 5, 6, 7, 8, 9, 10, 11, 12])\r\n",
        "newarr = arr.reshape(4, 3)\r\n",
        "print(newarr)"
      ],
      "execution_count": 7,
      "outputs": [
        {
          "output_type": "stream",
          "text": [
            "[[ 1  2  3]\n",
            " [ 4  5  6]\n",
            " [ 7  8  9]\n",
            " [10 11 12]]\n"
          ],
          "name": "stdout"
        }
      ]
    },
    {
      "cell_type": "code",
      "metadata": {
        "colab": {
          "base_uri": "https://localhost:8080/"
        },
        "id": "p9efGyn8nTKs",
        "outputId": "309f150d-5f75-4670-92d5-757ed7f27783"
      },
      "source": [
        "#Reshaping array 1D to 3D\r\n",
        "arr = np.array([1, 2, 3, 4, 5, 6, 7, 8, 9, 10, 11, 12])\r\n",
        "newarr = arr.reshape(2, 3, 2)\r\n",
        "print(newarr)"
      ],
      "execution_count": 8,
      "outputs": [
        {
          "output_type": "stream",
          "text": [
            "[[[ 1  2]\n",
            "  [ 3  4]\n",
            "  [ 5  6]]\n",
            "\n",
            " [[ 7  8]\n",
            "  [ 9 10]\n",
            "  [11 12]]]\n"
          ],
          "name": "stdout"
        }
      ]
    },
    {
      "cell_type": "markdown",
      "metadata": {
        "id": "SK9xMCuxW8ou"
      },
      "source": [
        "# **numpy.amin() and numpy.amax()**\r\n",
        "These functions return the minimum and the maximum from the elements in the given array along the specified axis."
      ]
    },
    {
      "cell_type": "code",
      "metadata": {
        "id": "vfYqWSOjnWRk",
        "colab": {
          "base_uri": "https://localhost:8080/"
        },
        "outputId": "ee05f023-926b-4f4a-8e62-5a5e3ec4f45a"
      },
      "source": [
        "#Statistical function\r\n",
        "a = np.array([[3,7,5],[8,4,3],[2,4,9]]) \r\n",
        "\r\n",
        "print('Our array is:') \r\n",
        "print(a)  \r\n",
        "print('\\n')  \r\n",
        "\r\n",
        "print('Applying amin() function:') \r\n",
        "print(np.amin(a,1)) \r\n",
        "print('\\n')  \r\n",
        "\r\n",
        "print('Applying amin() function again:') \r\n",
        "print(np.amin(a,0)) \r\n",
        "print('\\n')  \r\n",
        "\r\n",
        "print('Applying amax() function:') \r\n",
        "print(np.amax(a)) \r\n",
        "print('\\n')  \r\n",
        "\r\n",
        "print('Applying amax() function again:') \r\n",
        "print(np.amax(a, axis = 0))"
      ],
      "execution_count": 12,
      "outputs": [
        {
          "output_type": "stream",
          "text": [
            "Our array is:\n",
            "[[3 7 5]\n",
            " [8 4 3]\n",
            " [2 4 9]]\n",
            "\n",
            "\n",
            "Applying amin() function:\n",
            "[3 3 2]\n",
            "\n",
            "\n",
            "Applying amin() function again:\n",
            "[2 4 3]\n",
            "\n",
            "\n",
            "Applying amax() function:\n",
            "9\n",
            "\n",
            "\n",
            "Applying amax() function again:\n",
            "[8 7 9]\n"
          ],
          "name": "stdout"
        }
      ]
    },
    {
      "cell_type": "markdown",
      "metadata": {
        "id": "JXwfiZc5XF40"
      },
      "source": [
        "# **Broadcasting**\r\n",
        "\r\n",
        "The term broadcasting refers to the ability of NumPy to treat arrays of different shapes during arithmetic operations. Arithmetic operations on arrays are usually done on corresponding elements. If two arrays are of exactly the same shape, then these operations are smoothly performed."
      ]
    },
    {
      "cell_type": "code",
      "metadata": {
        "colab": {
          "base_uri": "https://localhost:8080/"
        },
        "id": "DKNbWNciWSub",
        "outputId": "450c0224-587a-4f80-d71c-13292ef8dd60"
      },
      "source": [
        "a = np.array([1,2,3,4]) \r\n",
        "b = np.array([10,20,30,40]) \r\n",
        "c = a * b \r\n",
        "print(c)"
      ],
      "execution_count": 14,
      "outputs": [
        {
          "output_type": "stream",
          "text": [
            "[ 10  40  90 160]\n"
          ],
          "name": "stdout"
        }
      ]
    },
    {
      "cell_type": "markdown",
      "metadata": {
        "id": "tHD8FCkaXbA0"
      },
      "source": [
        "# **numpy.ndarray.byteswap()**\r\n",
        "\r\n",
        "The numpy.ndarray.byteswap() function toggles between the two representations: bigendian and little-endian."
      ]
    },
    {
      "cell_type": "code",
      "metadata": {
        "colab": {
          "base_uri": "https://localhost:8080/"
        },
        "id": "T-_8488WXONB",
        "outputId": "cc4a4c11-544f-41bb-c281-e533168b9436"
      },
      "source": [
        "a = np.array([1, 256, 8755], dtype = np.int16) \r\n",
        "\r\n",
        "print('Our array is:') \r\n",
        "print(a)  \r\n",
        "\r\n",
        "print('Representation of data in memory in hexadecimal form:')  \r\n",
        "print(map(hex,a))  \r\n",
        "# byteswap() function swaps in place by passing True parameter \r\n",
        "\r\n",
        "print('Applying byteswap() function:') \r\n",
        "print(a.byteswap(True)) \r\n",
        "\r\n",
        "print('In hexadecimal form:') \r\n",
        "print(map(hex,a)) "
      ],
      "execution_count": 15,
      "outputs": [
        {
          "output_type": "stream",
          "text": [
            "Our array is:\n",
            "[   1  256 8755]\n",
            "Representation of data in memory in hexadecimal form:\n",
            "<map object at 0x7f0ae40d22e8>\n",
            "Applying byteswap() function:\n",
            "[  256     1 13090]\n",
            "In hexadecimal form:\n",
            "<map object at 0x7f0ae40d2208>\n"
          ],
          "name": "stdout"
        }
      ]
    },
    {
      "cell_type": "code",
      "metadata": {
        "id": "tBVeR1YRXwQA"
      },
      "source": [
        ""
      ],
      "execution_count": null,
      "outputs": []
    }
  ]
}