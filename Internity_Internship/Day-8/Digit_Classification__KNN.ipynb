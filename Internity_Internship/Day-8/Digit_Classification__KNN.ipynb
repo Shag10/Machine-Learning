{
  "nbformat": 4,
  "nbformat_minor": 0,
  "metadata": {
    "colab": {
      "name": "Digit_Classification _KNN.ipynb",
      "provenance": []
    },
    "kernelspec": {
      "name": "python3",
      "display_name": "Python 3"
    }
  },
  "cells": [
    {
      "cell_type": "code",
      "metadata": {
        "id": "Pbk_aWBeVZkQ"
      },
      "source": [
        "# import the necessary packages\r\n",
        "from __future__ import print_function\r\n",
        "from sklearn.model_selection import train_test_split\r\n",
        "from sklearn.neighbors import KNeighborsClassifier\r\n",
        "from sklearn.metrics import confusion_matrix\r\n",
        "from sklearn.metrics import classification_report\r\n",
        "from sklearn import datasets\r\n",
        "from skimage import exposure\r\n",
        "import numpy as np\r\n",
        "#import imutils\r\n",
        "import cv2\r\n",
        "import matplotlib.pyplot as plt\r\n"
      ],
      "execution_count": 4,
      "outputs": []
    },
    {
      "cell_type": "code",
      "metadata": {
        "id": "QuXLUdahVhkR"
      },
      "source": [
        "# load the MNIST digits dataset\r\n",
        "mnist = datasets.load_digits()"
      ],
      "execution_count": 5,
      "outputs": []
    },
    {
      "cell_type": "code",
      "metadata": {
        "id": "F16mq7f9Z6xT"
      },
      "source": [
        "# take the MNIST data and construct the training and testing split, using 75% of the\r\n",
        "# data for training and 25% for testing\r\n",
        "\r\n",
        "(trainset, testset, trainLabels, testLabels) = train_test_split(np.array(mnist.data),\r\n",
        "mnist.target, test_size=0.25, random_state=42)\r\n"
      ],
      "execution_count": 11,
      "outputs": []
    },
    {
      "cell_type": "code",
      "metadata": {
        "colab": {
          "base_uri": "https://localhost:8080/"
        },
        "id": "pLT9Mtu1Z_Bm",
        "outputId": "88cd2b0f-9f52-42da-b47d-4498fbe716be"
      },
      "source": [
        "# now, let's take 10% of the training data and use that for validation\r\n",
        "\r\n",
        "(trainset, valset, trainLabels, valLabels) = train_test_split(trainset, trainLabels,\r\n",
        "test_size=0.1, random_state=84)\r\n",
        "\r\n",
        "# show the sizes of each data split\r\n",
        "\r\n",
        "print(\"training data points: {}\".format(len(trainLabels)))\r\n",
        "print(\"validation data points: {}\".format(len(valLabels)))\r\n",
        "print(\"testing data points: {}\".format(len(testLabels)))\r\n"
      ],
      "execution_count": 12,
      "outputs": [
        {
          "output_type": "stream",
          "text": [
            "training data points: 1212\n",
            "validation data points: 135\n",
            "testing data points: 450\n"
          ],
          "name": "stdout"
        }
      ]
    },
    {
      "cell_type": "code",
      "metadata": {
        "colab": {
          "base_uri": "https://localhost:8080/"
        },
        "id": "YzTg4MYLaDAI",
        "outputId": "98387087-3413-4ad0-ca66-e4621da4e43b"
      },
      "source": [
        "# initialize the values of k for our k-Nearest Neighbor classifier along with the\r\n",
        "# list of accuracies for each value of k\r\n",
        "\r\n",
        "kVals = range(1, 30, 2)\r\n",
        "accuracies = []\r\n",
        "\r\n",
        "# loop over various values of `k` for the k-Nearest Neighbor classifier\r\n",
        "\r\n",
        "for k in range(1, 30, 2):\r\n",
        "          # train the k-Nearest Neighbor classifier with the current value of `k`\r\n",
        "          model = KNeighborsClassifier(n_neighbors=k)\r\n",
        "          model.fit(trainset, trainLabels)\r\n",
        "          # evaluate the model and update the accuracies list\r\n",
        "          score = model.score(valset, valLabels)\r\n",
        "          print(\"k=%d, accuracy=%.2f%%\" % (k, score * 100))\r\n",
        "          accuracies.append(score)\r\n",
        "          \r\n",
        "# find the value of k that has the largest accuracy\r\n",
        "\r\n",
        "i = np.argmax(accuracies)\r\n",
        "print(\"k=%d achieved highest accuracy of %.2f%% on validation data\" % (kVals[i],\r\n",
        "accuracies[i] * 100))"
      ],
      "execution_count": 13,
      "outputs": [
        {
          "output_type": "stream",
          "text": [
            "k=1, accuracy=99.26%\n",
            "k=3, accuracy=99.26%\n",
            "k=5, accuracy=99.26%\n",
            "k=7, accuracy=99.26%\n",
            "k=9, accuracy=99.26%\n",
            "k=11, accuracy=99.26%\n",
            "k=13, accuracy=99.26%\n",
            "k=15, accuracy=99.26%\n",
            "k=17, accuracy=98.52%\n",
            "k=19, accuracy=98.52%\n",
            "k=21, accuracy=97.78%\n",
            "k=23, accuracy=97.04%\n",
            "k=25, accuracy=97.78%\n",
            "k=27, accuracy=97.04%\n",
            "k=29, accuracy=97.04%\n",
            "k=1 achieved highest accuracy of 99.26% on validation data\n"
          ],
          "name": "stdout"
        }
      ]
    },
    {
      "cell_type": "code",
      "metadata": {
        "colab": {
          "base_uri": "https://localhost:8080/"
        },
        "id": "14FjXwcVaKy7",
        "outputId": "70c2be36-ba9b-4aa5-8142-fbb8a2d64d1c"
      },
      "source": [
        "# re-train our classifier using the best k value and predict the labels of the\r\n",
        "# test data\r\n",
        "\r\n",
        "model = KNeighborsClassifier(n_neighbors=kVals[i])\r\n",
        "model.fit(trainset, trainLabels)\r\n",
        "predictions = model.predict(testset)\r\n",
        "#print(predictions[1])\r\n",
        "\r\n",
        "# show a final classification report demonstrating the accuracy of the classifier\r\n",
        "# for each of the digits\r\n",
        "\r\n",
        "print(\"EVALUATION ON TESTING DATA\")\r\n",
        "print(classification_report(testLabels, predictions))\r\n",
        "\r\n",
        "print (\"Confusion matrix\")\r\n",
        "print(confusion_matrix(testLabels,predictions))\r\n"
      ],
      "execution_count": 14,
      "outputs": [
        {
          "output_type": "stream",
          "text": [
            "EVALUATION ON TESTING DATA\n",
            "              precision    recall  f1-score   support\n",
            "\n",
            "           0       1.00      1.00      1.00        43\n",
            "           1       0.95      1.00      0.97        37\n",
            "           2       1.00      1.00      1.00        38\n",
            "           3       0.98      0.98      0.98        46\n",
            "           4       0.98      0.98      0.98        55\n",
            "           5       0.98      1.00      0.99        59\n",
            "           6       1.00      1.00      1.00        45\n",
            "           7       1.00      0.98      0.99        41\n",
            "           8       0.97      0.95      0.96        38\n",
            "           9       0.96      0.94      0.95        48\n",
            "\n",
            "    accuracy                           0.98       450\n",
            "   macro avg       0.98      0.98      0.98       450\n",
            "weighted avg       0.98      0.98      0.98       450\n",
            "\n",
            "Confusion matrix\n",
            "[[43  0  0  0  0  0  0  0  0  0]\n",
            " [ 0 37  0  0  0  0  0  0  0  0]\n",
            " [ 0  0 38  0  0  0  0  0  0  0]\n",
            " [ 0  0  0 45  0  0  0  0  1  0]\n",
            " [ 0  1  0  0 54  0  0  0  0  0]\n",
            " [ 0  0  0  0  0 59  0  0  0  0]\n",
            " [ 0  0  0  0  0  0 45  0  0  0]\n",
            " [ 0  0  0  0  0  0  0 40  0  1]\n",
            " [ 0  1  0  0  0  0  0  0 36  1]\n",
            " [ 0  0  0  1  1  1  0  0  0 45]]\n"
          ],
          "name": "stdout"
        }
      ]
    },
    {
      "cell_type": "code",
      "metadata": {
        "colab": {
          "base_uri": "https://localhost:8080/",
          "height": 1000
        },
        "id": "wLcWBHpIaSyl",
        "outputId": "304ca2f5-6b66-47a6-f382-eab710c69262"
      },
      "source": [
        "# loop over a few random digits\r\n",
        "\r\n",
        "for i in np.random.randint(0, high=len(testLabels), size=(5,)):\r\n",
        "         # grab the image and classify it\r\n",
        "         image = testset[i]\r\n",
        "         prediction = model.predict([image])[0]\r\n",
        "         # convert the image for a 64-dim array to an 8 x 8 image compatible with OpenCV,\r\n",
        "         # then resize it to 32 x 32 pixels so we can see it better\r\n",
        "##         image = image.reshape((64, 64))\r\n",
        "##         image = exposure.rescale_intensity(image, out_range=(0, 255))\r\n",
        "##         image = imutils.resize(image, width=32, inter=cv2.INTER_CUBIC)\r\n",
        "         \r\n",
        "         # show the prediction\r\n",
        "         \r\n",
        "         imgdata = np.array(image, dtype='float')\r\n",
        "         pixels = imgdata.reshape((8,8))\r\n",
        "         plt.imshow(pixels,cmap='gray')\r\n",
        "         plt.annotate(prediction,(3,3),bbox={'facecolor':'white'},fontsize=16)\r\n",
        "         print(\"i think tha digit is : {}\".format(prediction))\r\n",
        "         #cv2.imshow(\"image\", image)\r\n",
        "         plt.show()\r\n",
        "         cv2.waitKey(0)"
      ],
      "execution_count": 15,
      "outputs": [
        {
          "output_type": "stream",
          "text": [
            "i think tha digit is : 3\n"
          ],
          "name": "stdout"
        },
        {
          "output_type": "display_data",
          "data": {
            "image/png": "[encoded data removed]",
            "text/plain": [
              "<Figure size 432x288 with 1 Axes>"
            ]
          },
          "metadata": {
            "tags": [],
            "needs_background": "light"
          }
        },
        {
          "output_type": "stream",
          "text": [
            "i think tha digit is : 4\n"
          ],
          "name": "stdout"
        },
        {
          "output_type": "display_data",
          "data": {
            "image/png": "[encoded data removed]",
            "text/plain": [
              "<Figure size 432x288 with 1 Axes>"
            ]
          },
          "metadata": {
            "tags": [],
            "needs_background": "light"
          }
        },
        {
          "output_type": "stream",
          "text": [
            "i think tha digit is : 3\n"
          ],
          "name": "stdout"
        },
        {
          "output_type": "display_data",
          "data": {
            "image/png": "[encoded data removed]",
            "text/plain": [
              "<Figure size 432x288 with 1 Axes>"
            ]
          },
          "metadata": {
            "tags": [],
            "needs_background": "light"
          }
        },
        {
          "output_type": "stream",
          "text": [
            "i think tha digit is : 0\n"
          ],
          "name": "stdout"
        },
        {
          "output_type": "display_data",
          "data": {
            "image/png": "[encoded data removed]",
            "text/plain": [
              "<Figure size 432x288 with 1 Axes>"
            ]
          },
          "metadata": {
            "tags": [],
            "needs_background": "light"
          }
        },
        {
          "output_type": "stream",
          "text": [
            "i think tha digit is : 3\n"
          ],
          "name": "stdout"
        },
        {
          "output_type": "display_data",
          "data": {
            "image/png": "[encoded data removed]",
            "text/plain": [
              "<Figure size 432x288 with 1 Axes>"
            ]
          },
          "metadata": {
            "tags": [],
            "needs_background": "light"
          }
        }
      ]
    },
    {
      "cell_type": "code",
      "metadata": {
        "id": "DFNxR5o-ac-b"
      },
      "source": [
        ""
      ],
      "execution_count": null,
      "outputs": []
    }
  ]
}