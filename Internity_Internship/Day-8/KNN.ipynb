{
  "nbformat": 4,
  "nbformat_minor": 0,
  "metadata": {
    "colab": {
      "name": "KNN.ipynb",
      "provenance": []
    },
    "kernelspec": {
      "name": "python3",
      "display_name": "Python 3"
    }
  },
  "cells": [
    {
      "cell_type": "markdown",
      "metadata": {
        "id": "IqG7lB7X2Y2H"
      },
      "source": [
        "# **KNN from scratch**"
      ]
    },
    {
      "cell_type": "code",
      "metadata": {
        "id": "TCxr81dS2fj2"
      },
      "source": [
        "import pandas as pd\r\n",
        "import numpy as np"
      ],
      "execution_count": 2,
      "outputs": []
    },
    {
      "cell_type": "code",
      "metadata": {
        "id": "SLLknfCF2jli"
      },
      "source": [
        "data = pd.read_csv(\"Iris.csv\")"
      ],
      "execution_count": 3,
      "outputs": []
    },
    {
      "cell_type": "code",
      "metadata": {
        "colab": {
          "base_uri": "https://localhost:8080/",
          "height": 195
        },
        "id": "Cio3Ca9g38AZ",
        "outputId": "a4d20fa0-77cd-449c-e5b0-bb33677a1d0b"
      },
      "source": [
        "data.head()"
      ],
      "execution_count": 4,
      "outputs": [
        {
          "output_type": "execute_result",
          "data": {
            "text/html": [
              "<div>\n",
              "<style scoped>\n",
              "    .dataframe tbody tr th:only-of-type {\n",
              "        vertical-align: middle;\n",
              "    }\n",
              "\n",
              "    .dataframe tbody tr th {\n",
              "        vertical-align: top;\n",
              "    }\n",
              "\n",
              "    .dataframe thead th {\n",
              "        text-align: right;\n",
              "    }\n",
              "</style>\n",
              "<table border=\"1\" class=\"dataframe\">\n",
              "  <thead>\n",
              "    <tr style=\"text-align: right;\">\n",
              "      <th></th>\n",
              "      <th>Id</th>\n",
              "      <th>SepalLengthCm</th>\n",
              "      <th>SepalWidthCm</th>\n",
              "      <th>PetalLengthCm</th>\n",
              "      <th>PetalWidthCm</th>\n",
              "      <th>Species</th>\n",
              "    </tr>\n",
              "  </thead>\n",
              "  <tbody>\n",
              "    <tr>\n",
              "      <th>0</th>\n",
              "      <td>1</td>\n",
              "      <td>5.1</td>\n",
              "      <td>3.5</td>\n",
              "      <td>1.4</td>\n",
              "      <td>0.2</td>\n",
              "      <td>Iris-setosa</td>\n",
              "    </tr>\n",
              "    <tr>\n",
              "      <th>1</th>\n",
              "      <td>2</td>\n",
              "      <td>4.9</td>\n",
              "      <td>3.0</td>\n",
              "      <td>1.4</td>\n",
              "      <td>0.2</td>\n",
              "      <td>Iris-setosa</td>\n",
              "    </tr>\n",
              "    <tr>\n",
              "      <th>2</th>\n",
              "      <td>3</td>\n",
              "      <td>4.7</td>\n",
              "      <td>3.2</td>\n",
              "      <td>1.3</td>\n",
              "      <td>0.2</td>\n",
              "      <td>Iris-setosa</td>\n",
              "    </tr>\n",
              "    <tr>\n",
              "      <th>3</th>\n",
              "      <td>4</td>\n",
              "      <td>4.6</td>\n",
              "      <td>3.1</td>\n",
              "      <td>1.5</td>\n",
              "      <td>0.2</td>\n",
              "      <td>Iris-setosa</td>\n",
              "    </tr>\n",
              "    <tr>\n",
              "      <th>4</th>\n",
              "      <td>5</td>\n",
              "      <td>5.0</td>\n",
              "      <td>3.6</td>\n",
              "      <td>1.4</td>\n",
              "      <td>0.2</td>\n",
              "      <td>Iris-setosa</td>\n",
              "    </tr>\n",
              "  </tbody>\n",
              "</table>\n",
              "</div>"
            ],
            "text/plain": [
              "   Id  SepalLengthCm  SepalWidthCm  PetalLengthCm  PetalWidthCm      Species\n",
              "0   1            5.1           3.5            1.4           0.2  Iris-setosa\n",
              "1   2            4.9           3.0            1.4           0.2  Iris-setosa\n",
              "2   3            4.7           3.2            1.3           0.2  Iris-setosa\n",
              "3   4            4.6           3.1            1.5           0.2  Iris-setosa\n",
              "4   5            5.0           3.6            1.4           0.2  Iris-setosa"
            ]
          },
          "metadata": {
            "tags": []
          },
          "execution_count": 4
        }
      ]
    },
    {
      "cell_type": "markdown",
      "metadata": {
        "id": "GAeP0LVItT-9"
      },
      "source": [
        "## **Visualising different species(Classifiers) on which we are going to work**"
      ]
    },
    {
      "cell_type": "code",
      "metadata": {
        "id": "IvrgbUmz4IZn"
      },
      "source": [
        "Species = list(set(data['Species']))\r\n",
        "Specie1 = data[data['Species']==Species[0]]\r\n",
        "Specie2 = data[data['Species']==Species[1]]\r\n",
        "Specie3 = data[data['Species']==Species[2]]"
      ],
      "execution_count": 5,
      "outputs": []
    },
    {
      "cell_type": "code",
      "metadata": {
        "id": "7G7o1sz54O3O",
        "colab": {
          "base_uri": "https://localhost:8080/",
          "height": 312
        },
        "outputId": "20c58ec0-47f6-4ad0-b691-242beb5aaa61"
      },
      "source": [
        "import matplotlib.pyplot as plt\r\n",
        "plt.scatter(Specie1['PetalLengthCm'], Specie1['PetalWidthCm'], label=Species[0])\r\n",
        "plt.scatter(Specie2['PetalLengthCm'], Specie2['PetalWidthCm'], label=Species[1])\r\n",
        "plt.scatter(Specie3['PetalLengthCm'], Specie3['PetalWidthCm'], label=Species[2])\r\n",
        "plt.xlabel('PetalLengthCM')\r\n",
        "plt.ylabel('PetalWidthCM')\r\n",
        "plt.legend()\r\n",
        "plt.title('Different Species Visualization')"
      ],
      "execution_count": 6,
      "outputs": [
        {
          "output_type": "execute_result",
          "data": {
            "text/plain": [
              "Text(0.5, 1.0, 'Different Species Visualization')"
            ]
          },
          "metadata": {
            "tags": []
          },
          "execution_count": 6
        },
        {
          "output_type": "display_data",
          "data": {
            "image/png": "[encoded data removed]",
            "text/plain": [
              "<Figure size 432x288 with 1 Axes>"
            ]
          },
          "metadata": {
            "tags": [],
            "needs_background": "light"
          }
        }
      ]
    },
    {
      "cell_type": "markdown",
      "metadata": {
        "id": "qGId1yCKtnB-"
      },
      "source": [
        "## **Now our task is to predict the new data point belongs to which species based on sepalLength, sepalWidth, petalLength, petalWidth**\r\n",
        "\r\n",
        "\r\n",
        "\r\n",
        "### **Preprocessing Data**"
      ]
    },
    {
      "cell_type": "code",
      "metadata": {
        "id": "tOfrZv8J4V4q",
        "colab": {
          "base_uri": "https://localhost:8080/",
          "height": 195
        },
        "outputId": "b2b0e2e6-d9b2-40c1-a2da-d5b053da0682"
      },
      "source": [
        "#Removing Id column from data, which is unnecessary\r\n",
        "req_data = data.iloc[:,1:]\r\n",
        "req_data.head(5)"
      ],
      "execution_count": 7,
      "outputs": [
        {
          "output_type": "execute_result",
          "data": {
            "text/html": [
              "<div>\n",
              "<style scoped>\n",
              "    .dataframe tbody tr th:only-of-type {\n",
              "        vertical-align: middle;\n",
              "    }\n",
              "\n",
              "    .dataframe tbody tr th {\n",
              "        vertical-align: top;\n",
              "    }\n",
              "\n",
              "    .dataframe thead th {\n",
              "        text-align: right;\n",
              "    }\n",
              "</style>\n",
              "<table border=\"1\" class=\"dataframe\">\n",
              "  <thead>\n",
              "    <tr style=\"text-align: right;\">\n",
              "      <th></th>\n",
              "      <th>SepalLengthCm</th>\n",
              "      <th>SepalWidthCm</th>\n",
              "      <th>PetalLengthCm</th>\n",
              "      <th>PetalWidthCm</th>\n",
              "      <th>Species</th>\n",
              "    </tr>\n",
              "  </thead>\n",
              "  <tbody>\n",
              "    <tr>\n",
              "      <th>0</th>\n",
              "      <td>5.1</td>\n",
              "      <td>3.5</td>\n",
              "      <td>1.4</td>\n",
              "      <td>0.2</td>\n",
              "      <td>Iris-setosa</td>\n",
              "    </tr>\n",
              "    <tr>\n",
              "      <th>1</th>\n",
              "      <td>4.9</td>\n",
              "      <td>3.0</td>\n",
              "      <td>1.4</td>\n",
              "      <td>0.2</td>\n",
              "      <td>Iris-setosa</td>\n",
              "    </tr>\n",
              "    <tr>\n",
              "      <th>2</th>\n",
              "      <td>4.7</td>\n",
              "      <td>3.2</td>\n",
              "      <td>1.3</td>\n",
              "      <td>0.2</td>\n",
              "      <td>Iris-setosa</td>\n",
              "    </tr>\n",
              "    <tr>\n",
              "      <th>3</th>\n",
              "      <td>4.6</td>\n",
              "      <td>3.1</td>\n",
              "      <td>1.5</td>\n",
              "      <td>0.2</td>\n",
              "      <td>Iris-setosa</td>\n",
              "    </tr>\n",
              "    <tr>\n",
              "      <th>4</th>\n",
              "      <td>5.0</td>\n",
              "      <td>3.6</td>\n",
              "      <td>1.4</td>\n",
              "      <td>0.2</td>\n",
              "      <td>Iris-setosa</td>\n",
              "    </tr>\n",
              "  </tbody>\n",
              "</table>\n",
              "</div>"
            ],
            "text/plain": [
              "   SepalLengthCm  SepalWidthCm  PetalLengthCm  PetalWidthCm      Species\n",
              "0            5.1           3.5            1.4           0.2  Iris-setosa\n",
              "1            4.9           3.0            1.4           0.2  Iris-setosa\n",
              "2            4.7           3.2            1.3           0.2  Iris-setosa\n",
              "3            4.6           3.1            1.5           0.2  Iris-setosa\n",
              "4            5.0           3.6            1.4           0.2  Iris-setosa"
            ]
          },
          "metadata": {
            "tags": []
          },
          "execution_count": 7
        }
      ]
    },
    {
      "cell_type": "code",
      "metadata": {
        "colab": {
          "base_uri": "https://localhost:8080/",
          "height": 195
        },
        "id": "RUlr4HJT4jHk",
        "outputId": "5b1e2f4b-601a-4fb2-a91a-f34f613beea5"
      },
      "source": [
        "#Shuffling the data, to avoid overFitting problem\r\n",
        "shuffle_index = np.random.permutation(req_data.shape[0])  #shuffling the row index of our dataset\r\n",
        "req_data = req_data.iloc[shuffle_index]\r\n",
        "req_data.head(5)"
      ],
      "execution_count": 8,
      "outputs": [
        {
          "output_type": "execute_result",
          "data": {
            "text/html": [
              "<div>\n",
              "<style scoped>\n",
              "    .dataframe tbody tr th:only-of-type {\n",
              "        vertical-align: middle;\n",
              "    }\n",
              "\n",
              "    .dataframe tbody tr th {\n",
              "        vertical-align: top;\n",
              "    }\n",
              "\n",
              "    .dataframe thead th {\n",
              "        text-align: right;\n",
              "    }\n",
              "</style>\n",
              "<table border=\"1\" class=\"dataframe\">\n",
              "  <thead>\n",
              "    <tr style=\"text-align: right;\">\n",
              "      <th></th>\n",
              "      <th>SepalLengthCm</th>\n",
              "      <th>SepalWidthCm</th>\n",
              "      <th>PetalLengthCm</th>\n",
              "      <th>PetalWidthCm</th>\n",
              "      <th>Species</th>\n",
              "    </tr>\n",
              "  </thead>\n",
              "  <tbody>\n",
              "    <tr>\n",
              "      <th>147</th>\n",
              "      <td>6.5</td>\n",
              "      <td>3.0</td>\n",
              "      <td>5.2</td>\n",
              "      <td>2.0</td>\n",
              "      <td>Iris-virginica</td>\n",
              "    </tr>\n",
              "    <tr>\n",
              "      <th>119</th>\n",
              "      <td>6.0</td>\n",
              "      <td>2.2</td>\n",
              "      <td>5.0</td>\n",
              "      <td>1.5</td>\n",
              "      <td>Iris-virginica</td>\n",
              "    </tr>\n",
              "    <tr>\n",
              "      <th>29</th>\n",
              "      <td>4.7</td>\n",
              "      <td>3.2</td>\n",
              "      <td>1.6</td>\n",
              "      <td>0.2</td>\n",
              "      <td>Iris-setosa</td>\n",
              "    </tr>\n",
              "    <tr>\n",
              "      <th>109</th>\n",
              "      <td>7.2</td>\n",
              "      <td>3.6</td>\n",
              "      <td>6.1</td>\n",
              "      <td>2.5</td>\n",
              "      <td>Iris-virginica</td>\n",
              "    </tr>\n",
              "    <tr>\n",
              "      <th>102</th>\n",
              "      <td>7.1</td>\n",
              "      <td>3.0</td>\n",
              "      <td>5.9</td>\n",
              "      <td>2.1</td>\n",
              "      <td>Iris-virginica</td>\n",
              "    </tr>\n",
              "  </tbody>\n",
              "</table>\n",
              "</div>"
            ],
            "text/plain": [
              "     SepalLengthCm  SepalWidthCm  PetalLengthCm  PetalWidthCm         Species\n",
              "147            6.5           3.0            5.2           2.0  Iris-virginica\n",
              "119            6.0           2.2            5.0           1.5  Iris-virginica\n",
              "29             4.7           3.2            1.6           0.2     Iris-setosa\n",
              "109            7.2           3.6            6.1           2.5  Iris-virginica\n",
              "102            7.1           3.0            5.9           2.1  Iris-virginica"
            ]
          },
          "metadata": {
            "tags": []
          },
          "execution_count": 8
        }
      ]
    },
    {
      "cell_type": "code",
      "metadata": {
        "id": "uVi3EcCl4oex"
      },
      "source": [
        "#Setting 70% data into training data, therefore 30% data will be our test data\r\n",
        "train_size = int(req_data.shape[0]*0.7)"
      ],
      "execution_count": 9,
      "outputs": []
    },
    {
      "cell_type": "code",
      "metadata": {
        "id": "DbMQRN8H4uKw",
        "colab": {
          "base_uri": "https://localhost:8080/"
        },
        "outputId": "e2914841-2ab4-4943-fee2-2b9b2cb5d7f1"
      },
      "source": [
        "train_df = req_data.iloc[:train_size,:] \r\n",
        "test_df = req_data.iloc[train_size:,:]\r\n",
        "train = train_df.values\r\n",
        "test = test_df.values\r\n",
        "y_true = test[:,-1]\r\n",
        "print('Train_Shape: ',train_df.shape)\r\n",
        "print('Test_Shape: ',test_df.shape)"
      ],
      "execution_count": 10,
      "outputs": [
        {
          "output_type": "stream",
          "text": [
            "Train_Shape:  (105, 5)\n",
            "Test_Shape:  (45, 5)\n"
          ],
          "name": "stdout"
        }
      ]
    },
    {
      "cell_type": "markdown",
      "metadata": {
        "id": "-gCUHysoumiI"
      },
      "source": [
        "## **KNN in 3 Steps**\r\n",
        "1 Measure distance (Euclidean Distance or Manhattan Distance)\r\n",
        "\r\n",
        "2 Get nearest neighbours\r\n",
        "\r\n",
        "3 Predict Classifier\r\n",
        "\r\n"
      ]
    },
    {
      "cell_type": "markdown",
      "metadata": {
        "id": "6I3y0jnbuv1F"
      },
      "source": [
        "## **Step 1**\r\n",
        "\r\n",
        "Measuring Distance using Euclidean Distance\r\n",
        "\r\n",
        "Mathematical formula √ (x2 − x1)^2 + (y2 − y1)^2"
      ]
    },
    {
      "cell_type": "code",
      "metadata": {
        "id": "9QKBNGfI69g3"
      },
      "source": [
        "from math import sqrt\r\n",
        "def euclidean_distance(x_test, x_train):\r\n",
        "    distance = 0\r\n",
        "    for i in range(len(x_test)-1):\r\n",
        "        distance += (x_test[i]-x_train[i])**2\r\n",
        "    return sqrt(distance)"
      ],
      "execution_count": 11,
      "outputs": []
    },
    {
      "cell_type": "markdown",
      "metadata": {
        "id": "uRPHnix4u9bR"
      },
      "source": [
        "## **Step 2**\r\n",
        "\r\n",
        "Getting the nearest neighbours"
      ]
    },
    {
      "cell_type": "code",
      "metadata": {
        "id": "gTQYwrLv7FhB"
      },
      "source": [
        "def get_neighbors(x_test, x_train, num_neighbors):\r\n",
        "    distances = []\r\n",
        "    data = []\r\n",
        "    for i in x_train:\r\n",
        "        distances.append(euclidean_distance(x_test,i))\r\n",
        "        data.append(i)\r\n",
        "    distances = np.array(distances)\r\n",
        "    data = np.array(data)\r\n",
        "    sort_indexes = distances.argsort()           # argsort() function returns indices by sorting distances data in ascending order\r\n",
        "    data = data[sort_indexes]                    # modifying our data based on sorted indices, so that we can get the nearest neightbours\r\n",
        "    return data[:num_neighbors]   "
      ],
      "execution_count": 12,
      "outputs": []
    },
    {
      "cell_type": "markdown",
      "metadata": {
        "id": "vufRodnFvM_1"
      },
      "source": [
        "## **Step 3**\r\n",
        "Predicting the classifier of which our new data point belongs too"
      ]
    },
    {
      "cell_type": "code",
      "metadata": {
        "id": "OjdEmbUe8h2D"
      },
      "source": [
        "def prediction(x_test, x_train, num_neighbors):\r\n",
        "    classes = []\r\n",
        "    neighbors = get_neighbors(x_test, x_train, num_neighbors)\r\n",
        "    for i in neighbors:\r\n",
        "        classes.append(i[-1])\r\n",
        "    predicted = max(classes, key=classes.count)              #taking the most repeated class\r\n",
        "    return predicted"
      ],
      "execution_count": 13,
      "outputs": []
    },
    {
      "cell_type": "code",
      "metadata": {
        "id": "nvIGvMzX9WRf"
      },
      "source": [
        "# Measuring the accuracy. So that we can know how accurate our model would predict new data samples\r\n",
        "def accuracy(y_true, y_pred):\r\n",
        "    num_correct = 0\r\n",
        "    for i in range(len(y_true)):\r\n",
        "        if y_true[i]==y_pred[i]:\r\n",
        "            num_correct+=1\r\n",
        "    accuracy = num_correct/len(y_true)\r\n",
        "    return accuracy"
      ],
      "execution_count": 14,
      "outputs": []
    },
    {
      "cell_type": "code",
      "metadata": {
        "id": "9bnHPfaT9ZC_",
        "colab": {
          "base_uri": "https://localhost:8080/"
        },
        "outputId": "1bb0fc0c-d417-4cb0-e460-e768f4bef64b"
      },
      "source": [
        "#Predicting test data\r\n",
        "y_pred = []\r\n",
        "for i in test:\r\n",
        "    y_pred.append(prediction(i, train, 5))\r\n",
        "y_pred"
      ],
      "execution_count": 15,
      "outputs": [
        {
          "output_type": "execute_result",
          "data": {
            "text/plain": [
              "['Iris-virginica',\n",
              " 'Iris-versicolor',\n",
              " 'Iris-setosa',\n",
              " 'Iris-setosa',\n",
              " 'Iris-setosa',\n",
              " 'Iris-versicolor',\n",
              " 'Iris-virginica',\n",
              " 'Iris-virginica',\n",
              " 'Iris-virginica',\n",
              " 'Iris-virginica',\n",
              " 'Iris-versicolor',\n",
              " 'Iris-setosa',\n",
              " 'Iris-setosa',\n",
              " 'Iris-versicolor',\n",
              " 'Iris-versicolor',\n",
              " 'Iris-versicolor',\n",
              " 'Iris-setosa',\n",
              " 'Iris-setosa',\n",
              " 'Iris-setosa',\n",
              " 'Iris-versicolor',\n",
              " 'Iris-setosa',\n",
              " 'Iris-virginica',\n",
              " 'Iris-virginica',\n",
              " 'Iris-setosa',\n",
              " 'Iris-setosa',\n",
              " 'Iris-versicolor',\n",
              " 'Iris-versicolor',\n",
              " 'Iris-virginica',\n",
              " 'Iris-setosa',\n",
              " 'Iris-setosa',\n",
              " 'Iris-virginica',\n",
              " 'Iris-versicolor',\n",
              " 'Iris-versicolor',\n",
              " 'Iris-virginica',\n",
              " 'Iris-virginica',\n",
              " 'Iris-setosa',\n",
              " 'Iris-virginica',\n",
              " 'Iris-virginica',\n",
              " 'Iris-setosa',\n",
              " 'Iris-versicolor',\n",
              " 'Iris-virginica',\n",
              " 'Iris-setosa',\n",
              " 'Iris-virginica',\n",
              " 'Iris-virginica',\n",
              " 'Iris-setosa']"
            ]
          },
          "metadata": {
            "tags": []
          },
          "execution_count": 15
        }
      ]
    },
    {
      "cell_type": "code",
      "metadata": {
        "colab": {
          "base_uri": "https://localhost:8080/"
        },
        "id": "txYaJzDS-E9c",
        "outputId": "d535ed1a-9846-4697-f5b5-3fda97182646"
      },
      "source": [
        "#Evaluating model performance\r\n",
        "accuracy = accuracy(y_true, y_pred)\r\n",
        "accuracy"
      ],
      "execution_count": 16,
      "outputs": [
        {
          "output_type": "execute_result",
          "data": {
            "text/plain": [
              "1.0"
            ]
          },
          "metadata": {
            "tags": []
          },
          "execution_count": 16
        }
      ]
    },
    {
      "cell_type": "code",
      "metadata": {
        "id": "TWSn8LiP-hcg"
      },
      "source": [
        ""
      ],
      "execution_count": null,
      "outputs": []
    }
  ]
}