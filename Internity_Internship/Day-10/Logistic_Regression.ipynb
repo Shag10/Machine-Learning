{
  "nbformat": 4,
  "nbformat_minor": 0,
  "metadata": {
    "colab": {
      "name": "Logistic_Regression.ipynb",
      "provenance": [],
      "toc_visible": true
    },
    "kernelspec": {
      "name": "python3",
      "display_name": "Python 3"
    }
  },
  "cells": [
    {
      "cell_type": "markdown",
      "metadata": {
        "id": "cO1DYKtR4Cg2"
      },
      "source": [
        "# **Logistic Regression from Scratch**"
      ]
    },
    {
      "cell_type": "code",
      "metadata": {
        "id": "uLpQX25h36ts"
      },
      "source": [
        "#Importing libraries\r\n",
        "import numpy as np \r\n",
        "import pandas as pd \r\n",
        "import matplotlib.pyplot as plt"
      ],
      "execution_count": 1,
      "outputs": []
    },
    {
      "cell_type": "code",
      "metadata": {
        "colab": {
          "base_uri": "https://localhost:8080/",
          "height": 195
        },
        "id": "0xH3oFOG46Eu",
        "outputId": "7e42ce14-53cd-40b5-a10b-aae8b04266ad"
      },
      "source": [
        "# reading the csv file, del 2 columns from the file, checking first few rows of the file\r\n",
        "data = pd.read_csv('Social_Network_Ads.csv')\r\n",
        "data.drop(columns=['User ID','Gender',],axis=1,inplace=True)\r\n",
        "data.head()"
      ],
      "execution_count": 2,
      "outputs": [
        {
          "output_type": "execute_result",
          "data": {
            "text/html": [
              "<div>\n",
              "<style scoped>\n",
              "    .dataframe tbody tr th:only-of-type {\n",
              "        vertical-align: middle;\n",
              "    }\n",
              "\n",
              "    .dataframe tbody tr th {\n",
              "        vertical-align: top;\n",
              "    }\n",
              "\n",
              "    .dataframe thead th {\n",
              "        text-align: right;\n",
              "    }\n",
              "</style>\n",
              "<table border=\"1\" class=\"dataframe\">\n",
              "  <thead>\n",
              "    <tr style=\"text-align: right;\">\n",
              "      <th></th>\n",
              "      <th>Age</th>\n",
              "      <th>EstimatedSalary</th>\n",
              "      <th>Purchased</th>\n",
              "    </tr>\n",
              "  </thead>\n",
              "  <tbody>\n",
              "    <tr>\n",
              "      <th>0</th>\n",
              "      <td>19</td>\n",
              "      <td>19000</td>\n",
              "      <td>0</td>\n",
              "    </tr>\n",
              "    <tr>\n",
              "      <th>1</th>\n",
              "      <td>35</td>\n",
              "      <td>20000</td>\n",
              "      <td>0</td>\n",
              "    </tr>\n",
              "    <tr>\n",
              "      <th>2</th>\n",
              "      <td>26</td>\n",
              "      <td>43000</td>\n",
              "      <td>0</td>\n",
              "    </tr>\n",
              "    <tr>\n",
              "      <th>3</th>\n",
              "      <td>27</td>\n",
              "      <td>57000</td>\n",
              "      <td>0</td>\n",
              "    </tr>\n",
              "    <tr>\n",
              "      <th>4</th>\n",
              "      <td>19</td>\n",
              "      <td>76000</td>\n",
              "      <td>0</td>\n",
              "    </tr>\n",
              "  </tbody>\n",
              "</table>\n",
              "</div>"
            ],
            "text/plain": [
              "   Age  EstimatedSalary  Purchased\n",
              "0   19            19000          0\n",
              "1   35            20000          0\n",
              "2   26            43000          0\n",
              "3   27            57000          0\n",
              "4   19            76000          0"
            ]
          },
          "metadata": {
            "tags": []
          },
          "execution_count": 2
        }
      ]
    },
    {
      "cell_type": "code",
      "metadata": {
        "id": "ozDjaX1e5JjR"
      },
      "source": [
        "#Declare label as last column in the source file\r\n",
        "y = data.iloc[:,-1].values"
      ],
      "execution_count": 3,
      "outputs": []
    },
    {
      "cell_type": "code",
      "metadata": {
        "id": "KJLRWtqZ5TkW"
      },
      "source": [
        "#Declaring X as all columns excluding last\r\n",
        "X = data.iloc[:,:-1].values"
      ],
      "execution_count": 4,
      "outputs": []
    },
    {
      "cell_type": "code",
      "metadata": {
        "id": "wHp5T_Ll5V9N"
      },
      "source": [
        "# Splitting data\r\n",
        "from sklearn.model_selection import train_test_split\r\n",
        "X_train, X_test, y_train, y_test = train_test_split(X, y, test_size = 0.25, random_state = 0)"
      ],
      "execution_count": 6,
      "outputs": []
    },
    {
      "cell_type": "code",
      "metadata": {
        "id": "HVQLJCVQ5ZTm"
      },
      "source": [
        "# Sacaling data\r\n",
        "from sklearn.preprocessing import StandardScaler\r\n",
        "sc = StandardScaler()\r\n",
        "X_train = sc.fit_transform(X_train)\r\n",
        "X_test = sc.transform(X_test)"
      ],
      "execution_count": 7,
      "outputs": []
    },
    {
      "cell_type": "markdown",
      "metadata": {
        "id": "i6bVOm5x7VQt"
      },
      "source": [
        "## **Sigmoid Function**\r\n",
        "This sigmoid function is reponsible for predicting or classifying a given input. Logistic function or sigmoid is defined as:  \r\n",
        "Where:\r\n",
        "![Bw5gMJX.jpg](data:image/jpeg;base64,/9j/2wBDAAcFBQYFBAcGBQYIBwcIChELCgkJChUPEAwRGBUaGRgVGBcbHichGx0lHRcYIi4iJSgpKywrGiAvMy8qMicqKyr/2wBDAQcICAoJChQLCxQqHBgcKioqKioqKioqKioqKioqKioqKioqKioqKioqKioqKioqKioqKioqKioqKioqKioqKir/wAARCABiAQ4DASIAAhEBAxEB/8QAHAABAAMBAAMBAAAAAAAAAAAAAAQFBgMBAgcI/8QAPBAAAQMDAwICCAMECwEAAAAAAAECAwQFEQYSIRMxQVEUFSJUYXGU0zKBkRYlocEHIzM3QmJncqSxsvD/xAAUAQEAAAAAAAAAAAAAAAAAAAAA/8QAFBEBAAAAAAAAAAAAAAAAAAAAAP/aAAwDAQACEQMRAD8A/SIAAAAAAAAAAAAAAAAAAAAAAAAAAAAAAAAAAAAAAAAAAAAAAAAAAAAAAAAAAAAAAAAAAAAAAAMrer/dafXVpsVr9DWOsifNUOmhc50TG+KKj0Tnt2NUmcJnlfHBh9N/vj+kzUV3X2oqFrLfCvkqe0/+Js2VMMlVLTsfulia1z2on4UXOP8AoDqAAAAAAAAAAAAAAAAAAAAAFXqK8pYrNJVoxJJnPbFBGq43yPcjWp+qloYvV1BSXbWem6CWmhkcsslTMr40cro428NVfLc5OALapuFwsdJUVFzkhq0e6OOkiiarXvldxtXwRNy8d8JnKqW9GyojpmpWSpLMvL1a3DUXyRPJPjyZjVtOlNW6WjpomQ0cd1YjmRtRrW+w7bwnHcs9YUdLX6VrqerjR6yROZEiNy7qKmG7fjnAFtVMmkp3NppujL3Y9Wo5M/FPLz8fihFs9zS6USyKzpTxSOhniznZI1cKny8UXyVCl0Sylr7FbbvUYluklLtfK9fbanCOaieCIqf/ACqp6aT3/tVq3H9j6fHt8t3Rbu/kBrAZfV/o3WpfSf2j/C7b6l62PD8fT8fLPxM5+7v9Qv8AmAfSwQrPs9TUvT9L2dNMem7utj/Pu5z8+SJd2aldVtWxT2qOn2JuStgke/flc4Vr0TGMfxAuAZnpa798079JP9wdLXfvmnfpJ/uAaYGZ6Wu/fNO/ST/cHS1375p36Sf7gGmPDmo5qtXOFTHC4X9UM10td++ad+kn+4Olrv3zTv0k/wBwCTQ6Nstt6/q+OrpvSJFll6VwqG73r3cuH9yfa7NQ2aOZlvjezryLLK6SZ8rnuwiZVz1VV4RPEp+lrv3zTv0k/wBwdLXfvmnfpJ/uAaYGZ6Wu/fNO/ST/AHB0td++ad+kn+4BpgZnpa798079JP8AcHS1375p36Sf7gGmBmelrv3zTv0k/wBwk26PVjbhGt3qbM+j56jaWnlbIvC4wrnqnfHh2yBegAAAAAAAAAAAAONXO+mo5p44JKh8bFckMWNz1ROyZ4yUtvopa/VMt9qIZII2UraamjmbtemV3PVU8OcJ+S+GDQACDd7XFeLa+llcrF3NfHI3vG9q5a5PkqHKitca1aXKupmpctiRve2RzmLjjc1qrhMovlnnBZgCspbPS2SlnSx0UbJJnK/ar12q5VVe65wmVVcJ5rhDraLYy1UaxI/qzSyOlnlVMLJI5cquPDyRPBEQnAAAAAXhF4z8AAKG0X6ruGp7vbKqligZQNiViser3P3oq5VcIieHCfqpfGSsP95Gp/8AZTf+FNPVyywUcstNTuqZWNVWQtcjVkXyRV4T8wPWprqakmp4qmZsb6mTpwtd/jdhVwn5Iq/kSD5zqW9XuW8acdPpWqgdHcd0bHVkDuq7pPTaio/jhVXK8cGytFyuddJK25WKa1taiK10tRFJvXyTY5cfmBaEauuNFa6dJ7lWU9HCrtqSVErY258squMlDqO+1Md/t9gtm9tRVtdPPNGzc6KFvC7U7blXjK8J3JthorhBVVtRWyTRwTq1KekmnWZ0SImFVXKq8r5IqogHal1PYa6qZTUV7t1TPIuGRQ1cb3O8eERcqVNovC+srzUPdUVEDah7WNR+5kDI24c5crxl27t3x8DUuRVaqNXC44XGcGYtGi22eRVgrcsqIOnXt6KJ6S/Krv7+yvtKi98pjngCTTXlaPSfr64NmmSWJKmRkWF6TFTKIiKqJhE7+KkldS2yCnbPcqmK2wyr/UPrpo4uumEXc1FdnHPiiL8CHTWWrnscdlrJunSQQrTyI2Nd07cYa5H7uEx3TGc+OO9raKKa3WuCkqar0p8LEZ1NmzKImE4yvl5qBzotQ2a5TLDbLtQ1s6NV/SpqlkjsJ44RfiRaPVNJWMfIlPVQxRyuglklY1EjkR23ZhHKrlVe21F/ItatlTJTq2jmjglyntyRLIiJnnjKc4+P6mbk0rU0e59HVvqYvT4630eRERyuTCP9pV5VcKqJwmVX4YC0udb1LFNcrbMrnUrXStRFVEcrM7mORfkqc8opY0tQyrpIaiL8EzEe35KmShZbK1un6+j2bZ7jUTKnKKkLZF7qvbKJzhPHj4l/TQMpaWKniTDImIxvyRMIB0AAAAAAAAAAAAAAAAAAAAAAAAAAFPb9OR2+/V11ZX1k01dtSWOXp7PZTCYwxFTHzLgACru9l9a11qqev0vV1V6Rt2bup7Dm7c5TH4s557FoABUXLTlPcbvTXSOpqaKupmLG2emc3LmKuVa5HNcip+RY0tKyljVrHPe5y7nvkduc5fNV/l2TwOwAAAAAAAAAAAAAAAAAAAAAAAAAAAAAAAAAAAAAAAAAAAAAAAAAAAAAAAAAAAAAAAAAAAAAAAAAAAAAAAAAAAAAAAAAAAAAAAAAAAAAAAAAAAAAAP/Z)\r\n",
        "\r\n",
        "e = Euler's number which is 2.71828.  \r\n",
        "x0 = the value of the sigmoid's midpoint on the x-axis.  \r\n",
        "L = the maximum value.  \r\n",
        "k = steepness of the curve.  \r\n",
        "\r\n",
        "For Logistic Regression however here is the definition of the logistic function:    \r\n",
        "Where:  \r\n",
        "![903IYoN.jpg](data:image/jpeg;base64,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)\r\n",
        "Θ = is the weight."
      ]
    },
    {
      "cell_type": "code",
      "metadata": {
        "colab": {
          "base_uri": "https://localhost:8080/"
        },
        "id": "507dL5z15xvO",
        "outputId": "70081634-d6fa-4608-a2c4-87e82f9b53fd"
      },
      "source": [
        "#Variabes to calculate sigmoid function\r\n",
        "y_pred = []\r\n",
        "len_x = len(X_train[0])\r\n",
        "w = []\r\n",
        "b = 0.2  #Bais\r\n",
        "print(len_x)"
      ],
      "execution_count": 8,
      "outputs": [
        {
          "output_type": "stream",
          "text": [
            "2\n"
          ],
          "name": "stdout"
        }
      ]
    },
    {
      "cell_type": "code",
      "metadata": {
        "colab": {
          "base_uri": "https://localhost:8080/"
        },
        "id": "oEh6Fafo8mCc",
        "outputId": "83bd6a0f-6da7-4947-f8af-04591be58249"
      },
      "source": [
        "entries = len(X_train[:,0])\r\n",
        "entries"
      ],
      "execution_count": 9,
      "outputs": [
        {
          "output_type": "execute_result",
          "data": {
            "text/plain": [
              "300"
            ]
          },
          "metadata": {
            "tags": []
          },
          "execution_count": 9
        }
      ]
    },
    {
      "cell_type": "code",
      "metadata": {
        "colab": {
          "base_uri": "https://localhost:8080/"
        },
        "id": "l65_WMZX8pNe",
        "outputId": "6f6d39a8-eb20-41f9-b52b-bfd3de74a7d1"
      },
      "source": [
        "for weights in range(len_x):\r\n",
        "    w.append(0)\r\n",
        "w"
      ],
      "execution_count": 10,
      "outputs": [
        {
          "output_type": "execute_result",
          "data": {
            "text/plain": [
              "[0, 0]"
            ]
          },
          "metadata": {
            "tags": []
          },
          "execution_count": 10
        }
      ]
    },
    {
      "cell_type": "code",
      "metadata": {
        "id": "0CEj68Ig8swd"
      },
      "source": [
        "# Sigmoid function\r\n",
        "def sigmoid(z):\r\n",
        "    return (1/(1+np.exp(-z)))"
      ],
      "execution_count": 11,
      "outputs": []
    },
    {
      "cell_type": "code",
      "metadata": {
        "id": "bKHw36bz8xG5"
      },
      "source": [
        "def predict(inputs):\r\n",
        "    z = np.dot(w,inputs)+b\r\n",
        "    a = sigmoid(z)\r\n",
        "    return a"
      ],
      "execution_count": 12,
      "outputs": []
    },
    {
      "cell_type": "markdown",
      "metadata": {
        "id": "F8vBGZ9l8138"
      },
      "source": [
        "# **Loss Function**\r\n",
        "\r\n",
        "To start we pick random values and we need a way to measure how well the algorithm performs using those random weights. That measure is computed using the loss function.\r\n",
        "\r\n",
        "The loss function is defined as:\r\n",
        "![riDHhZS.jpg](data:image/jpeg;base64,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)\r\n",
        "\r\n",
        "Where:  \r\n",
        " m = the number of samples  \r\n",
        " y = the target class"
      ]
    },
    {
      "cell_type": "code",
      "metadata": {
        "id": "aw94BuEu80qj"
      },
      "source": [
        "#Loss function\r\n",
        "def loss_func(y,a):\r\n",
        "    J = -(y*np.log(a) + (1-y)*np.log(1-a))\r\n",
        "    return J"
      ],
      "execution_count": 13,
      "outputs": []
    },
    {
      "cell_type": "code",
      "metadata": {
        "id": "a6C85PJX9oHl"
      },
      "source": [
        "dw = []\r\n",
        "db = 0\r\n",
        "J = 0\r\n",
        "alpha = 0.1 #Learning Rate\r\n",
        "for x in range(len_x):\r\n",
        "    dw.append(0)"
      ],
      "execution_count": 14,
      "outputs": []
    },
    {
      "cell_type": "markdown",
      "metadata": {
        "id": "Ikd8TWSe9z-c"
      },
      "source": [
        "# **Gradient Descent**\r\n",
        "\r\n",
        "The goal is to minimize the loss by means of increasing or decreasing the weights, which is commonly called fitting. Which weights should be bigger and which should be smaller? This can be decided by a function called Gradient descent. The Gradient descent is just the derivative of the loss function with respect to its weights.\r\n",
        "\r\n",
        "![rBVzJbt.jpg](data:image/jpeg;base64,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)\r\n",
        "\r\n",
        "The weights are updated by substracting the derivative (gradient descent) times the learning rate, as defined below:\r\n",
        "\r\n",
        "![TAIpnwI.jpg](data:image/jpeg;base64,/9j/2wBDAAcFBQYFBAcGBQYIBwcIChELCgkJChUPEAwRGBUaGRgVGBcbHichGx0lHRcYIi4iJSgpKywrGiAvMy8qMicqKyr/2wBDAQcICAoJChQLCxQqHBgcKioqKioqKioqKioqKioqKioqKioqKioqKioqKioqKioqKioqKioqKioqKioqKioqKir/wAARCABGAPMDASIAAhEBAxEB/8QAHAABAAMBAQEBAQAAAAAAAAAAAAQFBgMHAgEI/8QAOBAAAQQCAAUDAQYEBAcAAAAAAQACAwQFEQYSEyExFEFhUQcVIlWV1CMycYElQlKhM1NiZ3Kksf/EABQBAQAAAAAAAAAAAAAAAAAAAAD/xAAUEQEAAAAAAAAAAAAAAAAAAAAA/9oADAMBAAIRAxEAPwD+kUREBERAREQEREBERAREQEREBERAREQERZ7I5fJS5K1jsJLQivVmNeyveY4my0je2kOGhvtvTu/sg0KLM5rKZKHOcPY6pK2Ga7I51tjWh4EbG7dokb86G/laZAREQEUbJX4MXjbF62S2GBhe7Q2Tr2HyqHM8Sz8N8KPy+Tj6lqctbBSZoBr3fys35Pyf660g06LPxU87LixZlzYivFnMYmQRmux3+kgjnI9iedcOHuI7PE2Cnkga2plKMzobNd34mdRvtvzyn2Pkf/Q06KHicnFl8ZFcgBaH7DmHyxwOnNPyCCFMQEREBERARFkqPEFzifiPI0sVZFLHY1/Qkssa10s03u1vMC0Ae+wSfhBrUWTt565w1xLj6GVsC7j8k/ow2XNa2WGX2a/lAaQfYgDXytYgIuVa1XuQ9WnPFPHsjnieHN2DojYXVARFmeJuJZ8flsdg8S2J2SyDiQ+YEsgib/M8ga38DYQaZFmM7JmeH8RJlKuRfkvTN6k1WzHG0SMHd3IWNaQQNkb5vCu8Tk6+ZxFbI0yTBZjEjN+Rv2PygmIiICIiAiIgg5vJswuCu5KVpeyrC6UtHvoeFhM9Wnn4Eq5rISPk4hsvifRdG4joSPcC1kYHga7E+SN7Xo00MVmB8NiNskUjS17HjYcD5BCh1sHj6jq7oa+zWbywdSR0nSH/AE8xOu3bt7dkGbpTi59pF63aezlxdJlRnfzK8dR4HzoBcMJdjynC2Q4q4h5ZYpxKYIZO7IIW7aGtB/zHXc+Ttaurg8dSyNq9WrBlm27nmfzuPM7QG9E6B0B4A2viLh/FwRtjjqARNk6rYS9xja/e9hhPKO/fx2PdBjhRzM/2W0YC/q5Wq2O4+lM7ZljDiRE/fnt27+4U4Vq+d4EsHhp3obGXj9VHA78P4m8oczQ/y7Gj/wCXytRYxFOzcdalZIJ3RdFz2TPYSzZOvwkfUr4+48cDVMdfpekjMcHRe6PptOtgcpH0CDz/ACEtfJfZ1LlaNL0M0tqtDfrtADYzFMA8AD2Vp9rFKafhuhehY58WOvRWZmtG/wCGOxP9Bta12Ex7sLNihXa2pM1zXsB883k78k7O9+dr9xsFmKgKmR5ZjGOmJfaZmuxI9jryPCDLScDsvySZSPiXKsjsT+rbXitaqFpdzAFmu4I891x+zOGSe5xJmGtc2pkMg41ifD2tJHMPg7WmHC2IEZibXkZXd5rMsSNhPx0g7k18a0ps8UsFAQYqKKNwAZGCOVkQ+uh7D6Dz8eUFBwNz9LN/8n72sdL+mxv/AH2tSoeKxsOIxsVOvstZsue7y9xO3OPySSVMQEREBERAXk3C3DMlyxm8Dbv2sXaqZZ1wyU5DHM+N7CGua76H6/2XrKg3cNQyE8c9mD+PGNMnie6ORo+ge0h2vjaDzTinhmSpdwWBqZG5krVnLNu9W3L1JmRsYA4udrwPY/2XrJAIIPce6hUsPRx8z560H8eQcr55HukkcPYF7iXEfG1NIBBB7g+UGfyVLF0OF5YaENyGp1OYtwgcJeYu7kdPv586WU/w7/uF/wC4t/i8TRwtL0mLrtrwc7n8jST+Jx2T3+VMQZ/hLoein9N9+cvUG/vnq8+9f5ep31/TttZriuk+H7UcVcnPJVvUpaDZiPwslcHaB/rteirhcpVcjVdWvV47EL/5mSNBBQYLJ8KRcK4OzlbPEOXvsr05YzDftdWMlzC0cjddjsge/ZX/ANnmNsYrgHF1brXMmEXO5jvLeYk6/wB1Ys4cxjZI3yQyWOkeaNtmxJM1hHgta9xAPyArRBn7UnGItyilVwbq/Mem6azM15b7bAjIB/uumPk4rdejGVrYaOr353VrEr3+O2g5gHn5V4iDO8b5K3QwUUWNkMNq9aiqMmHmLndouHyBvSzXGGNqjK4Hh7F2/Qzz9T1cwfqR9YN/Hzu8kkjyffut9fx1TKVfT34WzRcweASQWuB2HAjuCD7hQ7HDOHtyMks0myyMlEwke9xeXAEDbt7I0SNHtr2QWEEMdanHDUa0RxsDY2g9tAdlDwUuXmxofxDWr1rnO4clZ5c3l3+E7PvpWKIIWQlycfT+6qdSzvfU9TbdDy+Na5Y379/pr59ofquJ/wAoxP6rL+3VyiCm9VxP+UYn9Vl/bp6rif8AKMT+qy/t1cogpvVcT/lGJ/VZf26eq4n/ACjE/qsv7dfGVy1puVGKx09OrcfD1YXXY3PbOdkFjQHN7jQ2dnWx2VVb4nyjs1jeHIWVa+Wng9RelBMkdVg7HlB1sk+N9h8oLj1XE/5Rif1WX9unquJ/yjE/qsv7dVvEV/KcJY772F2TKVIXA2q9iONrxHsAuYWNb3G/BB/stNVsxXacNmu7nimYHsd9QRsIKv1XE/5Rif1WX9unquJ/yjE/qsv7dXKIK+hNmJJ3DKUKNeLl2H17r5nF2x20Ymdtb77/ALKwREBERAREQEREBERAREQEREBERAREQEREBERAREQFzsTNrVpZ5N8sTC92voBtdF+EBzSHDYI0QfdB5xalbn/s4t8S8QOeXzRvloQxuIFbvqLlA8vJ137nvodlXHFX38ctgzUrq8ucwba7LXgtmDRzAH/V2JXo9fh7F1mQshqARQPMkUTnudHG76taTofGh29lJv46nk6/QyFeOeMODgHj+UjwQfIPyO6DzrizhhnDXCuUtPzmWybrNR1OKLI2Osed7m8oZ2GvHce/b6Lb8KY+bFcI4uja/wCNXqsY8fQgdwusPD+Oisx2HQyTyxHcT7U8k5jP1bzuPKfkKyQEREBERAREQEREBERAREQEREBERAREQEREBERAREQEREBERAREQEREBERAREQEREH/2Q==)\r\n",
        "\r\n",
        "Where:  \r\n",
        "\r\n",
        "α = learning rate (usually 0.1)"
      ]
    },
    {
      "cell_type": "code",
      "metadata": {
        "id": "XNPaaXYO9twG"
      },
      "source": [
        "#Repeating this process 1000 times\r\n",
        "epochs = 1000\r\n",
        "for iterations in range(epochs):\r\n",
        "    for i in range(entries):\r\n",
        "        localx = X_train[i]\r\n",
        "        a = predict(localx)   \r\n",
        "        dz = a - y_train[i]\r\n",
        "        J += loss_func(y_train[i],a)\r\n",
        "        for j in range(len_x):\r\n",
        "            dw[j] = dw[j]+(localx[j]*dz)\r\n",
        "        db += dz\r\n",
        "    J = J/entries\r\n",
        "    db = db/entries\r\n",
        "    for x in range(len_x):\r\n",
        "        dw[x]=dw[x]/entries\r\n",
        "    for x in range(len_x):\r\n",
        "        w[x] = w[x]-(alpha*dw[x])\r\n",
        "    b = b-(alpha*db)         \r\n",
        "    J=0"
      ],
      "execution_count": 15,
      "outputs": []
    },
    {
      "cell_type": "code",
      "metadata": {
        "colab": {
          "base_uri": "https://localhost:8080/"
        },
        "id": "KtHfN7dm-0Bq",
        "outputId": "a96efb10-35bf-49f3-8aaf-83516a1bf47d"
      },
      "source": [
        "#Print weight\r\n",
        "print(w)"
      ],
      "execution_count": 16,
      "outputs": [
        {
          "output_type": "stream",
          "text": [
            "[2.2255967798023493, 1.191296482920891]\n"
          ],
          "name": "stdout"
        }
      ]
    },
    {
      "cell_type": "code",
      "metadata": {
        "colab": {
          "base_uri": "https://localhost:8080/"
        },
        "id": "nKCblGL7-3ib",
        "outputId": "9d37dc49-97e6-4a5c-9739-a209ec40e4b3"
      },
      "source": [
        "#print intercept\r\n",
        "print(b)"
      ],
      "execution_count": 17,
      "outputs": [
        {
          "output_type": "stream",
          "text": [
            "-0.9884403792491633\n"
          ],
          "name": "stdout"
        }
      ]
    },
    {
      "cell_type": "code",
      "metadata": {
        "id": "cDDZ35a0-6BB"
      },
      "source": [
        "#predicting the label\r\n",
        "for x in range(len(y_test)):\r\n",
        "    y_pred.append(predict(X_test[x]))"
      ],
      "execution_count": 18,
      "outputs": []
    },
    {
      "cell_type": "code",
      "metadata": {
        "colab": {
          "base_uri": "https://localhost:8080/"
        },
        "id": "oSVUAleK-8rF",
        "outputId": "89de265b-662c-4a2e-c2fe-bb3f0f81d6d3"
      },
      "source": [
        "#print actual and predicted values in a table\r\n",
        "for x in range(len(y_pred)):\r\n",
        "    print('Actual ',y_test[x],' Predicted ',y_pred[x])\r\n",
        "    if y_pred[x]>=0.5:\r\n",
        "        y_pred[x]=1\r\n",
        "    else:\r\n",
        "        y_pred[x]=0"
      ],
      "execution_count": 19,
      "outputs": [
        {
          "output_type": "stream",
          "text": [
            "Actual  0  Predicted  0.10173957901916296\n",
            "Actual  0  Predicted  0.15541379063749383\n",
            "Actual  0  Predicted  0.18384857241488903\n",
            "Actual  0  Predicted  0.07912036262040134\n",
            "Actual  0  Predicted  0.08675047649964047\n",
            "Actual  0  Predicted  0.00574648949617734\n",
            "Actual  0  Predicted  0.011606945684409618\n",
            "Actual  1  Predicted  0.7527138746162638\n",
            "Actual  0  Predicted  0.004155480041646165\n",
            "Actual  0  Predicted  0.5122778145635105\n",
            "Actual  0  Predicted  0.029582541150851217\n",
            "Actual  0  Predicted  0.023565655543652676\n",
            "Actual  0  Predicted  0.14925396310879835\n",
            "Actual  0  Predicted  0.3682375639324936\n",
            "Actual  0  Predicted  0.011930655455900694\n",
            "Actual  0  Predicted  0.33157969678699456\n",
            "Actual  0  Predicted  0.2727733662729687\n",
            "Actual  0  Predicted  0.009270658193881204\n",
            "Actual  1  Predicted  0.9919762917091707\n",
            "Actual  0  Predicted  0.034855150097174305\n",
            "Actual  0  Predicted  0.07888516516136876\n",
            "Actual  1  Predicted  0.9717389761934756\n",
            "Actual  0  Predicted  0.26953193911503476\n",
            "Actual  1  Predicted  0.8993991143520303\n",
            "Actual  0  Predicted  0.0031452519124772816\n",
            "Actual  1  Predicted  0.9796636038887162\n",
            "Actual  0  Predicted  0.06793473617392691\n",
            "Actual  0  Predicted  0.06659401700023508\n",
            "Actual  0  Predicted  0.1826212353969033\n",
            "Actual  0  Predicted  0.14532218547783657\n",
            "Actual  0  Predicted  0.01587266292628661\n",
            "Actual  1  Predicted  0.2866893047189076\n",
            "Actual  1  Predicted  0.9448177183907364\n",
            "Actual  0  Predicted  0.14069334191102803\n",
            "Actual  0  Predicted  0.0109639051276801\n",
            "Actual  0  Predicted  0.0023954303463027894\n",
            "Actual  0  Predicted  0.015542276488821631\n",
            "Actual  0  Predicted  0.05645740171056945\n",
            "Actual  0  Predicted  0.02213465316947959\n",
            "Actual  1  Predicted  0.561722786663025\n",
            "Actual  0  Predicted  0.05706955196298304\n",
            "Actual  0  Predicted  0.2763860960136149\n",
            "Actual  0  Predicted  0.050074126681004145\n",
            "Actual  0  Predicted  0.0326045297622893\n",
            "Actual  1  Predicted  0.8250174643885305\n",
            "Actual  0  Predicted  0.02102271938438788\n",
            "Actual  0  Predicted  0.29380428129257596\n",
            "Actual  1  Predicted  0.9412824002823448\n",
            "Actual  0  Predicted  0.006506572490054516\n",
            "Actual  1  Predicted  0.8781608855448623\n",
            "Actual  1  Predicted  0.9931850264765307\n",
            "Actual  0  Predicted  0.031132823124684603\n",
            "Actual  0  Predicted  0.10791695630578803\n",
            "Actual  0  Predicted  0.41840703342215496\n",
            "Actual  1  Predicted  0.9859123077586001\n",
            "Actual  1  Predicted  0.3161278351396531\n",
            "Actual  0  Predicted  0.07333139304478255\n",
            "Actual  0  Predicted  0.03552171564117892\n",
            "Actual  1  Predicted  0.49296081614099446\n",
            "Actual  0  Predicted  0.002387718188382602\n",
            "Actual  0  Predicted  0.015977730720195166\n",
            "Actual  1  Predicted  0.9468417141436272\n",
            "Actual  0  Predicted  0.0068105951479622276\n",
            "Actual  1  Predicted  0.3914704905705284\n",
            "Actual  0  Predicted  0.0012178941219179189\n",
            "Actual  1  Predicted  0.9865598115862211\n",
            "Actual  0  Predicted  0.031328420021407885\n",
            "Actual  0  Predicted  0.02102271938438788\n",
            "Actual  0  Predicted  0.2049625078870553\n",
            "Actual  0  Predicted  0.46995036599948564\n",
            "Actual  1  Predicted  0.6079616720402342\n",
            "Actual  0  Predicted  0.19444085344971979\n",
            "Actual  0  Predicted  0.00840709311494844\n",
            "Actual  1  Predicted  0.24656471406186078\n",
            "Actual  0  Predicted  0.05895689517162993\n",
            "Actual  0  Predicted  0.0067220914561378076\n",
            "Actual  0  Predicted  0.5474842955394206\n",
            "Actual  0  Predicted  0.28770641400248975\n",
            "Actual  1  Predicted  0.7428245699667234\n",
            "Actual  1  Predicted  0.9054792256127866\n",
            "Actual  1  Predicted  0.9974320295705272\n",
            "Actual  0  Predicted  0.9833010376600336\n",
            "Actual  0  Predicted  0.009895399977858014\n",
            "Actual  0  Predicted  0.007723627940129944\n",
            "Actual  1  Predicted  0.9089505969638616\n",
            "Actual  1  Predicted  0.5560264161557731\n",
            "Actual  0  Predicted  0.40408852633982956\n",
            "Actual  1  Predicted  0.9966616077459093\n",
            "Actual  1  Predicted  0.4401967508431139\n",
            "Actual  0  Predicted  0.33489146647131973\n",
            "Actual  0  Predicted  0.41882952621648034\n",
            "Actual  1  Predicted  0.8025999210496174\n",
            "Actual  0  Predicted  0.0062561004177693474\n",
            "Actual  0  Predicted  0.005793535312887509\n",
            "Actual  0  Predicted  0.026491126625933174\n",
            "Actual  1  Predicted  0.0738906276361791\n",
            "Actual  0  Predicted  0.010458454935853944\n",
            "Actual  1  Predicted  0.48104226529411265\n",
            "Actual  1  Predicted  0.8690835844193807\n",
            "Actual  1  Predicted  0.7415417079385036\n"
          ],
          "name": "stdout"
        }
      ]
    },
    {
      "cell_type": "code",
      "metadata": {
        "colab": {
          "base_uri": "https://localhost:8080/"
        },
        "id": "1RnYdn67_AMk",
        "outputId": "a94f3f6c-8fe9-4254-d6b6-808bf133a51a"
      },
      "source": [
        "# Calculating accuracy of prediction\r\n",
        "count = 0\r\n",
        "for x in range(len(y_pred)):\r\n",
        "    if(y_pred[x]==y_test[x]):\r\n",
        "        count=count+1\r\n",
        "print('Accuracy:',(count/(len(y_pred)))*100)"
      ],
      "execution_count": 20,
      "outputs": [
        {
          "output_type": "stream",
          "text": [
            "Accuracy: 89.0\n"
          ],
          "name": "stdout"
        }
      ]
    },
    {
      "cell_type": "code",
      "metadata": {
        "colab": {
          "base_uri": "https://localhost:8080/"
        },
        "id": "ZZfQsjg2_GJX",
        "outputId": "b501798e-b23a-4f59-8b97-475522049fda"
      },
      "source": [
        "#Adding the code for confusion matrix which is the best model performace measure for Classification Algorithms\r\n",
        "from sklearn.metrics import confusion_matrix\r\n",
        "cm = confusion_matrix(y_test, y_pred)\r\n",
        "print(cm)"
      ],
      "execution_count": 21,
      "outputs": [
        {
          "output_type": "stream",
          "text": [
            "[[65  3]\n",
            " [ 8 24]]\n"
          ],
          "name": "stdout"
        }
      ]
    },
    {
      "cell_type": "code",
      "metadata": {
        "id": "bhAtwkGh_Irs"
      },
      "source": [
        ""
      ],
      "execution_count": null,
      "outputs": []
    }
  ]
}