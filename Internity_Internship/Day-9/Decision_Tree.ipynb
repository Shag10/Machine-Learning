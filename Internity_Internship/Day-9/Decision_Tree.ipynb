{
  "nbformat": 4,
  "nbformat_minor": 0,
  "metadata": {
    "colab": {
      "name": "Decision_Tree.ipynb",
      "provenance": [],
      "collapsed_sections": []
    },
    "kernelspec": {
      "name": "python3",
      "display_name": "Python 3"
    }
  },
  "cells": [
    {
      "cell_type": "markdown",
      "metadata": {
        "id": "a9cDc1pCs7vK"
      },
      "source": [
        "# **Decision Tree**\r\n",
        "\r\n",
        "## **ID3 Algorithm**\r\n",
        "In the ID3 algorithm, decision trees are calculated using the concept of entropy and information gain.\r\n",
        "\r\n",
        "**Entropy can be defined as:**\r\n",
        "H(S)=−∑pi*(log2(base)pi)"
      ]
    },
    {
      "cell_type": "code",
      "metadata": {
        "id": "h3NEV0irs3s1"
      },
      "source": [
        "import pandas as pd\r\n",
        "import numpy as np\r\n",
        "\r\n",
        "# eps for making value a bit greater than 0 later on\r\n",
        "eps = np.finfo(float).eps\r\n",
        "\r\n",
        "from numpy import log2 as log"
      ],
      "execution_count": 1,
      "outputs": []
    },
    {
      "cell_type": "code",
      "metadata": {
        "id": "b8Kmu_miuDi5"
      },
      "source": [
        "#Creating a dataset\r\n",
        "\r\n",
        "dataset = {'Taste':['Salty','Spicy','Spicy','Spicy','Spicy','Sweet','Salty','Sweet','Spicy','Salty'],\r\n",
        "       'Temperature':['Hot','Hot','Hot','Cold','Hot','Cold','Cold','Hot','Cold','Hot'],\r\n",
        "       'Texture':['Soft','Soft','Hard','Hard','Hard','Soft','Soft','Soft','Soft','Hard'],\r\n",
        "       'Eat':['No','No','Yes','No','Yes','Yes','No','Yes','Yes','Yes']}"
      ],
      "execution_count": 2,
      "outputs": []
    },
    {
      "cell_type": "code",
      "metadata": {
        "colab": {
          "base_uri": "https://localhost:8080/",
          "height": 343
        },
        "id": "098nEXPsuLTz",
        "outputId": "b32c0165-ccfa-46bf-c5d7-0faae9c5d291"
      },
      "source": [
        "df = pd.DataFrame(dataset,columns=['Taste','Temperature','Texture','Eat'])\r\n",
        "df"
      ],
      "execution_count": 3,
      "outputs": [
        {
          "output_type": "execute_result",
          "data": {
            "text/html": [
              "<div>\n",
              "<style scoped>\n",
              "    .dataframe tbody tr th:only-of-type {\n",
              "        vertical-align: middle;\n",
              "    }\n",
              "\n",
              "    .dataframe tbody tr th {\n",
              "        vertical-align: top;\n",
              "    }\n",
              "\n",
              "    .dataframe thead th {\n",
              "        text-align: right;\n",
              "    }\n",
              "</style>\n",
              "<table border=\"1\" class=\"dataframe\">\n",
              "  <thead>\n",
              "    <tr style=\"text-align: right;\">\n",
              "      <th></th>\n",
              "      <th>Taste</th>\n",
              "      <th>Temperature</th>\n",
              "      <th>Texture</th>\n",
              "      <th>Eat</th>\n",
              "    </tr>\n",
              "  </thead>\n",
              "  <tbody>\n",
              "    <tr>\n",
              "      <th>0</th>\n",
              "      <td>Salty</td>\n",
              "      <td>Hot</td>\n",
              "      <td>Soft</td>\n",
              "      <td>No</td>\n",
              "    </tr>\n",
              "    <tr>\n",
              "      <th>1</th>\n",
              "      <td>Spicy</td>\n",
              "      <td>Hot</td>\n",
              "      <td>Soft</td>\n",
              "      <td>No</td>\n",
              "    </tr>\n",
              "    <tr>\n",
              "      <th>2</th>\n",
              "      <td>Spicy</td>\n",
              "      <td>Hot</td>\n",
              "      <td>Hard</td>\n",
              "      <td>Yes</td>\n",
              "    </tr>\n",
              "    <tr>\n",
              "      <th>3</th>\n",
              "      <td>Spicy</td>\n",
              "      <td>Cold</td>\n",
              "      <td>Hard</td>\n",
              "      <td>No</td>\n",
              "    </tr>\n",
              "    <tr>\n",
              "      <th>4</th>\n",
              "      <td>Spicy</td>\n",
              "      <td>Hot</td>\n",
              "      <td>Hard</td>\n",
              "      <td>Yes</td>\n",
              "    </tr>\n",
              "    <tr>\n",
              "      <th>5</th>\n",
              "      <td>Sweet</td>\n",
              "      <td>Cold</td>\n",
              "      <td>Soft</td>\n",
              "      <td>Yes</td>\n",
              "    </tr>\n",
              "    <tr>\n",
              "      <th>6</th>\n",
              "      <td>Salty</td>\n",
              "      <td>Cold</td>\n",
              "      <td>Soft</td>\n",
              "      <td>No</td>\n",
              "    </tr>\n",
              "    <tr>\n",
              "      <th>7</th>\n",
              "      <td>Sweet</td>\n",
              "      <td>Hot</td>\n",
              "      <td>Soft</td>\n",
              "      <td>Yes</td>\n",
              "    </tr>\n",
              "    <tr>\n",
              "      <th>8</th>\n",
              "      <td>Spicy</td>\n",
              "      <td>Cold</td>\n",
              "      <td>Soft</td>\n",
              "      <td>Yes</td>\n",
              "    </tr>\n",
              "    <tr>\n",
              "      <th>9</th>\n",
              "      <td>Salty</td>\n",
              "      <td>Hot</td>\n",
              "      <td>Hard</td>\n",
              "      <td>Yes</td>\n",
              "    </tr>\n",
              "  </tbody>\n",
              "</table>\n",
              "</div>"
            ],
            "text/plain": [
              "   Taste Temperature Texture  Eat\n",
              "0  Salty         Hot    Soft   No\n",
              "1  Spicy         Hot    Soft   No\n",
              "2  Spicy         Hot    Hard  Yes\n",
              "3  Spicy        Cold    Hard   No\n",
              "4  Spicy         Hot    Hard  Yes\n",
              "5  Sweet        Cold    Soft  Yes\n",
              "6  Salty        Cold    Soft   No\n",
              "7  Sweet         Hot    Soft  Yes\n",
              "8  Spicy        Cold    Soft  Yes\n",
              "9  Salty         Hot    Hard  Yes"
            ]
          },
          "metadata": {
            "tags": []
          },
          "execution_count": 3
        }
      ]
    },
    {
      "cell_type": "code",
      "metadata": {
        "id": "Il9Pd5zvuN9w"
      },
      "source": [
        "def find_entropy(df):\r\n",
        "    '''\r\n",
        "    Function to calculate the entropy of the label i.e. Eat.\r\n",
        "    '''\r\n",
        "    Class = df.keys()[-1] \r\n",
        "    entropy = 0\r\n",
        "    values = df[Class].unique()\r\n",
        "    for value in values:\r\n",
        "        fraction = df[Class].value_counts()[value]/len(df[Class])\r\n",
        "        entropy += -fraction*np.log2(fraction)\r\n",
        "    return entropy"
      ],
      "execution_count": 4,
      "outputs": []
    },
    {
      "cell_type": "code",
      "metadata": {
        "id": "pETdNvQVui5U"
      },
      "source": [
        "def find_entropy_attribute(df,attribute):\r\n",
        "    '''\r\n",
        "    Function to calculate the entropy of all features.\r\n",
        "    '''\r\n",
        "    Class = df.keys()[-1]   \r\n",
        "    target_variables = df[Class].unique()  \r\n",
        "    variables = df[attribute].unique()\r\n",
        "    entropy2 = 0\r\n",
        "    for variable in variables:\r\n",
        "        entropy = 0\r\n",
        "        for target_variable in target_variables:\r\n",
        "                num = len(df[attribute][df[attribute]==variable][df[Class] ==target_variable])\r\n",
        "                den = len(df[attribute][df[attribute]==variable])\r\n",
        "                fraction = num/(den+eps)\r\n",
        "                entropy += -fraction*log(fraction+eps)\r\n",
        "        fraction2 = den/len(df)\r\n",
        "        entropy2 += -fraction2*entropy\r\n",
        "    return abs(entropy2)"
      ],
      "execution_count": 5,
      "outputs": []
    },
    {
      "cell_type": "code",
      "metadata": {
        "id": "-jEVMYngvCxp"
      },
      "source": [
        "def find_winner(df):\r\n",
        "    '''\r\n",
        "    Function to find the feature with the highest information gain.\r\n",
        "    '''\r\n",
        "    Entropy_att = []\r\n",
        "    IG = []\r\n",
        "    for key in df.keys()[:-1]:\r\n",
        "#         Entropy_att.append(find_entropy_attribute(df,key))\r\n",
        "        IG.append(find_entropy(df)-find_entropy_attribute(df,key))\r\n",
        "    return df.keys()[:-1][np.argmax(IG)]"
      ],
      "execution_count": 6,
      "outputs": []
    },
    {
      "cell_type": "code",
      "metadata": {
        "id": "dGwsa3JbvG7Y"
      },
      "source": [
        "def get_subtable(df, node, value):\r\n",
        "    '''\r\n",
        "    Function to get a subtable of met conditions.\r\n",
        "    \r\n",
        "    node: Column name\r\n",
        "    value: Unique value of the column\r\n",
        "    '''\r\n",
        "    return df[df[node] == value].reset_index(drop=True)"
      ],
      "execution_count": 7,
      "outputs": []
    },
    {
      "cell_type": "code",
      "metadata": {
        "id": "yWHQeOZavLnD"
      },
      "source": [
        "def buildTree(df,tree=None): \r\n",
        "    '''\r\n",
        "    Function to build the ID3 Decision Tree.\r\n",
        "    '''\r\n",
        "    Class = df.keys()[-1]  \r\n",
        "    #Here we build our decision tree\r\n",
        "\r\n",
        "    #Get attribute with maximum information gain\r\n",
        "    node = find_winner(df)\r\n",
        "    \r\n",
        "    #Get distinct value of that attribute e.g Salary is node and Low,Med and High are values\r\n",
        "    attValue = np.unique(df[node])\r\n",
        "    \r\n",
        "    #Create an empty dictionary to create tree    \r\n",
        "    if tree is None:                    \r\n",
        "        tree={}\r\n",
        "        tree[node] = {}\r\n",
        "    \r\n",
        "    #We make loop to construct a tree by calling this function recursively. \r\n",
        "    #In this we check if the subset is pure and stops if it is pure. \r\n",
        "    for value in attValue:\r\n",
        "        \r\n",
        "        subtable = get_subtable(df,node,value)\r\n",
        "        clValue,counts = np.unique(subtable['Eat'],return_counts=True)                        \r\n",
        "        \r\n",
        "        if len(counts)==1:#Checking purity of subset\r\n",
        "            tree[node][value] = clValue[0]                                                    \r\n",
        "        else:        \r\n",
        "            tree[node][value] = buildTree(subtable) #Calling the function recursively \r\n",
        "                   \r\n",
        "    return tree"
      ],
      "execution_count": 8,
      "outputs": []
    },
    {
      "cell_type": "code",
      "metadata": {
        "id": "N1eOkSZWvhub"
      },
      "source": [
        "tree = buildTree(df)"
      ],
      "execution_count": 9,
      "outputs": []
    },
    {
      "cell_type": "code",
      "metadata": {
        "colab": {
          "base_uri": "https://localhost:8080/"
        },
        "id": "97VgA0Ncvlp6",
        "outputId": "116af29c-51c8-483d-8051-28f794ab49f1"
      },
      "source": [
        "print(tree)"
      ],
      "execution_count": 10,
      "outputs": [
        {
          "output_type": "stream",
          "text": [
            "{'Taste': {'Salty': {'Texture': {'Hard': 'Yes', 'Soft': 'No'}}, 'Spicy': {'Temperature': {'Cold': {'Texture': {'Hard': 'No', 'Soft': 'Yes'}}, 'Hot': {'Texture': {'Hard': 'Yes', 'Soft': 'No'}}}}, 'Sweet': 'Yes'}}\n"
          ],
          "name": "stdout"
        }
      ]
    },
    {
      "cell_type": "code",
      "metadata": {
        "colab": {
          "base_uri": "https://localhost:8080/"
        },
        "id": "1f-xYGiRvpRk",
        "outputId": "0624eedd-3050-40bf-ce87-5234c6524403"
      },
      "source": [
        "import pprint\r\n",
        "pprint.pprint(tree)"
      ],
      "execution_count": 11,
      "outputs": [
        {
          "output_type": "stream",
          "text": [
            "{'Taste': {'Salty': {'Texture': {'Hard': 'Yes', 'Soft': 'No'}},\n",
            "           'Spicy': {'Temperature': {'Cold': {'Texture': {'Hard': 'No',\n",
            "                                                          'Soft': 'Yes'}},\n",
            "                                     'Hot': {'Texture': {'Hard': 'Yes',\n",
            "                                                         'Soft': 'No'}}}},\n",
            "           'Sweet': 'Yes'}}\n"
          ],
          "name": "stdout"
        }
      ]
    },
    {
      "cell_type": "code",
      "metadata": {
        "id": "iLJZ37IKvuB7"
      },
      "source": [
        "def predict(inst,tree):\r\n",
        "    '''\r\n",
        "    Function to predict for any input variable.\r\n",
        "    '''\r\n",
        "    #Recursively we go through the tree that we built earlier\r\n",
        "\r\n",
        "    for nodes in tree.keys():        \r\n",
        "        \r\n",
        "        value = inst[nodes]\r\n",
        "        tree = tree[nodes][value]\r\n",
        "        prediction = 0\r\n",
        "            \r\n",
        "        if type(tree) is dict:\r\n",
        "            prediction = predict(inst, tree)\r\n",
        "        else:\r\n",
        "            prediction = tree\r\n",
        "            break;                            \r\n",
        "        \r\n",
        "    return prediction"
      ],
      "execution_count": 12,
      "outputs": []
    },
    {
      "cell_type": "code",
      "metadata": {
        "id": "GzA3QP1OwdxW"
      },
      "source": [
        "data = {'Taste':'Salty','Temperature':'Hot','Texture':'Hard'}"
      ],
      "execution_count": 16,
      "outputs": []
    },
    {
      "cell_type": "code",
      "metadata": {
        "id": "rjg8nUnAwjk0"
      },
      "source": [
        "inst = pd.Series(data)"
      ],
      "execution_count": 17,
      "outputs": []
    },
    {
      "cell_type": "code",
      "metadata": {
        "colab": {
          "base_uri": "https://localhost:8080/",
          "height": 35
        },
        "id": "uO8q3XRhwmue",
        "outputId": "36daff90-bc42-4cbe-96cd-b6a87a14effe"
      },
      "source": [
        "prediction = predict(inst,tree)\r\n",
        "prediction"
      ],
      "execution_count": 18,
      "outputs": [
        {
          "output_type": "execute_result",
          "data": {
            "application/vnd.google.colaboratory.intrinsic+json": {
              "type": "string"
            },
            "text/plain": [
              "'Yes'"
            ]
          },
          "metadata": {
            "tags": []
          },
          "execution_count": 18
        }
      ]
    },
    {
      "cell_type": "code",
      "metadata": {
        "id": "KivaCASswq-f"
      },
      "source": [
        ""
      ],
      "execution_count": null,
      "outputs": []
    }
  ]
}