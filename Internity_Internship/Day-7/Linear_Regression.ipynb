{
  "nbformat": 4,
  "nbformat_minor": 0,
  "metadata": {
    "colab": {
      "name": "Linear_Regression.ipynb",
      "provenance": [],
      "toc_visible": true
    },
    "kernelspec": {
      "name": "python3",
      "display_name": "Python 3"
    }
  },
  "cells": [
    {
      "cell_type": "markdown",
      "metadata": {
        "id": "Zk8Ac03n4kwM"
      },
      "source": [
        "# **Example 1 Using inbuilt Model**"
      ]
    },
    {
      "cell_type": "code",
      "metadata": {
        "colab": {
          "base_uri": "https://localhost:8080/",
          "height": 438
        },
        "id": "EXdhO4jrroW_",
        "outputId": "8ca50e54-64b9-437b-a141-601e15b3638f"
      },
      "source": [
        "%matplotlib inline\r\n",
        "import numpy as np\r\n",
        "import pandas as pd\r\n",
        "import matplotlib.pyplot as plt\r\n",
        "import seaborn as sns\r\n",
        "plt.rcParams['figure.figsize'] = (20.0, 10.0)\r\n",
        "\r\n",
        "#Reading Data\r\n",
        "data = pd.read_csv('Admission_Predict.csv')\r\n",
        "print(data.shape)\r\n",
        "data.head()"
      ],
      "execution_count": null,
      "outputs": [
        {
          "output_type": "error",
          "ename": "FileNotFoundError",
          "evalue": "ignored",
          "traceback": [
            "\u001b[0;31m---------------------------------------------------------------------------\u001b[0m",
            "\u001b[0;31mFileNotFoundError\u001b[0m                         Traceback (most recent call last)",
            "\u001b[0;32m<ipython-input-1-256cd83b227e>\u001b[0m in \u001b[0;36m<module>\u001b[0;34m()\u001b[0m\n\u001b[1;32m      7\u001b[0m \u001b[0;34m\u001b[0m\u001b[0m\n\u001b[1;32m      8\u001b[0m \u001b[0;31m#Reading Data\u001b[0m\u001b[0;34m\u001b[0m\u001b[0;34m\u001b[0m\u001b[0;34m\u001b[0m\u001b[0m\n\u001b[0;32m----> 9\u001b[0;31m \u001b[0mdata\u001b[0m \u001b[0;34m=\u001b[0m \u001b[0mpd\u001b[0m\u001b[0;34m.\u001b[0m\u001b[0mread_csv\u001b[0m\u001b[0;34m(\u001b[0m\u001b[0;34m'Admission_Predict.csv'\u001b[0m\u001b[0;34m)\u001b[0m\u001b[0;34m\u001b[0m\u001b[0;34m\u001b[0m\u001b[0m\n\u001b[0m\u001b[1;32m     10\u001b[0m \u001b[0mprint\u001b[0m\u001b[0;34m(\u001b[0m\u001b[0mdata\u001b[0m\u001b[0;34m.\u001b[0m\u001b[0mshape\u001b[0m\u001b[0;34m)\u001b[0m\u001b[0;34m\u001b[0m\u001b[0;34m\u001b[0m\u001b[0m\n\u001b[1;32m     11\u001b[0m \u001b[0mdata\u001b[0m\u001b[0;34m.\u001b[0m\u001b[0mhead\u001b[0m\u001b[0;34m(\u001b[0m\u001b[0;34m)\u001b[0m\u001b[0;34m\u001b[0m\u001b[0;34m\u001b[0m\u001b[0m\n",
            "\u001b[0;32m/usr/local/lib/python3.6/dist-packages/pandas/io/parsers.py\u001b[0m in \u001b[0;36mread_csv\u001b[0;34m(filepath_or_buffer, sep, delimiter, header, names, index_col, usecols, squeeze, prefix, mangle_dupe_cols, dtype, engine, converters, true_values, false_values, skipinitialspace, skiprows, skipfooter, nrows, na_values, keep_default_na, na_filter, verbose, skip_blank_lines, parse_dates, infer_datetime_format, keep_date_col, date_parser, dayfirst, cache_dates, iterator, chunksize, compression, thousands, decimal, lineterminator, quotechar, quoting, doublequote, escapechar, comment, encoding, dialect, error_bad_lines, warn_bad_lines, delim_whitespace, low_memory, memory_map, float_precision)\u001b[0m\n\u001b[1;32m    686\u001b[0m     )\n\u001b[1;32m    687\u001b[0m \u001b[0;34m\u001b[0m\u001b[0m\n\u001b[0;32m--> 688\u001b[0;31m     \u001b[0;32mreturn\u001b[0m \u001b[0m_read\u001b[0m\u001b[0;34m(\u001b[0m\u001b[0mfilepath_or_buffer\u001b[0m\u001b[0;34m,\u001b[0m \u001b[0mkwds\u001b[0m\u001b[0;34m)\u001b[0m\u001b[0;34m\u001b[0m\u001b[0;34m\u001b[0m\u001b[0m\n\u001b[0m\u001b[1;32m    689\u001b[0m \u001b[0;34m\u001b[0m\u001b[0m\n\u001b[1;32m    690\u001b[0m \u001b[0;34m\u001b[0m\u001b[0m\n",
            "\u001b[0;32m/usr/local/lib/python3.6/dist-packages/pandas/io/parsers.py\u001b[0m in \u001b[0;36m_read\u001b[0;34m(filepath_or_buffer, kwds)\u001b[0m\n\u001b[1;32m    452\u001b[0m \u001b[0;34m\u001b[0m\u001b[0m\n\u001b[1;32m    453\u001b[0m     \u001b[0;31m# Create the parser.\u001b[0m\u001b[0;34m\u001b[0m\u001b[0;34m\u001b[0m\u001b[0;34m\u001b[0m\u001b[0m\n\u001b[0;32m--> 454\u001b[0;31m     \u001b[0mparser\u001b[0m \u001b[0;34m=\u001b[0m \u001b[0mTextFileReader\u001b[0m\u001b[0;34m(\u001b[0m\u001b[0mfp_or_buf\u001b[0m\u001b[0;34m,\u001b[0m \u001b[0;34m**\u001b[0m\u001b[0mkwds\u001b[0m\u001b[0;34m)\u001b[0m\u001b[0;34m\u001b[0m\u001b[0;34m\u001b[0m\u001b[0m\n\u001b[0m\u001b[1;32m    455\u001b[0m \u001b[0;34m\u001b[0m\u001b[0m\n\u001b[1;32m    456\u001b[0m     \u001b[0;32mif\u001b[0m \u001b[0mchunksize\u001b[0m \u001b[0;32mor\u001b[0m \u001b[0miterator\u001b[0m\u001b[0;34m:\u001b[0m\u001b[0;34m\u001b[0m\u001b[0;34m\u001b[0m\u001b[0m\n",
            "\u001b[0;32m/usr/local/lib/python3.6/dist-packages/pandas/io/parsers.py\u001b[0m in \u001b[0;36m__init__\u001b[0;34m(self, f, engine, **kwds)\u001b[0m\n\u001b[1;32m    946\u001b[0m             \u001b[0mself\u001b[0m\u001b[0;34m.\u001b[0m\u001b[0moptions\u001b[0m\u001b[0;34m[\u001b[0m\u001b[0;34m\"has_index_names\"\u001b[0m\u001b[0;34m]\u001b[0m \u001b[0;34m=\u001b[0m \u001b[0mkwds\u001b[0m\u001b[0;34m[\u001b[0m\u001b[0;34m\"has_index_names\"\u001b[0m\u001b[0;34m]\u001b[0m\u001b[0;34m\u001b[0m\u001b[0;34m\u001b[0m\u001b[0m\n\u001b[1;32m    947\u001b[0m \u001b[0;34m\u001b[0m\u001b[0m\n\u001b[0;32m--> 948\u001b[0;31m         \u001b[0mself\u001b[0m\u001b[0;34m.\u001b[0m\u001b[0m_make_engine\u001b[0m\u001b[0;34m(\u001b[0m\u001b[0mself\u001b[0m\u001b[0;34m.\u001b[0m\u001b[0mengine\u001b[0m\u001b[0;34m)\u001b[0m\u001b[0;34m\u001b[0m\u001b[0;34m\u001b[0m\u001b[0m\n\u001b[0m\u001b[1;32m    949\u001b[0m \u001b[0;34m\u001b[0m\u001b[0m\n\u001b[1;32m    950\u001b[0m     \u001b[0;32mdef\u001b[0m \u001b[0mclose\u001b[0m\u001b[0;34m(\u001b[0m\u001b[0mself\u001b[0m\u001b[0;34m)\u001b[0m\u001b[0;34m:\u001b[0m\u001b[0;34m\u001b[0m\u001b[0;34m\u001b[0m\u001b[0m\n",
            "\u001b[0;32m/usr/local/lib/python3.6/dist-packages/pandas/io/parsers.py\u001b[0m in \u001b[0;36m_make_engine\u001b[0;34m(self, engine)\u001b[0m\n\u001b[1;32m   1178\u001b[0m     \u001b[0;32mdef\u001b[0m \u001b[0m_make_engine\u001b[0m\u001b[0;34m(\u001b[0m\u001b[0mself\u001b[0m\u001b[0;34m,\u001b[0m \u001b[0mengine\u001b[0m\u001b[0;34m=\u001b[0m\u001b[0;34m\"c\"\u001b[0m\u001b[0;34m)\u001b[0m\u001b[0;34m:\u001b[0m\u001b[0;34m\u001b[0m\u001b[0;34m\u001b[0m\u001b[0m\n\u001b[1;32m   1179\u001b[0m         \u001b[0;32mif\u001b[0m \u001b[0mengine\u001b[0m \u001b[0;34m==\u001b[0m \u001b[0;34m\"c\"\u001b[0m\u001b[0;34m:\u001b[0m\u001b[0;34m\u001b[0m\u001b[0;34m\u001b[0m\u001b[0m\n\u001b[0;32m-> 1180\u001b[0;31m             \u001b[0mself\u001b[0m\u001b[0;34m.\u001b[0m\u001b[0m_engine\u001b[0m \u001b[0;34m=\u001b[0m \u001b[0mCParserWrapper\u001b[0m\u001b[0;34m(\u001b[0m\u001b[0mself\u001b[0m\u001b[0;34m.\u001b[0m\u001b[0mf\u001b[0m\u001b[0;34m,\u001b[0m \u001b[0;34m**\u001b[0m\u001b[0mself\u001b[0m\u001b[0;34m.\u001b[0m\u001b[0moptions\u001b[0m\u001b[0;34m)\u001b[0m\u001b[0;34m\u001b[0m\u001b[0;34m\u001b[0m\u001b[0m\n\u001b[0m\u001b[1;32m   1181\u001b[0m         \u001b[0;32melse\u001b[0m\u001b[0;34m:\u001b[0m\u001b[0;34m\u001b[0m\u001b[0;34m\u001b[0m\u001b[0m\n\u001b[1;32m   1182\u001b[0m             \u001b[0;32mif\u001b[0m \u001b[0mengine\u001b[0m \u001b[0;34m==\u001b[0m \u001b[0;34m\"python\"\u001b[0m\u001b[0;34m:\u001b[0m\u001b[0;34m\u001b[0m\u001b[0;34m\u001b[0m\u001b[0m\n",
            "\u001b[0;32m/usr/local/lib/python3.6/dist-packages/pandas/io/parsers.py\u001b[0m in \u001b[0;36m__init__\u001b[0;34m(self, src, **kwds)\u001b[0m\n\u001b[1;32m   2008\u001b[0m         \u001b[0mkwds\u001b[0m\u001b[0;34m[\u001b[0m\u001b[0;34m\"usecols\"\u001b[0m\u001b[0;34m]\u001b[0m \u001b[0;34m=\u001b[0m \u001b[0mself\u001b[0m\u001b[0;34m.\u001b[0m\u001b[0musecols\u001b[0m\u001b[0;34m\u001b[0m\u001b[0;34m\u001b[0m\u001b[0m\n\u001b[1;32m   2009\u001b[0m \u001b[0;34m\u001b[0m\u001b[0m\n\u001b[0;32m-> 2010\u001b[0;31m         \u001b[0mself\u001b[0m\u001b[0;34m.\u001b[0m\u001b[0m_reader\u001b[0m \u001b[0;34m=\u001b[0m \u001b[0mparsers\u001b[0m\u001b[0;34m.\u001b[0m\u001b[0mTextReader\u001b[0m\u001b[0;34m(\u001b[0m\u001b[0msrc\u001b[0m\u001b[0;34m,\u001b[0m \u001b[0;34m**\u001b[0m\u001b[0mkwds\u001b[0m\u001b[0;34m)\u001b[0m\u001b[0;34m\u001b[0m\u001b[0;34m\u001b[0m\u001b[0m\n\u001b[0m\u001b[1;32m   2011\u001b[0m         \u001b[0mself\u001b[0m\u001b[0;34m.\u001b[0m\u001b[0munnamed_cols\u001b[0m \u001b[0;34m=\u001b[0m \u001b[0mself\u001b[0m\u001b[0;34m.\u001b[0m\u001b[0m_reader\u001b[0m\u001b[0;34m.\u001b[0m\u001b[0munnamed_cols\u001b[0m\u001b[0;34m\u001b[0m\u001b[0;34m\u001b[0m\u001b[0m\n\u001b[1;32m   2012\u001b[0m \u001b[0;34m\u001b[0m\u001b[0m\n",
            "\u001b[0;32mpandas/_libs/parsers.pyx\u001b[0m in \u001b[0;36mpandas._libs.parsers.TextReader.__cinit__\u001b[0;34m()\u001b[0m\n",
            "\u001b[0;32mpandas/_libs/parsers.pyx\u001b[0m in \u001b[0;36mpandas._libs.parsers.TextReader._setup_parser_source\u001b[0;34m()\u001b[0m\n",
            "\u001b[0;31mFileNotFoundError\u001b[0m: [Errno 2] No such file or directory: 'Admission_Predict.csv'"
          ]
        }
      ]
    },
    {
      "cell_type": "code",
      "metadata": {
        "id": "hJWRlUTglVD8"
      },
      "source": [
        "data.drop([\"Serial No.\"],axis=1,inplace=True)"
      ],
      "execution_count": null,
      "outputs": []
    },
    {
      "cell_type": "code",
      "metadata": {
        "colab": {
          "base_uri": "https://localhost:8080/",
          "height": 284
        },
        "id": "N4AeJ2SYlri4",
        "outputId": "e947dc32-e572-4f37-8c2d-41b4559f9628"
      },
      "source": [
        "data.describe().T"
      ],
      "execution_count": null,
      "outputs": [
        {
          "output_type": "execute_result",
          "data": {
            "text/html": [
              "<div>\n",
              "<style scoped>\n",
              "    .dataframe tbody tr th:only-of-type {\n",
              "        vertical-align: middle;\n",
              "    }\n",
              "\n",
              "    .dataframe tbody tr th {\n",
              "        vertical-align: top;\n",
              "    }\n",
              "\n",
              "    .dataframe thead th {\n",
              "        text-align: right;\n",
              "    }\n",
              "</style>\n",
              "<table border=\"1\" class=\"dataframe\">\n",
              "  <thead>\n",
              "    <tr style=\"text-align: right;\">\n",
              "      <th></th>\n",
              "      <th>count</th>\n",
              "      <th>mean</th>\n",
              "      <th>std</th>\n",
              "      <th>min</th>\n",
              "      <th>25%</th>\n",
              "      <th>50%</th>\n",
              "      <th>75%</th>\n",
              "      <th>max</th>\n",
              "    </tr>\n",
              "  </thead>\n",
              "  <tbody>\n",
              "    <tr>\n",
              "      <th>GRE Score</th>\n",
              "      <td>400.0</td>\n",
              "      <td>316.807500</td>\n",
              "      <td>11.473646</td>\n",
              "      <td>290.00</td>\n",
              "      <td>308.00</td>\n",
              "      <td>317.00</td>\n",
              "      <td>325.0000</td>\n",
              "      <td>340.00</td>\n",
              "    </tr>\n",
              "    <tr>\n",
              "      <th>TOEFL Score</th>\n",
              "      <td>400.0</td>\n",
              "      <td>107.410000</td>\n",
              "      <td>6.069514</td>\n",
              "      <td>92.00</td>\n",
              "      <td>103.00</td>\n",
              "      <td>107.00</td>\n",
              "      <td>112.0000</td>\n",
              "      <td>120.00</td>\n",
              "    </tr>\n",
              "    <tr>\n",
              "      <th>University Rating</th>\n",
              "      <td>400.0</td>\n",
              "      <td>3.087500</td>\n",
              "      <td>1.143728</td>\n",
              "      <td>1.00</td>\n",
              "      <td>2.00</td>\n",
              "      <td>3.00</td>\n",
              "      <td>4.0000</td>\n",
              "      <td>5.00</td>\n",
              "    </tr>\n",
              "    <tr>\n",
              "      <th>SOP</th>\n",
              "      <td>400.0</td>\n",
              "      <td>3.400000</td>\n",
              "      <td>1.006869</td>\n",
              "      <td>1.00</td>\n",
              "      <td>2.50</td>\n",
              "      <td>3.50</td>\n",
              "      <td>4.0000</td>\n",
              "      <td>5.00</td>\n",
              "    </tr>\n",
              "    <tr>\n",
              "      <th>LOR</th>\n",
              "      <td>400.0</td>\n",
              "      <td>3.452500</td>\n",
              "      <td>0.898478</td>\n",
              "      <td>1.00</td>\n",
              "      <td>3.00</td>\n",
              "      <td>3.50</td>\n",
              "      <td>4.0000</td>\n",
              "      <td>5.00</td>\n",
              "    </tr>\n",
              "    <tr>\n",
              "      <th>CGPA</th>\n",
              "      <td>400.0</td>\n",
              "      <td>8.598925</td>\n",
              "      <td>0.596317</td>\n",
              "      <td>6.80</td>\n",
              "      <td>8.17</td>\n",
              "      <td>8.61</td>\n",
              "      <td>9.0625</td>\n",
              "      <td>9.92</td>\n",
              "    </tr>\n",
              "    <tr>\n",
              "      <th>Research</th>\n",
              "      <td>400.0</td>\n",
              "      <td>0.547500</td>\n",
              "      <td>0.498362</td>\n",
              "      <td>0.00</td>\n",
              "      <td>0.00</td>\n",
              "      <td>1.00</td>\n",
              "      <td>1.0000</td>\n",
              "      <td>1.00</td>\n",
              "    </tr>\n",
              "    <tr>\n",
              "      <th>Chance of Admit</th>\n",
              "      <td>400.0</td>\n",
              "      <td>0.724350</td>\n",
              "      <td>0.142609</td>\n",
              "      <td>0.34</td>\n",
              "      <td>0.64</td>\n",
              "      <td>0.73</td>\n",
              "      <td>0.8300</td>\n",
              "      <td>0.97</td>\n",
              "    </tr>\n",
              "  </tbody>\n",
              "</table>\n",
              "</div>"
            ],
            "text/plain": [
              "                   count        mean        std  ...     50%       75%     max\n",
              "GRE Score          400.0  316.807500  11.473646  ...  317.00  325.0000  340.00\n",
              "TOEFL Score        400.0  107.410000   6.069514  ...  107.00  112.0000  120.00\n",
              "University Rating  400.0    3.087500   1.143728  ...    3.00    4.0000    5.00\n",
              "SOP                400.0    3.400000   1.006869  ...    3.50    4.0000    5.00\n",
              "LOR                400.0    3.452500   0.898478  ...    3.50    4.0000    5.00\n",
              "CGPA               400.0    8.598925   0.596317  ...    8.61    9.0625    9.92\n",
              "Research           400.0    0.547500   0.498362  ...    1.00    1.0000    1.00\n",
              "Chance of Admit    400.0    0.724350   0.142609  ...    0.73    0.8300    0.97\n",
              "\n",
              "[8 rows x 8 columns]"
            ]
          },
          "metadata": {
            "tags": []
          },
          "execution_count": 4
        }
      ]
    },
    {
      "cell_type": "code",
      "metadata": {
        "colab": {
          "base_uri": "https://localhost:8080/",
          "height": 178
        },
        "id": "9SzkXE5umdy_",
        "outputId": "610089a8-8cb3-46f3-8525-9dcb151d51a1"
      },
      "source": [
        "#Checking graph of each score w.r.t chance of Admit \r\n",
        "import seaborn as sns\r\n",
        "sns.pairplot(data, x_vars=['GRE Score','TOEFL Score','CGPA','University Rating','SOP','LOR ','Research'], y_vars='Chance of Admit ');"
      ],
      "execution_count": null,
      "outputs": [
        {
          "output_type": "display_data",
          "data": {
            "image/png": "[encoded data removed]",
            "text/plain": [
              "<Figure size 1260x180 with 7 Axes>"
            ]
          },
          "metadata": {
            "tags": [],
            "needs_background": "light"
          }
        }
      ]
    },
    {
      "cell_type": "code",
      "metadata": {
        "id": "r_36WuzSxKhF"
      },
      "source": [
        "#Creating a Linear Regression Model\r\n",
        "x = data[['CGPA','GRE Score','TOEFL Score']]\r\n",
        "y = data[['Chance of Admit ']]"
      ],
      "execution_count": null,
      "outputs": []
    },
    {
      "cell_type": "code",
      "metadata": {
        "id": "idTDaJRboZ8h"
      },
      "source": [
        "from sklearn.model_selection import train_test_split\r\n",
        "\r\n",
        "# Split data for test and train the model.\r\n",
        "x_train, x_test, y_train, y_test = train_test_split(x,y,random_state=0,test_size=.20)"
      ],
      "execution_count": null,
      "outputs": []
    },
    {
      "cell_type": "code",
      "metadata": {
        "colab": {
          "base_uri": "https://localhost:8080/"
        },
        "id": "C3vDwm12yMkB",
        "outputId": "2ba2e85f-77a6-4dcd-e13e-675352d67b59"
      },
      "source": [
        "# x shape\r\n",
        "x.shape\r\n"
      ],
      "execution_count": null,
      "outputs": [
        {
          "output_type": "execute_result",
          "data": {
            "text/plain": [
              "(400, 3)"
            ]
          },
          "metadata": {
            "tags": []
          },
          "execution_count": 10
        }
      ]
    },
    {
      "cell_type": "code",
      "metadata": {
        "colab": {
          "base_uri": "https://localhost:8080/"
        },
        "id": "U_abQXkHyhYt",
        "outputId": "454a2480-074d-4ee4-e2db-aeab89431a1c"
      },
      "source": [
        "# x_train shape 80% of data from x - 20% other data for test\r\n",
        "x_train.shape"
      ],
      "execution_count": null,
      "outputs": [
        {
          "output_type": "execute_result",
          "data": {
            "text/plain": [
              "(320, 3)"
            ]
          },
          "metadata": {
            "tags": []
          },
          "execution_count": 11
        }
      ]
    },
    {
      "cell_type": "code",
      "metadata": {
        "colab": {
          "base_uri": "https://localhost:8080/",
          "height": 195
        },
        "id": "9NNekF0nyodU",
        "outputId": "a3adcd73-f820-497b-cf78-1a7b1b929ea2"
      },
      "source": [
        "# x_train first five rows:\r\n",
        "x_train.head()"
      ],
      "execution_count": null,
      "outputs": [
        {
          "output_type": "execute_result",
          "data": {
            "text/html": [
              "<div>\n",
              "<style scoped>\n",
              "    .dataframe tbody tr th:only-of-type {\n",
              "        vertical-align: middle;\n",
              "    }\n",
              "\n",
              "    .dataframe tbody tr th {\n",
              "        vertical-align: top;\n",
              "    }\n",
              "\n",
              "    .dataframe thead th {\n",
              "        text-align: right;\n",
              "    }\n",
              "</style>\n",
              "<table border=\"1\" class=\"dataframe\">\n",
              "  <thead>\n",
              "    <tr style=\"text-align: right;\">\n",
              "      <th></th>\n",
              "      <th>CGPA</th>\n",
              "      <th>GRE Score</th>\n",
              "      <th>TOEFL Score</th>\n",
              "    </tr>\n",
              "  </thead>\n",
              "  <tbody>\n",
              "    <tr>\n",
              "      <th>336</th>\n",
              "      <td>8.79</td>\n",
              "      <td>319</td>\n",
              "      <td>110</td>\n",
              "    </tr>\n",
              "    <tr>\n",
              "      <th>64</th>\n",
              "      <td>8.70</td>\n",
              "      <td>325</td>\n",
              "      <td>111</td>\n",
              "    </tr>\n",
              "    <tr>\n",
              "      <th>55</th>\n",
              "      <td>7.70</td>\n",
              "      <td>320</td>\n",
              "      <td>103</td>\n",
              "    </tr>\n",
              "    <tr>\n",
              "      <th>106</th>\n",
              "      <td>9.18</td>\n",
              "      <td>329</td>\n",
              "      <td>111</td>\n",
              "    </tr>\n",
              "    <tr>\n",
              "      <th>300</th>\n",
              "      <td>8.00</td>\n",
              "      <td>309</td>\n",
              "      <td>106</td>\n",
              "    </tr>\n",
              "  </tbody>\n",
              "</table>\n",
              "</div>"
            ],
            "text/plain": [
              "     CGPA  GRE Score  TOEFL Score\n",
              "336  8.79        319          110\n",
              "64   8.70        325          111\n",
              "55   7.70        320          103\n",
              "106  9.18        329          111\n",
              "300  8.00        309          106"
            ]
          },
          "metadata": {
            "tags": []
          },
          "execution_count": 12
        }
      ]
    },
    {
      "cell_type": "code",
      "metadata": {
        "id": "I9JX3r5Gy3C9"
      },
      "source": [
        "from sklearn.linear_model import LinearRegression\r\n",
        "import random\r\n",
        "from sklearn import metrics\r\n",
        "\r\n",
        "# Train Linear Regression Model\r\n",
        "linreg = LinearRegression()"
      ],
      "execution_count": null,
      "outputs": []
    },
    {
      "cell_type": "code",
      "metadata": {
        "colab": {
          "base_uri": "https://localhost:8080/"
        },
        "id": "p4zNqed0zIHj",
        "outputId": "6722379f-2ea8-4ef3-fc7f-c2ec2d0dfb53"
      },
      "source": [
        "# fiting our data for training\r\n",
        "linreg.fit(x_train,y_train)"
      ],
      "execution_count": null,
      "outputs": [
        {
          "output_type": "execute_result",
          "data": {
            "text/plain": [
              "LinearRegression(copy_X=True, fit_intercept=True, n_jobs=None, normalize=False)"
            ]
          },
          "metadata": {
            "tags": []
          },
          "execution_count": 14
        }
      ]
    },
    {
      "cell_type": "code",
      "metadata": {
        "id": "ezOUgGzgzTn6"
      },
      "source": [
        "# our model is ready to predict y.\r\n",
        "y_predict = linreg.predict(x_test)"
      ],
      "execution_count": null,
      "outputs": []
    },
    {
      "cell_type": "code",
      "metadata": {
        "colab": {
          "base_uri": "https://localhost:8080/"
        },
        "id": "NGSC_6vKzYk_",
        "outputId": "3822bd99-b010-4b01-dc88-3382ef07cfde"
      },
      "source": [
        "# our model prediction\r\n",
        "y_predict[:10]"
      ],
      "execution_count": null,
      "outputs": [
        {
          "output_type": "execute_result",
          "data": {
            "text/plain": [
              "array([[0.69367708],\n",
              "       [0.70808004],\n",
              "       [0.77715683],\n",
              "       [0.64062992],\n",
              "       [0.73691764],\n",
              "       [0.61296614],\n",
              "       [0.72954121],\n",
              "       [0.62755658],\n",
              "       [0.90054979],\n",
              "       [0.90501787]])"
            ]
          },
          "metadata": {
            "tags": []
          },
          "execution_count": 16
        }
      ]
    },
    {
      "cell_type": "markdown",
      "metadata": {
        "id": "Af_PfAeMziiQ"
      },
      "source": [
        "###  **Find Model Acuracy**"
      ]
    },
    {
      "cell_type": "code",
      "metadata": {
        "colab": {
          "base_uri": "https://localhost:8080/"
        },
        "id": "9mlPA9ewzuMi",
        "outputId": "324f1049-715f-4a41-bf28-60c86d8841cc"
      },
      "source": [
        "# y predict\r\n",
        "y_predict[:10]"
      ],
      "execution_count": null,
      "outputs": [
        {
          "output_type": "execute_result",
          "data": {
            "text/plain": [
              "array([[0.69367708],\n",
              "       [0.70808004],\n",
              "       [0.77715683],\n",
              "       [0.64062992],\n",
              "       [0.73691764],\n",
              "       [0.61296614],\n",
              "       [0.72954121],\n",
              "       [0.62755658],\n",
              "       [0.90054979],\n",
              "       [0.90501787]])"
            ]
          },
          "metadata": {
            "tags": []
          },
          "execution_count": 17
        }
      ]
    },
    {
      "cell_type": "code",
      "metadata": {
        "colab": {
          "base_uri": "https://localhost:8080/",
          "height": 343
        },
        "id": "VJ4jdykgz9fr",
        "outputId": "9d8d69a1-4d00-49b6-e439-43380c89fb77"
      },
      "source": [
        "# y test\r\n",
        "y_test[:10]"
      ],
      "execution_count": null,
      "outputs": [
        {
          "output_type": "execute_result",
          "data": {
            "text/html": [
              "<div>\n",
              "<style scoped>\n",
              "    .dataframe tbody tr th:only-of-type {\n",
              "        vertical-align: middle;\n",
              "    }\n",
              "\n",
              "    .dataframe tbody tr th {\n",
              "        vertical-align: top;\n",
              "    }\n",
              "\n",
              "    .dataframe thead th {\n",
              "        text-align: right;\n",
              "    }\n",
              "</style>\n",
              "<table border=\"1\" class=\"dataframe\">\n",
              "  <thead>\n",
              "    <tr style=\"text-align: right;\">\n",
              "      <th></th>\n",
              "      <th>Chance of Admit</th>\n",
              "    </tr>\n",
              "  </thead>\n",
              "  <tbody>\n",
              "    <tr>\n",
              "      <th>132</th>\n",
              "      <td>0.71</td>\n",
              "    </tr>\n",
              "    <tr>\n",
              "      <th>309</th>\n",
              "      <td>0.70</td>\n",
              "    </tr>\n",
              "    <tr>\n",
              "      <th>341</th>\n",
              "      <td>0.79</td>\n",
              "    </tr>\n",
              "    <tr>\n",
              "      <th>196</th>\n",
              "      <td>0.73</td>\n",
              "    </tr>\n",
              "    <tr>\n",
              "      <th>246</th>\n",
              "      <td>0.72</td>\n",
              "    </tr>\n",
              "    <tr>\n",
              "      <th>60</th>\n",
              "      <td>0.48</td>\n",
              "    </tr>\n",
              "    <tr>\n",
              "      <th>155</th>\n",
              "      <td>0.77</td>\n",
              "    </tr>\n",
              "    <tr>\n",
              "      <th>261</th>\n",
              "      <td>0.71</td>\n",
              "    </tr>\n",
              "    <tr>\n",
              "      <th>141</th>\n",
              "      <td>0.90</td>\n",
              "    </tr>\n",
              "    <tr>\n",
              "      <th>214</th>\n",
              "      <td>0.94</td>\n",
              "    </tr>\n",
              "  </tbody>\n",
              "</table>\n",
              "</div>"
            ],
            "text/plain": [
              "     Chance of Admit \n",
              "132              0.71\n",
              "309              0.70\n",
              "341              0.79\n",
              "196              0.73\n",
              "246              0.72\n",
              "60               0.48\n",
              "155              0.77\n",
              "261              0.71\n",
              "141              0.90\n",
              "214              0.94"
            ]
          },
          "metadata": {
            "tags": []
          },
          "execution_count": 18
        }
      ]
    },
    {
      "cell_type": "code",
      "metadata": {
        "colab": {
          "base_uri": "https://localhost:8080/"
        },
        "id": "_V83-9HQ0Kk3",
        "outputId": "fc70665f-dd63-4d47-fdb3-155830b9dd3e"
      },
      "source": [
        "# from sklearn import metrics we can use this for find evaluating the performance\r\n",
        "from sklearn import metrics\r\n",
        "\r\n",
        "metrics.mean_absolute_error(y_test,y_predict)"
      ],
      "execution_count": null,
      "outputs": [
        {
          "output_type": "execute_result",
          "data": {
            "text/plain": [
              "0.050689732983069224"
            ]
          },
          "metadata": {
            "tags": []
          },
          "execution_count": 19
        }
      ]
    },
    {
      "cell_type": "markdown",
      "metadata": {
        "id": "ldfQKLTV0d2k"
      },
      "source": [
        "## **As you can see our model is train with 5% error i.e. 95% test Accuracy**"
      ]
    },
    {
      "cell_type": "markdown",
      "metadata": {
        "id": "6Y8B3OyO49N0"
      },
      "source": [
        "# **Example 2 - From Scratch**"
      ]
    },
    {
      "cell_type": "code",
      "metadata": {
        "colab": {
          "base_uri": "https://localhost:8080/",
          "height": 266
        },
        "id": "F1HEwcqKpA6P",
        "outputId": "1a446b21-6c17-441d-a34d-5dedcbfe1850"
      },
      "source": [
        "%matplotlib inline\r\n",
        "import numpy as np\r\n",
        "import pandas as pd\r\n",
        "import matplotlib.pyplot as plt\r\n",
        "\r\n",
        "# Read Data\r\n",
        "data1 = pd.read_csv(\"Fuel.csv\")\r\n",
        "data1.head()"
      ],
      "execution_count": null,
      "outputs": [
        {
          "output_type": "execute_result",
          "data": {
            "text/html": [
              "<div>\n",
              "<style scoped>\n",
              "    .dataframe tbody tr th:only-of-type {\n",
              "        vertical-align: middle;\n",
              "    }\n",
              "\n",
              "    .dataframe tbody tr th {\n",
              "        vertical-align: top;\n",
              "    }\n",
              "\n",
              "    .dataframe thead th {\n",
              "        text-align: right;\n",
              "    }\n",
              "</style>\n",
              "<table border=\"1\" class=\"dataframe\">\n",
              "  <thead>\n",
              "    <tr style=\"text-align: right;\">\n",
              "      <th></th>\n",
              "      <th>MODELYEAR</th>\n",
              "      <th>MAKE</th>\n",
              "      <th>MODEL</th>\n",
              "      <th>VEHICLECLASS</th>\n",
              "      <th>ENGINESIZE</th>\n",
              "      <th>CYLINDERS</th>\n",
              "      <th>TRANSMISSION</th>\n",
              "      <th>FUELTYPE</th>\n",
              "      <th>FUELCONSUMPTION_CITY</th>\n",
              "      <th>FUELCONSUMPTION_HWY</th>\n",
              "      <th>FUELCONSUMPTION_COMB</th>\n",
              "      <th>FUELCONSUMPTION_COMB_MPG</th>\n",
              "      <th>CO2EMISSIONS</th>\n",
              "    </tr>\n",
              "  </thead>\n",
              "  <tbody>\n",
              "    <tr>\n",
              "      <th>0</th>\n",
              "      <td>2014</td>\n",
              "      <td>ACURA</td>\n",
              "      <td>ILX</td>\n",
              "      <td>COMPACT</td>\n",
              "      <td>2.0</td>\n",
              "      <td>4</td>\n",
              "      <td>AS5</td>\n",
              "      <td>Z</td>\n",
              "      <td>9.9</td>\n",
              "      <td>6.7</td>\n",
              "      <td>8.5</td>\n",
              "      <td>33</td>\n",
              "      <td>196</td>\n",
              "    </tr>\n",
              "    <tr>\n",
              "      <th>1</th>\n",
              "      <td>2014</td>\n",
              "      <td>ACURA</td>\n",
              "      <td>ILX</td>\n",
              "      <td>COMPACT</td>\n",
              "      <td>2.4</td>\n",
              "      <td>4</td>\n",
              "      <td>M6</td>\n",
              "      <td>Z</td>\n",
              "      <td>11.2</td>\n",
              "      <td>7.7</td>\n",
              "      <td>9.6</td>\n",
              "      <td>29</td>\n",
              "      <td>221</td>\n",
              "    </tr>\n",
              "    <tr>\n",
              "      <th>2</th>\n",
              "      <td>2014</td>\n",
              "      <td>ACURA</td>\n",
              "      <td>ILX HYBRID</td>\n",
              "      <td>COMPACT</td>\n",
              "      <td>1.5</td>\n",
              "      <td>4</td>\n",
              "      <td>AV7</td>\n",
              "      <td>Z</td>\n",
              "      <td>6.0</td>\n",
              "      <td>5.8</td>\n",
              "      <td>5.9</td>\n",
              "      <td>48</td>\n",
              "      <td>136</td>\n",
              "    </tr>\n",
              "    <tr>\n",
              "      <th>3</th>\n",
              "      <td>2014</td>\n",
              "      <td>ACURA</td>\n",
              "      <td>MDX 4WD</td>\n",
              "      <td>SUV - SMALL</td>\n",
              "      <td>3.5</td>\n",
              "      <td>6</td>\n",
              "      <td>AS6</td>\n",
              "      <td>Z</td>\n",
              "      <td>12.7</td>\n",
              "      <td>9.1</td>\n",
              "      <td>11.1</td>\n",
              "      <td>25</td>\n",
              "      <td>255</td>\n",
              "    </tr>\n",
              "    <tr>\n",
              "      <th>4</th>\n",
              "      <td>2014</td>\n",
              "      <td>ACURA</td>\n",
              "      <td>RDX AWD</td>\n",
              "      <td>SUV - SMALL</td>\n",
              "      <td>3.5</td>\n",
              "      <td>6</td>\n",
              "      <td>AS6</td>\n",
              "      <td>Z</td>\n",
              "      <td>12.1</td>\n",
              "      <td>8.7</td>\n",
              "      <td>10.6</td>\n",
              "      <td>27</td>\n",
              "      <td>244</td>\n",
              "    </tr>\n",
              "  </tbody>\n",
              "</table>\n",
              "</div>"
            ],
            "text/plain": [
              "   MODELYEAR   MAKE  ... FUELCONSUMPTION_COMB_MPG CO2EMISSIONS\n",
              "0       2014  ACURA  ...                       33          196\n",
              "1       2014  ACURA  ...                       29          221\n",
              "2       2014  ACURA  ...                       48          136\n",
              "3       2014  ACURA  ...                       25          255\n",
              "4       2014  ACURA  ...                       27          244\n",
              "\n",
              "[5 rows x 13 columns]"
            ]
          },
          "metadata": {
            "tags": []
          },
          "execution_count": 1
        }
      ]
    },
    {
      "cell_type": "code",
      "metadata": {
        "colab": {
          "base_uri": "https://localhost:8080/"
        },
        "id": "cHmTYukXpunU",
        "outputId": "849942ca-e8db-468c-8f4d-790c456bfdac"
      },
      "source": [
        "data1.columns"
      ],
      "execution_count": null,
      "outputs": [
        {
          "output_type": "execute_result",
          "data": {
            "text/plain": [
              "Index(['MODELYEAR', 'MAKE', 'MODEL', 'VEHICLECLASS', 'ENGINESIZE', 'CYLINDERS',\n",
              "       'TRANSMISSION', 'FUELTYPE', 'FUELCONSUMPTION_CITY',\n",
              "       'FUELCONSUMPTION_HWY', 'FUELCONSUMPTION_COMB',\n",
              "       'FUELCONSUMPTION_COMB_MPG', 'CO2EMISSIONS'],\n",
              "      dtype='object')"
            ]
          },
          "metadata": {
            "tags": []
          },
          "execution_count": 2
        }
      ]
    },
    {
      "cell_type": "code",
      "metadata": {
        "colab": {
          "base_uri": "https://localhost:8080/",
          "height": 284
        },
        "id": "OLjfWKDAtesz",
        "outputId": "1ce986ed-6ce7-47f8-929c-8e2a10ac64da"
      },
      "source": [
        "data1.describe().T"
      ],
      "execution_count": null,
      "outputs": [
        {
          "output_type": "execute_result",
          "data": {
            "text/html": [
              "<div>\n",
              "<style scoped>\n",
              "    .dataframe tbody tr th:only-of-type {\n",
              "        vertical-align: middle;\n",
              "    }\n",
              "\n",
              "    .dataframe tbody tr th {\n",
              "        vertical-align: top;\n",
              "    }\n",
              "\n",
              "    .dataframe thead th {\n",
              "        text-align: right;\n",
              "    }\n",
              "</style>\n",
              "<table border=\"1\" class=\"dataframe\">\n",
              "  <thead>\n",
              "    <tr style=\"text-align: right;\">\n",
              "      <th></th>\n",
              "      <th>count</th>\n",
              "      <th>mean</th>\n",
              "      <th>std</th>\n",
              "      <th>min</th>\n",
              "      <th>25%</th>\n",
              "      <th>50%</th>\n",
              "      <th>75%</th>\n",
              "      <th>max</th>\n",
              "    </tr>\n",
              "  </thead>\n",
              "  <tbody>\n",
              "    <tr>\n",
              "      <th>MODELYEAR</th>\n",
              "      <td>1067.0</td>\n",
              "      <td>2014.000000</td>\n",
              "      <td>0.000000</td>\n",
              "      <td>2014.0</td>\n",
              "      <td>2014.00</td>\n",
              "      <td>2014.0</td>\n",
              "      <td>2014.00</td>\n",
              "      <td>2014.0</td>\n",
              "    </tr>\n",
              "    <tr>\n",
              "      <th>ENGINESIZE</th>\n",
              "      <td>1067.0</td>\n",
              "      <td>3.346298</td>\n",
              "      <td>1.415895</td>\n",
              "      <td>1.0</td>\n",
              "      <td>2.00</td>\n",
              "      <td>3.4</td>\n",
              "      <td>4.30</td>\n",
              "      <td>8.4</td>\n",
              "    </tr>\n",
              "    <tr>\n",
              "      <th>CYLINDERS</th>\n",
              "      <td>1067.0</td>\n",
              "      <td>5.794752</td>\n",
              "      <td>1.797447</td>\n",
              "      <td>3.0</td>\n",
              "      <td>4.00</td>\n",
              "      <td>6.0</td>\n",
              "      <td>8.00</td>\n",
              "      <td>12.0</td>\n",
              "    </tr>\n",
              "    <tr>\n",
              "      <th>FUELCONSUMPTION_CITY</th>\n",
              "      <td>1067.0</td>\n",
              "      <td>13.296532</td>\n",
              "      <td>4.101253</td>\n",
              "      <td>4.6</td>\n",
              "      <td>10.25</td>\n",
              "      <td>12.6</td>\n",
              "      <td>15.55</td>\n",
              "      <td>30.2</td>\n",
              "    </tr>\n",
              "    <tr>\n",
              "      <th>FUELCONSUMPTION_HWY</th>\n",
              "      <td>1067.0</td>\n",
              "      <td>9.474602</td>\n",
              "      <td>2.794510</td>\n",
              "      <td>4.9</td>\n",
              "      <td>7.50</td>\n",
              "      <td>8.8</td>\n",
              "      <td>10.85</td>\n",
              "      <td>20.5</td>\n",
              "    </tr>\n",
              "    <tr>\n",
              "      <th>FUELCONSUMPTION_COMB</th>\n",
              "      <td>1067.0</td>\n",
              "      <td>11.580881</td>\n",
              "      <td>3.485595</td>\n",
              "      <td>4.7</td>\n",
              "      <td>9.00</td>\n",
              "      <td>10.9</td>\n",
              "      <td>13.35</td>\n",
              "      <td>25.8</td>\n",
              "    </tr>\n",
              "    <tr>\n",
              "      <th>FUELCONSUMPTION_COMB_MPG</th>\n",
              "      <td>1067.0</td>\n",
              "      <td>26.441425</td>\n",
              "      <td>7.468702</td>\n",
              "      <td>11.0</td>\n",
              "      <td>21.00</td>\n",
              "      <td>26.0</td>\n",
              "      <td>31.00</td>\n",
              "      <td>60.0</td>\n",
              "    </tr>\n",
              "    <tr>\n",
              "      <th>CO2EMISSIONS</th>\n",
              "      <td>1067.0</td>\n",
              "      <td>256.228679</td>\n",
              "      <td>63.372304</td>\n",
              "      <td>108.0</td>\n",
              "      <td>207.00</td>\n",
              "      <td>251.0</td>\n",
              "      <td>294.00</td>\n",
              "      <td>488.0</td>\n",
              "    </tr>\n",
              "  </tbody>\n",
              "</table>\n",
              "</div>"
            ],
            "text/plain": [
              "                           count         mean  ...      75%     max\n",
              "MODELYEAR                 1067.0  2014.000000  ...  2014.00  2014.0\n",
              "ENGINESIZE                1067.0     3.346298  ...     4.30     8.4\n",
              "CYLINDERS                 1067.0     5.794752  ...     8.00    12.0\n",
              "FUELCONSUMPTION_CITY      1067.0    13.296532  ...    15.55    30.2\n",
              "FUELCONSUMPTION_HWY       1067.0     9.474602  ...    10.85    20.5\n",
              "FUELCONSUMPTION_COMB      1067.0    11.580881  ...    13.35    25.8\n",
              "FUELCONSUMPTION_COMB_MPG  1067.0    26.441425  ...    31.00    60.0\n",
              "CO2EMISSIONS              1067.0   256.228679  ...   294.00   488.0\n",
              "\n",
              "[8 rows x 8 columns]"
            ]
          },
          "metadata": {
            "tags": []
          },
          "execution_count": 3
        }
      ]
    },
    {
      "cell_type": "code",
      "metadata": {
        "colab": {
          "base_uri": "https://localhost:8080/",
          "height": 195
        },
        "id": "JdcAY_XautU_",
        "outputId": "e3e27267-3d43-4db9-d7e7-4664dba331eb"
      },
      "source": [
        "data1 = data1[[\"ENGINESIZE\", \"CYLINDERS\", \"FUELCONSUMPTION_COMB\", \"CO2EMISSIONS\"]]\r\n",
        "data1.head()"
      ],
      "execution_count": null,
      "outputs": [
        {
          "output_type": "execute_result",
          "data": {
            "text/html": [
              "<div>\n",
              "<style scoped>\n",
              "    .dataframe tbody tr th:only-of-type {\n",
              "        vertical-align: middle;\n",
              "    }\n",
              "\n",
              "    .dataframe tbody tr th {\n",
              "        vertical-align: top;\n",
              "    }\n",
              "\n",
              "    .dataframe thead th {\n",
              "        text-align: right;\n",
              "    }\n",
              "</style>\n",
              "<table border=\"1\" class=\"dataframe\">\n",
              "  <thead>\n",
              "    <tr style=\"text-align: right;\">\n",
              "      <th></th>\n",
              "      <th>ENGINESIZE</th>\n",
              "      <th>CYLINDERS</th>\n",
              "      <th>FUELCONSUMPTION_COMB</th>\n",
              "      <th>CO2EMISSIONS</th>\n",
              "    </tr>\n",
              "  </thead>\n",
              "  <tbody>\n",
              "    <tr>\n",
              "      <th>0</th>\n",
              "      <td>2.0</td>\n",
              "      <td>4</td>\n",
              "      <td>8.5</td>\n",
              "      <td>196</td>\n",
              "    </tr>\n",
              "    <tr>\n",
              "      <th>1</th>\n",
              "      <td>2.4</td>\n",
              "      <td>4</td>\n",
              "      <td>9.6</td>\n",
              "      <td>221</td>\n",
              "    </tr>\n",
              "    <tr>\n",
              "      <th>2</th>\n",
              "      <td>1.5</td>\n",
              "      <td>4</td>\n",
              "      <td>5.9</td>\n",
              "      <td>136</td>\n",
              "    </tr>\n",
              "    <tr>\n",
              "      <th>3</th>\n",
              "      <td>3.5</td>\n",
              "      <td>6</td>\n",
              "      <td>11.1</td>\n",
              "      <td>255</td>\n",
              "    </tr>\n",
              "    <tr>\n",
              "      <th>4</th>\n",
              "      <td>3.5</td>\n",
              "      <td>6</td>\n",
              "      <td>10.6</td>\n",
              "      <td>244</td>\n",
              "    </tr>\n",
              "  </tbody>\n",
              "</table>\n",
              "</div>"
            ],
            "text/plain": [
              "   ENGINESIZE  CYLINDERS  FUELCONSUMPTION_COMB  CO2EMISSIONS\n",
              "0         2.0          4                   8.5           196\n",
              "1         2.4          4                   9.6           221\n",
              "2         1.5          4                   5.9           136\n",
              "3         3.5          6                  11.1           255\n",
              "4         3.5          6                  10.6           244"
            ]
          },
          "metadata": {
            "tags": []
          },
          "execution_count": 4
        }
      ]
    },
    {
      "cell_type": "code",
      "metadata": {
        "colab": {
          "base_uri": "https://localhost:8080/",
          "height": 692
        },
        "id": "EFjA94UD0LgF",
        "outputId": "56b8e6a0-6279-44e8-8ea3-fd55a5e6b7c7"
      },
      "source": [
        "# Plotting each of the features \r\n",
        "data1.hist(figsize=(10,10))"
      ],
      "execution_count": null,
      "outputs": [
        {
          "output_type": "execute_result",
          "data": {
            "text/plain": [
              "array([[<matplotlib.axes._subplots.AxesSubplot object at 0x7fb5007ba400>,\n",
              "        <matplotlib.axes._subplots.AxesSubplot object at 0x7fb5007916d8>],\n",
              "       [<matplotlib.axes._subplots.AxesSubplot object at 0x7fb500747940>,\n",
              "        <matplotlib.axes._subplots.AxesSubplot object at 0x7fb5006f9ba8>]],\n",
              "      dtype=object)"
            ]
          },
          "metadata": {
            "tags": []
          },
          "execution_count": 5
        },
        {
          "output_type": "display_data",
          "data": {
            "image/png": "[encoded data removed]",
            "text/plain": [
              "<Figure size 720x720 with 4 Axes>"
            ]
          },
          "metadata": {
            "tags": [],
            "needs_background": "light"
          }
        }
      ]
    },
    {
      "cell_type": "code",
      "metadata": {
        "colab": {
          "base_uri": "https://localhost:8080/"
        },
        "id": "4PPbkgve2Xb7",
        "outputId": "1bc9c459-f74f-4520-a967-ea57664bf6ff"
      },
      "source": [
        "# Taking 80% of the data for training and 20% for test.\r\n",
        "\r\n",
        "train = data1[:(int((len(data1)*0.8)))]\r\n",
        "test = data1[(int((len(data1)*0.8))):]\r\n",
        "\r\n",
        "print(\"Training Data\", train.shape)\r\n",
        "print(\"Test Data\", test.shape)\r\n",
        "print(\"Total Data\", data1.shape)"
      ],
      "execution_count": null,
      "outputs": [
        {
          "output_type": "stream",
          "text": [
            "Training Data (853, 4)\n",
            "Test Data (214, 4)\n",
            "Total Data (1067, 4)\n"
          ],
          "name": "stdout"
        }
      ]
    },
    {
      "cell_type": "code",
      "metadata": {
        "colab": {
          "base_uri": "https://localhost:8080/"
        },
        "id": "n3kuEI_kF3VQ",
        "outputId": "009473d9-6874-4972-bbc7-36189476e9a2"
      },
      "source": [
        "# Finding the average co2 emission :\r\n",
        "\r\n",
        "Emission = data1[\"CO2EMISSIONS\"]\r\n",
        "\r\n",
        "sum_emission = Emission.sum()\r\n",
        "num_cars = len(Emission)\r\n",
        "avg_prices1 = sum_emission/num_cars\r\n",
        "avg_prices2 = Emission.mean()\r\n",
        "print (avg_prices1)\r\n",
        "print (avg_prices2)"
      ],
      "execution_count": null,
      "outputs": [
        {
          "output_type": "stream",
          "text": [
            "256.2286785379569\n",
            "256.2286785379569\n"
          ],
          "name": "stdout"
        }
      ]
    },
    {
      "cell_type": "code",
      "metadata": {
        "id": "6uHtJh9RGvyj"
      },
      "source": [
        "# Function to find Slope and Intercept :\r\n",
        "\r\n",
        "def linear_regression(features, output):\r\n",
        "    Xi = features\r\n",
        "    Yi = output\r\n",
        "    N = len(Xi)\r\n",
        "    \r\n",
        "    Yi_mean = Yi.mean()\r\n",
        "    Xi_mean = Xi.mean()\r\n",
        "    \r\n",
        "    S_YiXi = (Yi*Xi).sum()\r\n",
        "    Yi_Xi_ByN = (Yi.sum() * Xi.sum()) / N\r\n",
        "    \r\n",
        "    S_XiXi = (Xi*Xi).sum()\r\n",
        "    XiXi_ByN = (Xi.sum() * Xi.sum()) / N\r\n",
        "    \r\n",
        "    slope = (S_YiXi - Yi_Xi_ByN) / (S_XiXi - XiXi_ByN)\r\n",
        "    \r\n",
        "    intercept = Yi_mean - slope * Xi_mean\r\n",
        "\r\n",
        "    return (intercept, slope)"
      ],
      "execution_count": null,
      "outputs": []
    },
    {
      "cell_type": "code",
      "metadata": {
        "colab": {
          "base_uri": "https://localhost:8080/"
        },
        "id": "GlGkPazgHXzq",
        "outputId": "74676444-09bd-4995-dfdb-4ec747bfaf29"
      },
      "source": [
        "# Finding slope and Interccept for actual data :\r\n",
        "\r\n",
        "co2_intercept , co2_slope = linear_regression(train[\"ENGINESIZE\"],train[\"CO2EMISSIONS\"])\r\n",
        "\r\n",
        "print (\"Intercept\",co2_intercept)\r\n",
        "print (\"Slope\",co2_slope)"
      ],
      "execution_count": null,
      "outputs": [
        {
          "output_type": "stream",
          "text": [
            "Intercept 127.16989950881992\n",
            "Slope 38.79512383605651\n"
          ],
          "name": "stdout"
        }
      ]
    },
    {
      "cell_type": "code",
      "metadata": {
        "colab": {
          "base_uri": "https://localhost:8080/",
          "height": 643
        },
        "id": "AktYqXYaHi76",
        "outputId": "9e79dd34-6b45-4eef-9a04-ea16c2ac3355"
      },
      "source": [
        "# Plotting regression line with data points :\r\n",
        "\r\n",
        "plt.scatter(train[\"ENGINESIZE\"], train[\"CO2EMISSIONS\"],  color='blue')\r\n",
        "plt.plot(train[\"ENGINESIZE\"], co2_slope*train[\"ENGINESIZE\"] + co2_intercept, '-r')\r\n",
        "plt.xlabel(\"Engine size\")\r\n",
        "plt.ylabel(\"Emission\")"
      ],
      "execution_count": null,
      "outputs": [
        {
          "output_type": "execute_result",
          "data": {
            "text/plain": [
              "Text(0, 0.5, 'Emission')"
            ]
          },
          "metadata": {
            "tags": []
          },
          "execution_count": 40
        },
        {
          "output_type": "display_data",
          "data": {
            "image/png": "[encoded data removed]",
            "text/plain": [
              "<Figure size 1440x720 with 1 Axes>"
            ]
          },
          "metadata": {
            "tags": [],
            "needs_background": "light"
          }
        }
      ]
    },
    {
      "cell_type": "code",
      "metadata": {
        "id": "UcyRswOPIFPL"
      },
      "source": [
        "def regression_predictions(input_features,intercept,slope):\r\n",
        "    predicted_values = input_features*slope + intercept\r\n",
        "    \r\n",
        "    return predicted_values"
      ],
      "execution_count": null,
      "outputs": []
    },
    {
      "cell_type": "code",
      "metadata": {
        "colab": {
          "base_uri": "https://localhost:8080/"
        },
        "id": "BX-t22LGIl4C",
        "outputId": "6ee1b776-33ad-4509-b343-4b4ba0b417a8"
      },
      "source": [
        "# Predicting emission for future car :\r\n",
        "\r\n",
        "my_engine_size = 3.5\r\n",
        "\r\n",
        "estimatd_emission = regression_predictions(my_engine_size,co2_intercept,co2_slope)\r\n",
        "print (\"Estimated Emission :\",estimatd_emission)"
      ],
      "execution_count": null,
      "outputs": [
        {
          "output_type": "stream",
          "text": [
            "Estimated Emission : 262.9528329350177\n"
          ],
          "name": "stdout"
        }
      ]
    },
    {
      "cell_type": "code",
      "metadata": {
        "id": "lXH2Z6SHIt5b"
      },
      "source": [
        "# Calculating the error in prediction :\r\n",
        "\r\n",
        "def residual_sum_of_squares(input_feature,output,intercept,slope):\r\n",
        "    prediction = input_feature*slope + intercept\r\n",
        "    \r\n",
        "    residual = output - prediction\r\n",
        "    \r\n",
        "    RSS = (residual*residual).sum()\r\n",
        "    \r\n",
        "    return (RSS)"
      ],
      "execution_count": null,
      "outputs": []
    },
    {
      "cell_type": "code",
      "metadata": {
        "colab": {
          "base_uri": "https://localhost:8080/"
        },
        "id": "xrX401O6J75Z",
        "outputId": "3db80f1f-984a-44ef-8bf9-d5907ecd82c8"
      },
      "source": [
        "# Calculate the error for our test dataset:\r\n",
        "\r\n",
        "print (residual_sum_of_squares(test[\"ENGINESIZE\"],test[\"CO2EMISSIONS\"],co2_intercept,co2_slope))"
      ],
      "execution_count": null,
      "outputs": [
        {
          "output_type": "stream",
          "text": [
            "159741.10295932263\n"
          ],
          "name": "stdout"
        }
      ]
    },
    {
      "cell_type": "code",
      "metadata": {
        "colab": {
          "base_uri": "https://localhost:8080/"
        },
        "id": "Y4zZ4tg8KCW7",
        "outputId": "e6a4e40d-f5c1-4716-a296-8022a6c54bcc"
      },
      "source": [
        "# Calculate the error for our train dataset:\r\n",
        "\r\n",
        "print (residual_sum_of_squares(train[\"ENGINESIZE\"],train[\"CO2EMISSIONS\"],co2_intercept,co2_slope))"
      ],
      "execution_count": null,
      "outputs": [
        {
          "output_type": "stream",
          "text": [
            "850827.1822780487\n"
          ],
          "name": "stdout"
        }
      ]
    },
    {
      "cell_type": "code",
      "metadata": {
        "id": "sSgAtitrKSff"
      },
      "source": [
        "# Function to calculate the R^2 :\r\n",
        "\r\n",
        "def R_Squared(input_feature,output,intercept,slope):\r\n",
        "    prediction = input_feature*slope + intercept\r\n",
        "    \r\n",
        "    residual = output - prediction\r\n",
        "    \r\n",
        "    RES = (residual*residual).sum()\r\n",
        "    \r\n",
        "    REST = output - output.mean()\r\n",
        "    \r\n",
        "    TOT = (REST*REST).sum()\r\n",
        "    \r\n",
        "    return (1 - RES/TOT)"
      ],
      "execution_count": null,
      "outputs": []
    },
    {
      "cell_type": "code",
      "metadata": {
        "colab": {
          "base_uri": "https://localhost:8080/"
        },
        "id": "I57P4MFyKYPM",
        "outputId": "52accc04-9eeb-4982-a252-93f5d82e0b46"
      },
      "source": [
        "# Caluclating the R^2 for our dataset \r\n",
        "\r\n",
        "print(R_Squared(test[\"ENGINESIZE\"],test[\"CO2EMISSIONS\"],co2_intercept,co2_slope))"
      ],
      "execution_count": null,
      "outputs": [
        {
          "output_type": "stream",
          "text": [
            "0.7861345372905505\n"
          ],
          "name": "stdout"
        }
      ]
    },
    {
      "cell_type": "markdown",
      "metadata": {
        "id": "BnRSo7M8zkgm"
      },
      "source": [
        "# **Linear Regression using Gradient Descent**"
      ]
    },
    {
      "cell_type": "code",
      "metadata": {
        "id": "nbgL3_j65gtn"
      },
      "source": [
        "# Gradient Descent Function\r\n",
        "\r\n",
        "def better_Linear_Regression(features, output):\r\n",
        "  Xi = features\r\n",
        "  Yi = output\r\n",
        "  m = 0\r\n",
        "  c = 0\r\n",
        "\r\n",
        "  L = 0.001  # The learning Rate\r\n",
        "  epochs = 3000  # The number of iterations to perform gradient descent\r\n",
        "\r\n",
        "  n = float(len(Yi)) # Number of elements in Xi\r\n",
        "\r\n",
        "  # Performing Gradient Descent\r\n",
        "  for i in range(epochs):\r\n",
        "    Y_pred = m*Xi + c  # The current predicted value of Y\r\n",
        "    D_m = (-1/n) * sum(Xi * (Yi - Y_pred))  # Derivative wrt m\r\n",
        "    D_c = (-1/n) * sum(Yi - Y_pred)  # Derivative wrt c\r\n",
        "    m = m - L * D_m  # Update m\r\n",
        "    c = c - L * D_c  # Update c\r\n",
        "   \r\n",
        "  return (c, m)"
      ],
      "execution_count": null,
      "outputs": []
    },
    {
      "cell_type": "code",
      "metadata": {
        "colab": {
          "base_uri": "https://localhost:8080/"
        },
        "id": "QHMeTeOn6PU-",
        "outputId": "0934d76b-d270-4515-fdfc-62aedbce4c43"
      },
      "source": [
        "# Finding slope and Interccept for actual data :\r\n",
        "\r\n",
        "co2_intercept , co2_slope = better_Linear_Regression(train[\"ENGINESIZE\"],train[\"CO2EMISSIONS\"])\r\n",
        "\r\n",
        "print (\"Intercept\",co2_intercept)\r\n",
        "print (\"Slope\",co2_slope)"
      ],
      "execution_count": null,
      "outputs": [
        {
          "output_type": "stream",
          "text": [
            "Intercept 55.05188684914352\n",
            "Slope 56.968054406125624\n"
          ],
          "name": "stdout"
        }
      ]
    },
    {
      "cell_type": "code",
      "metadata": {
        "colab": {
          "base_uri": "https://localhost:8080/",
          "height": 297
        },
        "id": "lIlfc1Qs6n1L",
        "outputId": "0f9b666c-8473-47bd-a642-23bcf86a54d1"
      },
      "source": [
        "# Plotting regression line with data points :\r\n",
        "\r\n",
        "plt.scatter(train[\"ENGINESIZE\"], train[\"CO2EMISSIONS\"],  color='blue')\r\n",
        "plt.plot(train[\"ENGINESIZE\"], co2_slope*train[\"ENGINESIZE\"] + co2_intercept, '-r')\r\n",
        "plt.xlabel(\"Engine size\")\r\n",
        "plt.ylabel(\"Emission\")"
      ],
      "execution_count": null,
      "outputs": [
        {
          "output_type": "execute_result",
          "data": {
            "text/plain": [
              "Text(0, 0.5, 'Emission')"
            ]
          },
          "metadata": {
            "tags": []
          },
          "execution_count": 48
        },
        {
          "output_type": "display_data",
          "data": {
            "image/png": "[encoded data removed]",
            "text/plain": [
              "<Figure size 432x288 with 1 Axes>"
            ]
          },
          "metadata": {
            "tags": [],
            "needs_background": "light"
          }
        }
      ]
    },
    {
      "cell_type": "code",
      "metadata": {
        "id": "aZJ5qaE88UER"
      },
      "source": [
        "def regression_predictions(input_features,intercept,slope):\r\n",
        "    predicted_values = input_features*slope + intercept\r\n",
        "    \r\n",
        "    return predicted_values"
      ],
      "execution_count": null,
      "outputs": []
    },
    {
      "cell_type": "code",
      "metadata": {
        "colab": {
          "base_uri": "https://localhost:8080/"
        },
        "id": "YzrKqfh_8Z0y",
        "outputId": "c84676ea-2285-4df1-8ae8-6c863d3e9543"
      },
      "source": [
        "# Predicting emission for future car :\r\n",
        "\r\n",
        "my_engine_size = 3.5\r\n",
        "\r\n",
        "estimatd_emission = regression_predictions(my_engine_size,co2_intercept,co2_slope)\r\n",
        "print (\"Estimated Emission :\",estimatd_emission)"
      ],
      "execution_count": null,
      "outputs": [
        {
          "output_type": "stream",
          "text": [
            "Estimated Emission : 267.5506335546307\n"
          ],
          "name": "stdout"
        }
      ]
    },
    {
      "cell_type": "code",
      "metadata": {
        "id": "UCFD7I458gAB"
      },
      "source": [
        "# Calculating the error in prediction :\r\n",
        "\r\n",
        "def residual_sum_of_squares(input_feature,output,intercept,slope):\r\n",
        "    prediction = input_feature*slope + intercept\r\n",
        "    \r\n",
        "    residual = output - prediction\r\n",
        "    \r\n",
        "    RSS = (residual*residual).sum()\r\n",
        "    \r\n",
        "    return (RSS)"
      ],
      "execution_count": null,
      "outputs": []
    },
    {
      "cell_type": "code",
      "metadata": {
        "colab": {
          "base_uri": "https://localhost:8080/"
        },
        "id": "pJrYzjwT8mqy",
        "outputId": "07f266de-fc70-493f-8e9a-3b9eb868299e"
      },
      "source": [
        "# Calculate the error for our test dataset:\r\n",
        "\r\n",
        "print (residual_sum_of_squares(test[\"ENGINESIZE\"],test[\"CO2EMISSIONS\"],co2_intercept,co2_slope))"
      ],
      "execution_count": null,
      "outputs": [
        {
          "output_type": "stream",
          "text": [
            "307559.3544647371\n"
          ],
          "name": "stdout"
        }
      ]
    },
    {
      "cell_type": "code",
      "metadata": {
        "colab": {
          "base_uri": "https://localhost:8080/"
        },
        "id": "KynyDuAj8u9s",
        "outputId": "897abfac-b874-4a7c-c2ea-d81bd92dc993"
      },
      "source": [
        "# Calculate the error for our train dataset:\r\n",
        "\r\n",
        "print (residual_sum_of_squares(train[\"ENGINESIZE\"],train[\"CO2EMISSIONS\"],co2_intercept,co2_slope))"
      ],
      "execution_count": null,
      "outputs": [
        {
          "output_type": "stream",
          "text": [
            "1688660.020957066\n"
          ],
          "name": "stdout"
        }
      ]
    },
    {
      "cell_type": "code",
      "metadata": {
        "id": "xkAQdTpu84Kw"
      },
      "source": [
        "# Function to calculate the R^2 :\r\n",
        "\r\n",
        "def R_Squared(input_feature,output,intercept,slope):\r\n",
        "    prediction = input_feature*slope + intercept\r\n",
        "    \r\n",
        "    residual = output - prediction\r\n",
        "    \r\n",
        "    RES = (residual*residual).sum()\r\n",
        "    \r\n",
        "    REST = output - output.mean()\r\n",
        "    \r\n",
        "    TOT = (REST*REST).sum()\r\n",
        "    \r\n",
        "    return (1 - RES/TOT)"
      ],
      "execution_count": null,
      "outputs": []
    },
    {
      "cell_type": "code",
      "metadata": {
        "colab": {
          "base_uri": "https://localhost:8080/"
        },
        "id": "ZwM63d5O88ml",
        "outputId": "f9c65bcf-ad89-4076-b763-5edfb66c1330"
      },
      "source": [
        "# Caluclating the R^2 for our dataset \r\n",
        "\r\n",
        "print(R_Squared(test[\"ENGINESIZE\"],test[\"CO2EMISSIONS\"],co2_intercept,co2_slope))"
      ],
      "execution_count": null,
      "outputs": [
        {
          "output_type": "stream",
          "text": [
            "0.5882316921902672\n"
          ],
          "name": "stdout"
        }
      ]
    },
    {
      "cell_type": "markdown",
      "metadata": {
        "id": "L_XsqAmsChi1"
      },
      "source": [
        "# **Test Example**"
      ]
    },
    {
      "cell_type": "code",
      "metadata": {
        "id": "F1Kec40Ieg3X",
        "colab": {
          "base_uri": "https://localhost:8080/",
          "height": 537
        },
        "outputId": "a9b5f493-5b1a-4671-876e-19866cc21f92"
      },
      "source": [
        "import numpy as np\r\n",
        "import pandas as pd\r\n",
        "import matplotlib.pyplot as plt\r\n",
        "plt.rcParams['figure.figsize'] = (12.0, 9.0)\r\n",
        "\r\n",
        "# Preprocessing Input data\r\n",
        "data = pd.read_csv('Salary_Data.csv')\r\n",
        "X = data.iloc[:, 0]\r\n",
        "Y = data.iloc[:, 1]\r\n",
        "plt.scatter(X, Y)\r\n",
        "plt.show()"
      ],
      "execution_count": null,
      "outputs": [
        {
          "output_type": "display_data",
          "data": {
            "image/png": "[encoded data removed]",
            "text/plain": [
              "<Figure size 864x648 with 1 Axes>"
            ]
          },
          "metadata": {
            "tags": [],
            "needs_background": "light"
          }
        }
      ]
    },
    {
      "cell_type": "code",
      "metadata": {
        "colab": {
          "base_uri": "https://localhost:8080/"
        },
        "id": "IkFFkhFo0pDa",
        "outputId": "33ec4ec4-2dfd-406e-8051-9d7350f5d5d1"
      },
      "source": [
        "# Building the model\r\n",
        "m = 0\r\n",
        "c = 0\r\n",
        "\r\n",
        "L = 0.01  # The learning Rate\r\n",
        "epochs = 1000  # The number of iterations to perform gradient descent\r\n",
        "\r\n",
        "n = float(len(X)) # Number of elements in X\r\n",
        "\r\n",
        "# Performing Gradient Descent\r\n",
        "for i in range(epochs):\r\n",
        "    Y_pred = m*X + c  # The current predicted value of Y\r\n",
        "    D_m = (-2/n) * sum(X * (Y - Y_pred))  # Derivative wrt m\r\n",
        "    D_c = (-2/n) * sum(Y - Y_pred)  # Derivative wrt c\r\n",
        "    m = m - L * D_m  # Update m\r\n",
        "    c = c - L * D_c  # Update c\r\n",
        "   \r\n",
        "print (m, c)"
      ],
      "execution_count": null,
      "outputs": [
        {
          "output_type": "stream",
          "text": [
            "9501.013219578916 25448.181745946968\n"
          ],
          "name": "stdout"
        }
      ]
    },
    {
      "cell_type": "code",
      "metadata": {
        "colab": {
          "base_uri": "https://localhost:8080/",
          "height": 537
        },
        "id": "yHLr6BUc04tb",
        "outputId": "e500071e-a328-437d-bb05-74afdbc88af4"
      },
      "source": [
        "# Making predictions\r\n",
        "Y_pred = m*X + c\r\n",
        "\r\n",
        "plt.scatter(X, Y)\r\n",
        "plt.plot([min(X), max(X)], [min(Y_pred), max(Y_pred)], color='yellow')  # regression line\r\n",
        "plt.show()"
      ],
      "execution_count": null,
      "outputs": [
        {
          "output_type": "display_data",
          "data": {
            "image/png": "[encoded data removed]",
            "text/plain": [
              "<Figure size 864x648 with 1 Axes>"
            ]
          },
          "metadata": {
            "tags": [],
            "needs_background": "light"
          }
        }
      ]
    },
    {
      "cell_type": "code",
      "metadata": {
        "id": "EpwD4eOe07-e"
      },
      "source": [
        ""
      ],
      "execution_count": null,
      "outputs": []
    }
  ]
}