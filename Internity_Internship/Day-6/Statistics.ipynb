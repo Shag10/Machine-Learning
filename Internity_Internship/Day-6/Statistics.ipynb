{
  "nbformat": 4,
  "nbformat_minor": 0,
  "metadata": {
    "colab": {
      "name": "Statistics.ipynb",
      "provenance": [],
      "toc_visible": true
    },
    "kernelspec": {
      "name": "python3",
      "display_name": "Python 3"
    }
  },
  "cells": [
    {
      "cell_type": "markdown",
      "metadata": {
        "id": "uJ4GB-5B1dod"
      },
      "source": [
        "# **Descriptive Statistics**"
      ]
    },
    {
      "cell_type": "markdown",
      "metadata": {
        "id": "oAcX_LJx2AW1"
      },
      "source": [
        "# **Measuring Central Tendency**\r\n",
        "\r\n",
        "There are three main measures of central tendency which can be calculated using the methods in pandas python library.\r\n",
        "\r\n",
        "1. Mean - It is the Average value of the data which is a division of sum of the values with the number of values.\r\n",
        "\r\n",
        "2. Median - It is the middle value in distribution when the values are arranged in ascending or descending order.\r\n",
        "\r\n",
        "3. Mode - It is the most commonly occurring value in a distribution.\r\n",
        "\r\n",
        "**Calculating Mean and Median**"
      ]
    },
    {
      "cell_type": "code",
      "metadata": {
        "colab": {
          "base_uri": "https://localhost:8080/"
        },
        "id": "-RNI4VXJ1b88",
        "outputId": "c0bd759f-ad87-4800-a935-491214cc6fe7"
      },
      "source": [
        "import pandas as pd\r\n",
        "\r\n",
        "#Create a Dictionary of series\r\n",
        "d = {'Name':pd.Series(['Tom','James','Ricky','Vin','Steve','Smith','Jack',\r\n",
        "   'Lee','Chanchal','Gasper','Naviya','Andres']),\r\n",
        "   'Age':pd.Series([25,26,25,23,30,29,23,34,40,30,51,46]),\r\n",
        "   'Rating':pd.Series([4.23,3.24,3.98,2.56,3.20,4.6,3.8,3.78,2.98,4.80,4.10,3.65])}\r\n",
        "\r\n",
        "#Create a DataFrame\r\n",
        "df = pd.DataFrame(d)\r\n",
        "print(\"Mean Values in the Distribution\")\r\n",
        "print(df.mean())\r\n",
        "print(\"*******************************\")\r\n",
        "print(\"Median Values in the Distribution\")\r\n",
        "print(df.median())"
      ],
      "execution_count": null,
      "outputs": [
        {
          "output_type": "stream",
          "text": [
            "Mean Values in the Distribution\n",
            "Age       31.833333\n",
            "Rating     3.743333\n",
            "dtype: float64\n",
            "*******************************\n",
            "Median Values in the Distribution\n",
            "Age       29.50\n",
            "Rating     3.79\n",
            "dtype: float64\n"
          ],
          "name": "stdout"
        }
      ]
    },
    {
      "cell_type": "markdown",
      "metadata": {
        "id": "1DAywdlT24GG"
      },
      "source": [
        "**Calculating Mode**\r\n",
        "\r\n",
        "Mode may or may not be available in a distribution depending on whether the data is continous or whether there are values which has maximum frquency. We take a simple distribution below to find out the mode. Here we have a value which has maximum frequency in the distribution."
      ]
    },
    {
      "cell_type": "code",
      "metadata": {
        "colab": {
          "base_uri": "https://localhost:8080/"
        },
        "id": "4hyxdmsh2k3T",
        "outputId": "bef11097-fdee-4b6f-c4ac-959d7729117a"
      },
      "source": [
        "import pandas as pd\r\n",
        "\r\n",
        "#Create a Dictionary of series\r\n",
        "d = {'Name':pd.Series(['Tom','James','Ricky','Vin','Steve','Smith','Jack',\r\n",
        "   'Lee','Chanchal','Gasper','Naviya','Andres']),\r\n",
        "   'Age':pd.Series([25,26,25,23,30,25,23,34,40,30,25,46])}\r\n",
        "#Create a DataFrame\r\n",
        "df = pd.DataFrame(d)\r\n",
        "\r\n",
        "print(df.mode())"
      ],
      "execution_count": null,
      "outputs": [
        {
          "output_type": "stream",
          "text": [
            "        Name   Age\n",
            "0     Andres  25.0\n",
            "1   Chanchal   NaN\n",
            "2     Gasper   NaN\n",
            "3       Jack   NaN\n",
            "4      James   NaN\n",
            "5        Lee   NaN\n",
            "6     Naviya   NaN\n",
            "7      Ricky   NaN\n",
            "8      Smith   NaN\n",
            "9      Steve   NaN\n",
            "10       Tom   NaN\n",
            "11       Vin   NaN\n"
          ],
          "name": "stdout"
        }
      ]
    },
    {
      "cell_type": "markdown",
      "metadata": {
        "id": "dW57M1kfcVPI"
      },
      "source": [
        "# **Measures of Variability**\r\n",
        "Two types:\r\n",
        "1. Varience - Population variance is defined as the average of the squared differences from the Mean, denoted as 𝜎² (“sigma-squared”)\r\n",
        "\r\n",
        "2. Standard Deviation -Standard Deviation is used more often because it is in the original unit. It is simply the square root of the variance and because of that, it is returned to the original unit of measurement.\r\n",
        "\r\n",
        "**Calculating Varience**"
      ]
    },
    {
      "cell_type": "code",
      "metadata": {
        "id": "CqPlUjWB3CTJ",
        "colab": {
          "base_uri": "https://localhost:8080/"
        },
        "outputId": "8010c801-b125-4bc8-9964-08a4cbe48e66"
      },
      "source": [
        "# importing pandas as pd \r\n",
        "import pandas as pd \r\n",
        "  \r\n",
        "# Creating the Series \r\n",
        "sr = pd.Series([19.5, 16.8, 22.78, 20.124, 18.1002]) \r\n",
        "  \r\n",
        "# Print the series \r\n",
        "print(sr) "
      ],
      "execution_count": 1,
      "outputs": [
        {
          "output_type": "stream",
          "text": [
            "0    19.5000\n",
            "1    16.8000\n",
            "2    22.7800\n",
            "3    20.1240\n",
            "4    18.1002\n",
            "dtype: float64\n"
          ],
          "name": "stdout"
        }
      ]
    },
    {
      "cell_type": "code",
      "metadata": {
        "colab": {
          "base_uri": "https://localhost:8080/"
        },
        "id": "DEwgqBbdd_Ih",
        "outputId": "4d77593b-2a89-46ed-b9b2-da9a5725f25f"
      },
      "source": [
        "# find the variance \r\n",
        "sr.var(skipna = True)"
      ],
      "execution_count": 2,
      "outputs": [
        {
          "output_type": "execute_result",
          "data": {
            "text/plain": [
              "5.097387128"
            ]
          },
          "metadata": {
            "tags": []
          },
          "execution_count": 2
        }
      ]
    },
    {
      "cell_type": "markdown",
      "metadata": {
        "id": "Du1XuIfpemmi"
      },
      "source": [
        "**Calculating Standard Deviation**"
      ]
    },
    {
      "cell_type": "code",
      "metadata": {
        "colab": {
          "base_uri": "https://localhost:8080/"
        },
        "id": "pLpgChfEeFoi",
        "outputId": "6b38350b-9df2-4df0-90b7-93d605d8c518"
      },
      "source": [
        "import pandas as pd\r\n",
        "\r\n",
        "#Create a Dictionary of series\r\n",
        "d = {'Name':pd.Series(['Tom','James','Ricky','Vin','Steve','Smith','Jack',\r\n",
        "   'Lee','Chanchal','Gasper','Naviya','Andres']),\r\n",
        "   'Age':pd.Series([25,26,25,23,30,25,23,34,40,30,25,46])}\r\n",
        "#Create a DataFrame\r\n",
        "df = pd.DataFrame(d)\r\n",
        "\r\n",
        "# find the standard deviation\r\n",
        "df.std(axis = 0, skipna = True)"
      ],
      "execution_count": 3,
      "outputs": [
        {
          "output_type": "execute_result",
          "data": {
            "text/plain": [
              "Age    7.265527\n",
              "dtype: float64"
            ]
          },
          "metadata": {
            "tags": []
          },
          "execution_count": 3
        }
      ]
    },
    {
      "cell_type": "markdown",
      "metadata": {
        "id": "bKv4R4UdfgM9"
      },
      "source": [
        "# **Measures of Position:**\r\n",
        "\r\n",
        "1.  Interquartile Range (IQR) - The interquartile range (IQR) is a measure of statistical dispersion between upper quartiles i.e Q3 and lower quartiles i.e Q1.\r\n",
        "2.  Z-score - The Z-score for a particular data value represents how many standard deviations the data value lies above or below the mean.\r\n",
        "\r\n",
        "***Calculating IQR ***"
      ]
    },
    {
      "cell_type": "code",
      "metadata": {
        "colab": {
          "base_uri": "https://localhost:8080/"
        },
        "id": "Z67mnVxWfBiT",
        "outputId": "d603b1e1-c452-4e85-c1b7-68209097f737"
      },
      "source": [
        "import numpy as np \r\n",
        "  \r\n",
        "data = [32, 36, 46, 47, 56, 69, 75, 79, 79, 88, 89, 91, 92, 93, 96, 97,  \r\n",
        "        101, 105, 112, 116] \r\n",
        "  \r\n",
        "# First quartile (Q1) \r\n",
        "Q1 = np.median(data[:10]) \r\n",
        "  \r\n",
        "# Third quartile (Q3) \r\n",
        "Q3 = np.median(data[10:]) \r\n",
        "  \r\n",
        "# Interquartile range (IQR) \r\n",
        "IQR = Q3 - Q1 \r\n",
        "  \r\n",
        "print(IQR) "
      ],
      "execution_count": 4,
      "outputs": [
        {
          "output_type": "stream",
          "text": [
            "34.0\n"
          ],
          "name": "stdout"
        }
      ]
    },
    {
      "cell_type": "markdown",
      "metadata": {
        "id": "_Ox4MWvIgg_T"
      },
      "source": [
        "**Calculating Z Score**"
      ]
    },
    {
      "cell_type": "code",
      "metadata": {
        "colab": {
          "base_uri": "https://localhost:8080/"
        },
        "id": "wS_oGWGjgVPt",
        "outputId": "d237ef80-5f15-4cca-d3f0-7b1716573169"
      },
      "source": [
        "# stats.zscore() method   \r\n",
        "import numpy as np \r\n",
        "from scipy import stats \r\n",
        "    \r\n",
        "arr1 = [[20, 2, 7, 1, 34], \r\n",
        "        [50, 12, 12, 34, 4]] \r\n",
        "  \r\n",
        "arr2 = [[50, 12, 12, 34, 4],  \r\n",
        "        [12, 11, 10, 34, 21]] \r\n",
        "  \r\n",
        "print (\"\\narr1 : \", arr1) \r\n",
        "print (\"\\narr2 : \", arr2) \r\n",
        "  \r\n",
        "print (\"\\nZ-score for arr1 : \\n\", stats.zscore(arr1)) \r\n",
        "print (\"\\nZ-score for arr1 : \\n\", stats.zscore(arr1, axis = 1)) "
      ],
      "execution_count": 5,
      "outputs": [
        {
          "output_type": "stream",
          "text": [
            "\n",
            "arr1 :  [[20, 2, 7, 1, 34], [50, 12, 12, 34, 4]]\n",
            "\n",
            "arr2 :  [[50, 12, 12, 34, 4], [12, 11, 10, 34, 21]]\n",
            "\n",
            "Z-score for arr1 : \n",
            " [[-1. -1. -1. -1.  1.]\n",
            " [ 1.  1.  1.  1. -1.]]\n",
            "\n",
            "Z-score for arr1 : \n",
            " [[ 0.57251144 -0.85876716 -0.46118977 -0.93828264  1.68572813]\n",
            " [ 1.62005758 -0.61045648 -0.61045648  0.68089376 -1.08003838]]\n"
          ],
          "name": "stdout"
        }
      ]
    },
    {
      "cell_type": "markdown",
      "metadata": {
        "id": "t7FVyAPtg4GQ"
      },
      "source": [
        "# **Correlation**\r\n",
        "\r\n",
        "A correlation is a statistic intended to quantify the strength of the relationship between two variables. The correlation coefficient r quantifies the strength and direction of the linear relationship between two quantitative variables."
      ]
    },
    {
      "cell_type": "code",
      "metadata": {
        "colab": {
          "base_uri": "https://localhost:8080/",
          "height": 343
        },
        "id": "zOXJi1SHgm5A",
        "outputId": "a5d3b286-a45b-4e09-c039-6fecb75e83c9"
      },
      "source": [
        "# importing pandas as pd \r\n",
        "import pandas as pd \r\n",
        "  \r\n",
        "# Making data frame from the csv file \r\n",
        "df = pd.read_csv(\"nba.csv\") \r\n",
        "  \r\n",
        "# Printing the first 10 rows of the data frame for visualization \r\n",
        "df[:10] "
      ],
      "execution_count": 6,
      "outputs": [
        {
          "output_type": "execute_result",
          "data": {
            "text/html": [
              "<div>\n",
              "<style scoped>\n",
              "    .dataframe tbody tr th:only-of-type {\n",
              "        vertical-align: middle;\n",
              "    }\n",
              "\n",
              "    .dataframe tbody tr th {\n",
              "        vertical-align: top;\n",
              "    }\n",
              "\n",
              "    .dataframe thead th {\n",
              "        text-align: right;\n",
              "    }\n",
              "</style>\n",
              "<table border=\"1\" class=\"dataframe\">\n",
              "  <thead>\n",
              "    <tr style=\"text-align: right;\">\n",
              "      <th></th>\n",
              "      <th>Name</th>\n",
              "      <th>Team</th>\n",
              "      <th>Number</th>\n",
              "      <th>Position</th>\n",
              "      <th>Age</th>\n",
              "      <th>Height</th>\n",
              "      <th>Weight</th>\n",
              "      <th>College</th>\n",
              "      <th>Salary</th>\n",
              "    </tr>\n",
              "  </thead>\n",
              "  <tbody>\n",
              "    <tr>\n",
              "      <th>0</th>\n",
              "      <td>Avery Bradley</td>\n",
              "      <td>Boston Celtics</td>\n",
              "      <td>0.0</td>\n",
              "      <td>PG</td>\n",
              "      <td>25.0</td>\n",
              "      <td>6-2</td>\n",
              "      <td>180.0</td>\n",
              "      <td>Texas</td>\n",
              "      <td>7730337.0</td>\n",
              "    </tr>\n",
              "    <tr>\n",
              "      <th>1</th>\n",
              "      <td>Jae Crowder</td>\n",
              "      <td>Boston Celtics</td>\n",
              "      <td>99.0</td>\n",
              "      <td>SF</td>\n",
              "      <td>25.0</td>\n",
              "      <td>6-6</td>\n",
              "      <td>235.0</td>\n",
              "      <td>Marquette</td>\n",
              "      <td>6796117.0</td>\n",
              "    </tr>\n",
              "    <tr>\n",
              "      <th>2</th>\n",
              "      <td>John Holland</td>\n",
              "      <td>Boston Celtics</td>\n",
              "      <td>30.0</td>\n",
              "      <td>SG</td>\n",
              "      <td>27.0</td>\n",
              "      <td>6-5</td>\n",
              "      <td>205.0</td>\n",
              "      <td>Boston University</td>\n",
              "      <td>NaN</td>\n",
              "    </tr>\n",
              "    <tr>\n",
              "      <th>3</th>\n",
              "      <td>R.J. Hunter</td>\n",
              "      <td>Boston Celtics</td>\n",
              "      <td>28.0</td>\n",
              "      <td>SG</td>\n",
              "      <td>22.0</td>\n",
              "      <td>6-5</td>\n",
              "      <td>185.0</td>\n",
              "      <td>Georgia State</td>\n",
              "      <td>1148640.0</td>\n",
              "    </tr>\n",
              "    <tr>\n",
              "      <th>4</th>\n",
              "      <td>Jonas Jerebko</td>\n",
              "      <td>Boston Celtics</td>\n",
              "      <td>8.0</td>\n",
              "      <td>PF</td>\n",
              "      <td>29.0</td>\n",
              "      <td>6-10</td>\n",
              "      <td>231.0</td>\n",
              "      <td>NaN</td>\n",
              "      <td>5000000.0</td>\n",
              "    </tr>\n",
              "    <tr>\n",
              "      <th>5</th>\n",
              "      <td>Amir Johnson</td>\n",
              "      <td>Boston Celtics</td>\n",
              "      <td>90.0</td>\n",
              "      <td>PF</td>\n",
              "      <td>29.0</td>\n",
              "      <td>6-9</td>\n",
              "      <td>240.0</td>\n",
              "      <td>NaN</td>\n",
              "      <td>12000000.0</td>\n",
              "    </tr>\n",
              "    <tr>\n",
              "      <th>6</th>\n",
              "      <td>Jordan Mickey</td>\n",
              "      <td>Boston Celtics</td>\n",
              "      <td>55.0</td>\n",
              "      <td>PF</td>\n",
              "      <td>21.0</td>\n",
              "      <td>6-8</td>\n",
              "      <td>235.0</td>\n",
              "      <td>LSU</td>\n",
              "      <td>1170960.0</td>\n",
              "    </tr>\n",
              "    <tr>\n",
              "      <th>7</th>\n",
              "      <td>Kelly Olynyk</td>\n",
              "      <td>Boston Celtics</td>\n",
              "      <td>41.0</td>\n",
              "      <td>C</td>\n",
              "      <td>25.0</td>\n",
              "      <td>7-0</td>\n",
              "      <td>238.0</td>\n",
              "      <td>Gonzaga</td>\n",
              "      <td>2165160.0</td>\n",
              "    </tr>\n",
              "    <tr>\n",
              "      <th>8</th>\n",
              "      <td>Terry Rozier</td>\n",
              "      <td>Boston Celtics</td>\n",
              "      <td>12.0</td>\n",
              "      <td>PG</td>\n",
              "      <td>22.0</td>\n",
              "      <td>6-2</td>\n",
              "      <td>190.0</td>\n",
              "      <td>Louisville</td>\n",
              "      <td>1824360.0</td>\n",
              "    </tr>\n",
              "    <tr>\n",
              "      <th>9</th>\n",
              "      <td>Marcus Smart</td>\n",
              "      <td>Boston Celtics</td>\n",
              "      <td>36.0</td>\n",
              "      <td>PG</td>\n",
              "      <td>22.0</td>\n",
              "      <td>6-4</td>\n",
              "      <td>220.0</td>\n",
              "      <td>Oklahoma State</td>\n",
              "      <td>3431040.0</td>\n",
              "    </tr>\n",
              "  </tbody>\n",
              "</table>\n",
              "</div>"
            ],
            "text/plain": [
              "            Name            Team  Number  ... Weight            College      Salary\n",
              "0  Avery Bradley  Boston Celtics     0.0  ...  180.0              Texas   7730337.0\n",
              "1    Jae Crowder  Boston Celtics    99.0  ...  235.0          Marquette   6796117.0\n",
              "2   John Holland  Boston Celtics    30.0  ...  205.0  Boston University         NaN\n",
              "3    R.J. Hunter  Boston Celtics    28.0  ...  185.0      Georgia State   1148640.0\n",
              "4  Jonas Jerebko  Boston Celtics     8.0  ...  231.0                NaN   5000000.0\n",
              "5   Amir Johnson  Boston Celtics    90.0  ...  240.0                NaN  12000000.0\n",
              "6  Jordan Mickey  Boston Celtics    55.0  ...  235.0                LSU   1170960.0\n",
              "7   Kelly Olynyk  Boston Celtics    41.0  ...  238.0            Gonzaga   2165160.0\n",
              "8   Terry Rozier  Boston Celtics    12.0  ...  190.0         Louisville   1824360.0\n",
              "9   Marcus Smart  Boston Celtics    36.0  ...  220.0     Oklahoma State   3431040.0\n",
              "\n",
              "[10 rows x 9 columns]"
            ]
          },
          "metadata": {
            "tags": []
          },
          "execution_count": 6
        }
      ]
    },
    {
      "cell_type": "code",
      "metadata": {
        "colab": {
          "base_uri": "https://localhost:8080/",
          "height": 166
        },
        "id": "ApYY5qu_hpY7",
        "outputId": "390216fb-96fe-4204-bb7e-f9d31f96aaec"
      },
      "source": [
        "# To find the correlation among the columns using pearson method \r\n",
        "df.corr(method ='pearson') "
      ],
      "execution_count": 7,
      "outputs": [
        {
          "output_type": "execute_result",
          "data": {
            "text/html": [
              "<div>\n",
              "<style scoped>\n",
              "    .dataframe tbody tr th:only-of-type {\n",
              "        vertical-align: middle;\n",
              "    }\n",
              "\n",
              "    .dataframe tbody tr th {\n",
              "        vertical-align: top;\n",
              "    }\n",
              "\n",
              "    .dataframe thead th {\n",
              "        text-align: right;\n",
              "    }\n",
              "</style>\n",
              "<table border=\"1\" class=\"dataframe\">\n",
              "  <thead>\n",
              "    <tr style=\"text-align: right;\">\n",
              "      <th></th>\n",
              "      <th>Number</th>\n",
              "      <th>Age</th>\n",
              "      <th>Weight</th>\n",
              "      <th>Salary</th>\n",
              "    </tr>\n",
              "  </thead>\n",
              "  <tbody>\n",
              "    <tr>\n",
              "      <th>Number</th>\n",
              "      <td>1.000000</td>\n",
              "      <td>0.028724</td>\n",
              "      <td>0.206921</td>\n",
              "      <td>-0.112386</td>\n",
              "    </tr>\n",
              "    <tr>\n",
              "      <th>Age</th>\n",
              "      <td>0.028724</td>\n",
              "      <td>1.000000</td>\n",
              "      <td>0.087183</td>\n",
              "      <td>0.213459</td>\n",
              "    </tr>\n",
              "    <tr>\n",
              "      <th>Weight</th>\n",
              "      <td>0.206921</td>\n",
              "      <td>0.087183</td>\n",
              "      <td>1.000000</td>\n",
              "      <td>0.138321</td>\n",
              "    </tr>\n",
              "    <tr>\n",
              "      <th>Salary</th>\n",
              "      <td>-0.112386</td>\n",
              "      <td>0.213459</td>\n",
              "      <td>0.138321</td>\n",
              "      <td>1.000000</td>\n",
              "    </tr>\n",
              "  </tbody>\n",
              "</table>\n",
              "</div>"
            ],
            "text/plain": [
              "          Number       Age    Weight    Salary\n",
              "Number  1.000000  0.028724  0.206921 -0.112386\n",
              "Age     0.028724  1.000000  0.087183  0.213459\n",
              "Weight  0.206921  0.087183  1.000000  0.138321\n",
              "Salary -0.112386  0.213459  0.138321  1.000000"
            ]
          },
          "metadata": {
            "tags": []
          },
          "execution_count": 7
        }
      ]
    },
    {
      "cell_type": "code",
      "metadata": {
        "colab": {
          "base_uri": "https://localhost:8080/",
          "height": 166
        },
        "id": "aXVrrJWDhwFg",
        "outputId": "e337b237-e870-482f-d4bf-ace79e7d5a4a"
      },
      "source": [
        "df.corr(method ='kendall') "
      ],
      "execution_count": 8,
      "outputs": [
        {
          "output_type": "execute_result",
          "data": {
            "text/html": [
              "<div>\n",
              "<style scoped>\n",
              "    .dataframe tbody tr th:only-of-type {\n",
              "        vertical-align: middle;\n",
              "    }\n",
              "\n",
              "    .dataframe tbody tr th {\n",
              "        vertical-align: top;\n",
              "    }\n",
              "\n",
              "    .dataframe thead th {\n",
              "        text-align: right;\n",
              "    }\n",
              "</style>\n",
              "<table border=\"1\" class=\"dataframe\">\n",
              "  <thead>\n",
              "    <tr style=\"text-align: right;\">\n",
              "      <th></th>\n",
              "      <th>Number</th>\n",
              "      <th>Age</th>\n",
              "      <th>Weight</th>\n",
              "      <th>Salary</th>\n",
              "    </tr>\n",
              "  </thead>\n",
              "  <tbody>\n",
              "    <tr>\n",
              "      <th>Number</th>\n",
              "      <td>1.000000</td>\n",
              "      <td>0.005536</td>\n",
              "      <td>0.155850</td>\n",
              "      <td>-0.075301</td>\n",
              "    </tr>\n",
              "    <tr>\n",
              "      <th>Age</th>\n",
              "      <td>0.005536</td>\n",
              "      <td>1.000000</td>\n",
              "      <td>0.066130</td>\n",
              "      <td>0.172616</td>\n",
              "    </tr>\n",
              "    <tr>\n",
              "      <th>Weight</th>\n",
              "      <td>0.155850</td>\n",
              "      <td>0.066130</td>\n",
              "      <td>1.000000</td>\n",
              "      <td>0.087165</td>\n",
              "    </tr>\n",
              "    <tr>\n",
              "      <th>Salary</th>\n",
              "      <td>-0.075301</td>\n",
              "      <td>0.172616</td>\n",
              "      <td>0.087165</td>\n",
              "      <td>1.000000</td>\n",
              "    </tr>\n",
              "  </tbody>\n",
              "</table>\n",
              "</div>"
            ],
            "text/plain": [
              "          Number       Age    Weight    Salary\n",
              "Number  1.000000  0.005536  0.155850 -0.075301\n",
              "Age     0.005536  1.000000  0.066130  0.172616\n",
              "Weight  0.155850  0.066130  1.000000  0.087165\n",
              "Salary -0.075301  0.172616  0.087165  1.000000"
            ]
          },
          "metadata": {
            "tags": []
          },
          "execution_count": 8
        }
      ]
    },
    {
      "cell_type": "code",
      "metadata": {
        "id": "bkHTJ54Vh18i"
      },
      "source": [
        ""
      ],
      "execution_count": null,
      "outputs": []
    }
  ]
}