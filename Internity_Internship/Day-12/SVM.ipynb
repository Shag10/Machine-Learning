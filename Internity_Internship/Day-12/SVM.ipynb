{
  "nbformat": 4,
  "nbformat_minor": 0,
  "metadata": {
    "colab": {
      "name": "SVM.ipynb",
      "provenance": [],
      "toc_visible": true
    },
    "kernelspec": {
      "name": "python3",
      "display_name": "Python 3"
    }
  },
  "cells": [
    {
      "cell_type": "markdown",
      "metadata": {
        "id": "9p6fWsu7DpP8"
      },
      "source": [
        "# **SVM from Scratch**"
      ]
    },
    {
      "cell_type": "markdown",
      "metadata": {
        "id": "lRsDf2zRNcXz"
      },
      "source": [
        "## **About SVM (General required for algo)**\r\n",
        "\r\n",
        "* For all xi in training Data:  \r\n",
        "\r\n",
        "```\r\n",
        " -> xi.w + b <= -1   if yi = -1 (belongs to -ve class)  \r\n",
        " -> xi.w + b >= +1\tif yi = +1 (belongs to +ve class)  \r\n",
        " \t\t\tor  \r\n",
        "  \t__yi(xi.w+b) >= 1__\r\n",
        "\r\n",
        "```\r\n",
        "\r\n",
        "* For all support vectors(SV) (data points which decides margin)\r\n",
        "\r\n",
        "```\r\n",
        "  xi.w+b = -1    here xi is -ve SV and yi is -1\r\n",
        "  xi.w+b = +1    here xi is +ve SV and yi is +1\r\n",
        "```\r\n",
        "\r\n",
        "\r\n",
        "* For decision Boundary ```yi(xi.w+b)=0``` here xi belongs to point in decision boundary  \r\n",
        "* Our Objective is to maximize Width W\r\n",
        "\r\n",
        "        W = ((X+ - X-).w)/|w|\r\n",
        "        or we can say minimize |w| \r\n",
        "\r\n",
        "\r\n",
        "         \r\n",
        "* Once we have found optimized w and b using algorithm  \r\n",
        "       1. x.w+b = 1 is line passing through +ve support vectors    \r\n",
        "       2. x.w+b = -1 is line passing through -ve support vectors\r\n",
        "       3. x.w+b = 0 is decision boundary \r\n",
        "\r\n",
        "\r\n",
        "\r\n",
        "* It is not necessary that support vector lines always pass through support vectors  \r\n",
        "* It is a Convex Optimization problem and will always lead to a global minimum  \r\n",
        "* This is Linear SVM means kernel is linear"
      ]
    },
    {
      "cell_type": "code",
      "metadata": {
        "id": "j3HPsZmuDmFm"
      },
      "source": [
        "#Import important libraries\r\n",
        "import numpy as np\r\n",
        "import matplotlib.pyplot as plt\r\n",
        "from sklearn import datasets"
      ],
      "execution_count": null,
      "outputs": []
    },
    {
      "cell_type": "code",
      "metadata": {
        "id": "k2XZLUaBD6y1"
      },
      "source": [
        "class SVM:\r\n",
        "\r\n",
        "    def __init__(self, learning_rate=0.001, lambda_param=0.01, n_iters=1000):\r\n",
        "        self.lr = learning_rate\r\n",
        "        self.lambda_param = lambda_param\r\n",
        "        self.n_iters = n_iters                      # Inializing Parameters\r\n",
        "        self.w = None\r\n",
        "        self.b = None\r\n",
        "\r\n",
        "\r\n",
        "    def fit(self, X, y):\r\n",
        "        n_samples, n_features = X.shape\r\n",
        "        \r\n",
        "        y_ = np.where(y <= 0, -1, 1)                   \r\n",
        "        \r\n",
        "        self.w = np.zeros(n_features)\r\n",
        "        self.b = 0\r\n",
        "\r\n",
        "        for _ in range(self.n_iters):\r\n",
        "            for idx, x_i in enumerate(X):\r\n",
        "                condition = y_[idx] * (np.dot(x_i, self.w) - self.b) >= 1                    # Gradient Descent\r\n",
        "                if condition:\r\n",
        "                    self.w -= self.lr * (2 * self.lambda_param * self.w)\r\n",
        "                else:\r\n",
        "                    self.w -= self.lr * (2 * self.lambda_param * self.w - np.dot(x_i, y_[idx]))\r\n",
        "                    self.b -= self.lr * y_[idx]\r\n",
        "\r\n",
        "\r\n",
        "    def predict(self, X):\r\n",
        "        approx = np.dot(X, self.w) - self.b                      # Cost Function\r\n",
        "        return np.sign(approx)"
      ],
      "execution_count": null,
      "outputs": []
    },
    {
      "cell_type": "code",
      "metadata": {
        "colab": {
          "base_uri": "https://localhost:8080/"
        },
        "id": "lbS-oQL0EeZ3",
        "outputId": "c524c3da-c4d9-47e5-b5cf-273d76d5f3ca"
      },
      "source": [
        "# Laoding dataset\r\n",
        "X, y =  datasets.make_blobs(n_samples=50, n_features=2, centers=2, cluster_std=1.05, random_state=40)\r\n",
        "y = np.where(y == 0, -1, 1)\r\n",
        "\r\n",
        "# Calling methods of class SVM and calculating eights and bais\r\n",
        "clf = SVM()\r\n",
        "clf.fit(X, y)           \r\n",
        " \r\n",
        "print(clf.w, clf.b)"
      ],
      "execution_count": null,
      "outputs": [
        {
          "output_type": "stream",
          "text": [
            "[0.58977016 0.17946483] -0.1520000000000001\n"
          ],
          "name": "stdout"
        }
      ]
    },
    {
      "cell_type": "code",
      "metadata": {
        "colab": {
          "base_uri": "https://localhost:8080/",
          "height": 265
        },
        "id": "FLkx81trE3Wu",
        "outputId": "c0150176-03d0-4503-e54b-75b51182d563"
      },
      "source": [
        "# Visiualising our Data\r\n",
        "def visualize_svm():\r\n",
        "     def get_hyperplane_value(x, w, b, offset):\r\n",
        "          return (-w[0] * x + b + offset) / w[1]\r\n",
        "\r\n",
        "     fig = plt.figure()\r\n",
        "     ax = fig.add_subplot(1,1,1)\r\n",
        "     plt.scatter(X[:,0], X[:,1], marker='o',c=y)\r\n",
        "\r\n",
        "     x0_1 = np.amin(X[:,0])\r\n",
        "     x0_2 = np.amax(X[:,0])\r\n",
        "\r\n",
        "     x1_1 = get_hyperplane_value(x0_1, clf.w, clf.b, 0)\r\n",
        "     x1_2 = get_hyperplane_value(x0_2, clf.w, clf.b, 0)\r\n",
        "\r\n",
        "     x1_1_m = get_hyperplane_value(x0_1, clf.w, clf.b, -1)\r\n",
        "     x1_2_m = get_hyperplane_value(x0_2, clf.w, clf.b, -1)\r\n",
        "\r\n",
        "     x1_1_p = get_hyperplane_value(x0_1, clf.w, clf.b, 1)\r\n",
        "     x1_2_p = get_hyperplane_value(x0_2, clf.w, clf.b, 1)\r\n",
        "\r\n",
        "     ax.plot([x0_1, x0_2],[x1_1, x1_2], 'y--')\r\n",
        "     ax.plot([x0_1, x0_2],[x1_1_m, x1_2_m], 'k')\r\n",
        "     ax.plot([x0_1, x0_2],[x1_1_p, x1_2_p], 'k')\r\n",
        "\r\n",
        "     x1_min = np.amin(X[:,1])\r\n",
        "     x1_max = np.amax(X[:,1])\r\n",
        "     ax.set_ylim([x1_min-3,x1_max+3])\r\n",
        "\r\n",
        "     plt.show()\r\n",
        "\r\n",
        "visualize_svm()"
      ],
      "execution_count": null,
      "outputs": [
        {
          "output_type": "display_data",
          "data": {
            "image/png": "[encoded data removed]",
            "text/plain": [
              "<Figure size 432x288 with 1 Axes>"
            ]
          },
          "metadata": {
            "tags": [],
            "needs_background": "light"
          }
        }
      ]
    },
    {
      "cell_type": "code",
      "metadata": {
        "id": "m0A-elA-FMQy"
      },
      "source": [
        ""
      ],
      "execution_count": null,
      "outputs": []
    }
  ]
}