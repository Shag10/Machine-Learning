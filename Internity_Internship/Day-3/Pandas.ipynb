{
  "nbformat": 4,
  "nbformat_minor": 0,
  "metadata": {
    "colab": {
      "name": "Pandas.ipynb",
      "provenance": []
    },
    "kernelspec": {
      "name": "python3",
      "display_name": "Python 3"
    }
  },
  "cells": [
    {
      "cell_type": "code",
      "metadata": {
        "id": "uMhPhfI5NOlY"
      },
      "source": [
        "import pandas as pd"
      ],
      "execution_count": null,
      "outputs": []
    },
    {
      "cell_type": "code",
      "metadata": {
        "id": "bb15pltiNUJJ"
      },
      "source": [
        "df = pd.read_csv(\"https://www.stats.govt.nz/assets/Uploads/Business-employment-data/Business-employment-data-September-2020-quarter/Download-data/business-employment-data-september-2020-quarter-csv.zip\")"
      ],
      "execution_count": null,
      "outputs": []
    },
    {
      "cell_type": "code",
      "metadata": {
        "colab": {
          "base_uri": "https://localhost:8080/",
          "height": 467
        },
        "id": "rZdcdfpcNuIP",
        "outputId": "380d3e9f-7d5f-4b96-efc1-40378617f79f"
      },
      "source": [
        "df.head()"
      ],
      "execution_count": null,
      "outputs": [
        {
          "output_type": "execute_result",
          "data": {
            "text/html": [
              "<div>\n",
              "<style scoped>\n",
              "    .dataframe tbody tr th:only-of-type {\n",
              "        vertical-align: middle;\n",
              "    }\n",
              "\n",
              "    .dataframe tbody tr th {\n",
              "        vertical-align: top;\n",
              "    }\n",
              "\n",
              "    .dataframe thead th {\n",
              "        text-align: right;\n",
              "    }\n",
              "</style>\n",
              "<table border=\"1\" class=\"dataframe\">\n",
              "  <thead>\n",
              "    <tr style=\"text-align: right;\">\n",
              "      <th></th>\n",
              "      <th>Series_reference</th>\n",
              "      <th>Period</th>\n",
              "      <th>Data_value</th>\n",
              "      <th>Suppressed</th>\n",
              "      <th>STATUS</th>\n",
              "      <th>UNITS</th>\n",
              "      <th>Magnitude</th>\n",
              "      <th>Subject</th>\n",
              "      <th>Group</th>\n",
              "      <th>Series_title_1</th>\n",
              "      <th>Series_title_2</th>\n",
              "      <th>Series_title_3</th>\n",
              "      <th>Series_title_4</th>\n",
              "      <th>Series_title_5</th>\n",
              "    </tr>\n",
              "  </thead>\n",
              "  <tbody>\n",
              "    <tr>\n",
              "      <th>0</th>\n",
              "      <td>BDCQ.SEA1AA</td>\n",
              "      <td>2011.06</td>\n",
              "      <td>80078.0</td>\n",
              "      <td>NaN</td>\n",
              "      <td>F</td>\n",
              "      <td>Number</td>\n",
              "      <td>0</td>\n",
              "      <td>Business Data Collection - BDC</td>\n",
              "      <td>Industry by employment variable</td>\n",
              "      <td>Filled jobs</td>\n",
              "      <td>Agriculture, Forestry and Fishing</td>\n",
              "      <td>Actual</td>\n",
              "      <td>NaN</td>\n",
              "      <td>NaN</td>\n",
              "    </tr>\n",
              "    <tr>\n",
              "      <th>1</th>\n",
              "      <td>BDCQ.SEA1AA</td>\n",
              "      <td>2011.09</td>\n",
              "      <td>78324.0</td>\n",
              "      <td>NaN</td>\n",
              "      <td>F</td>\n",
              "      <td>Number</td>\n",
              "      <td>0</td>\n",
              "      <td>Business Data Collection - BDC</td>\n",
              "      <td>Industry by employment variable</td>\n",
              "      <td>Filled jobs</td>\n",
              "      <td>Agriculture, Forestry and Fishing</td>\n",
              "      <td>Actual</td>\n",
              "      <td>NaN</td>\n",
              "      <td>NaN</td>\n",
              "    </tr>\n",
              "    <tr>\n",
              "      <th>2</th>\n",
              "      <td>BDCQ.SEA1AA</td>\n",
              "      <td>2011.12</td>\n",
              "      <td>85850.0</td>\n",
              "      <td>NaN</td>\n",
              "      <td>F</td>\n",
              "      <td>Number</td>\n",
              "      <td>0</td>\n",
              "      <td>Business Data Collection - BDC</td>\n",
              "      <td>Industry by employment variable</td>\n",
              "      <td>Filled jobs</td>\n",
              "      <td>Agriculture, Forestry and Fishing</td>\n",
              "      <td>Actual</td>\n",
              "      <td>NaN</td>\n",
              "      <td>NaN</td>\n",
              "    </tr>\n",
              "    <tr>\n",
              "      <th>3</th>\n",
              "      <td>BDCQ.SEA1AA</td>\n",
              "      <td>2012.03</td>\n",
              "      <td>90743.0</td>\n",
              "      <td>NaN</td>\n",
              "      <td>F</td>\n",
              "      <td>Number</td>\n",
              "      <td>0</td>\n",
              "      <td>Business Data Collection - BDC</td>\n",
              "      <td>Industry by employment variable</td>\n",
              "      <td>Filled jobs</td>\n",
              "      <td>Agriculture, Forestry and Fishing</td>\n",
              "      <td>Actual</td>\n",
              "      <td>NaN</td>\n",
              "      <td>NaN</td>\n",
              "    </tr>\n",
              "    <tr>\n",
              "      <th>4</th>\n",
              "      <td>BDCQ.SEA1AA</td>\n",
              "      <td>2012.06</td>\n",
              "      <td>81780.0</td>\n",
              "      <td>NaN</td>\n",
              "      <td>F</td>\n",
              "      <td>Number</td>\n",
              "      <td>0</td>\n",
              "      <td>Business Data Collection - BDC</td>\n",
              "      <td>Industry by employment variable</td>\n",
              "      <td>Filled jobs</td>\n",
              "      <td>Agriculture, Forestry and Fishing</td>\n",
              "      <td>Actual</td>\n",
              "      <td>NaN</td>\n",
              "      <td>NaN</td>\n",
              "    </tr>\n",
              "  </tbody>\n",
              "</table>\n",
              "</div>"
            ],
            "text/plain": [
              "  Series_reference   Period  ...  Series_title_4 Series_title_5\n",
              "0      BDCQ.SEA1AA  2011.06  ...             NaN            NaN\n",
              "1      BDCQ.SEA1AA  2011.09  ...             NaN            NaN\n",
              "2      BDCQ.SEA1AA  2011.12  ...             NaN            NaN\n",
              "3      BDCQ.SEA1AA  2012.03  ...             NaN            NaN\n",
              "4      BDCQ.SEA1AA  2012.06  ...             NaN            NaN\n",
              "\n",
              "[5 rows x 14 columns]"
            ]
          },
          "metadata": {
            "tags": []
          },
          "execution_count": 5
        }
      ]
    },
    {
      "cell_type": "code",
      "metadata": {
        "colab": {
          "base_uri": "https://localhost:8080/",
          "height": 284
        },
        "id": "iYgVHrJMO1a1",
        "outputId": "584c85e2-ed15-41bc-a928-84ce78998231"
      },
      "source": [
        "df.describe()"
      ],
      "execution_count": null,
      "outputs": [
        {
          "output_type": "execute_result",
          "data": {
            "text/html": [
              "<div>\n",
              "<style scoped>\n",
              "    .dataframe tbody tr th:only-of-type {\n",
              "        vertical-align: middle;\n",
              "    }\n",
              "\n",
              "    .dataframe tbody tr th {\n",
              "        vertical-align: top;\n",
              "    }\n",
              "\n",
              "    .dataframe thead th {\n",
              "        text-align: right;\n",
              "    }\n",
              "</style>\n",
              "<table border=\"1\" class=\"dataframe\">\n",
              "  <thead>\n",
              "    <tr style=\"text-align: right;\">\n",
              "      <th></th>\n",
              "      <th>Period</th>\n",
              "      <th>Data_value</th>\n",
              "      <th>Magnitude</th>\n",
              "      <th>Series_title_4</th>\n",
              "      <th>Series_title_5</th>\n",
              "    </tr>\n",
              "  </thead>\n",
              "  <tbody>\n",
              "    <tr>\n",
              "      <th>count</th>\n",
              "      <td>12001.000000</td>\n",
              "      <td>1.197000e+04</td>\n",
              "      <td>12001.000000</td>\n",
              "      <td>0.0</td>\n",
              "      <td>0.0</td>\n",
              "    </tr>\n",
              "    <tr>\n",
              "      <th>mean</th>\n",
              "      <td>2015.571710</td>\n",
              "      <td>4.909224e+04</td>\n",
              "      <td>2.204316</td>\n",
              "      <td>NaN</td>\n",
              "      <td>NaN</td>\n",
              "    </tr>\n",
              "    <tr>\n",
              "      <th>std</th>\n",
              "      <td>2.755918</td>\n",
              "      <td>1.557601e+05</td>\n",
              "      <td>2.892678</td>\n",
              "      <td>NaN</td>\n",
              "      <td>NaN</td>\n",
              "    </tr>\n",
              "    <tr>\n",
              "      <th>min</th>\n",
              "      <td>2011.060000</td>\n",
              "      <td>-3.829897e+00</td>\n",
              "      <td>0.000000</td>\n",
              "      <td>NaN</td>\n",
              "      <td>NaN</td>\n",
              "    </tr>\n",
              "    <tr>\n",
              "      <th>25%</th>\n",
              "      <td>2013.090000</td>\n",
              "      <td>6.904644e+02</td>\n",
              "      <td>0.000000</td>\n",
              "      <td>NaN</td>\n",
              "      <td>NaN</td>\n",
              "    </tr>\n",
              "    <tr>\n",
              "      <th>50%</th>\n",
              "      <td>2015.120000</td>\n",
              "      <td>6.995000e+03</td>\n",
              "      <td>0.000000</td>\n",
              "      <td>NaN</td>\n",
              "      <td>NaN</td>\n",
              "    </tr>\n",
              "    <tr>\n",
              "      <th>75%</th>\n",
              "      <td>2018.060000</td>\n",
              "      <td>2.610650e+04</td>\n",
              "      <td>6.000000</td>\n",
              "      <td>NaN</td>\n",
              "      <td>NaN</td>\n",
              "    </tr>\n",
              "    <tr>\n",
              "      <th>max</th>\n",
              "      <td>2020.090000</td>\n",
              "      <td>2.134716e+06</td>\n",
              "      <td>6.000000</td>\n",
              "      <td>NaN</td>\n",
              "      <td>NaN</td>\n",
              "    </tr>\n",
              "  </tbody>\n",
              "</table>\n",
              "</div>"
            ],
            "text/plain": [
              "             Period    Data_value     Magnitude  Series_title_4  Series_title_5\n",
              "count  12001.000000  1.197000e+04  12001.000000             0.0             0.0\n",
              "mean    2015.571710  4.909224e+04      2.204316             NaN             NaN\n",
              "std        2.755918  1.557601e+05      2.892678             NaN             NaN\n",
              "min     2011.060000 -3.829897e+00      0.000000             NaN             NaN\n",
              "25%     2013.090000  6.904644e+02      0.000000             NaN             NaN\n",
              "50%     2015.120000  6.995000e+03      0.000000             NaN             NaN\n",
              "75%     2018.060000  2.610650e+04      6.000000             NaN             NaN\n",
              "max     2020.090000  2.134716e+06      6.000000             NaN             NaN"
            ]
          },
          "metadata": {
            "tags": []
          },
          "execution_count": 6
        }
      ]
    },
    {
      "cell_type": "code",
      "metadata": {
        "colab": {
          "base_uri": "https://localhost:8080/"
        },
        "id": "BIXHTFa1PKyw",
        "outputId": "64ef9be8-aa48-4e02-b194-21e07a7fd93b"
      },
      "source": [
        "df.columns.values"
      ],
      "execution_count": null,
      "outputs": [
        {
          "output_type": "execute_result",
          "data": {
            "text/plain": [
              "array(['Series_reference', 'Period', 'Data_value', 'Suppressed', 'STATUS',\n",
              "       'UNITS', 'Magnitude', 'Subject', 'Group', 'Series_title_1',\n",
              "       'Series_title_2', 'Series_title_3', 'Series_title_4',\n",
              "       'Series_title_5'], dtype=object)"
            ]
          },
          "metadata": {
            "tags": []
          },
          "execution_count": 7
        }
      ]
    },
    {
      "cell_type": "code",
      "metadata": {
        "id": "IJMAq32FPSob"
      },
      "source": [
        "columns_to_be_selected = [\"Data_value\", \"Series_title_1\", \"Series_title_2\"]\r\n"
      ],
      "execution_count": null,
      "outputs": []
    },
    {
      "cell_type": "code",
      "metadata": {
        "colab": {
          "base_uri": "https://localhost:8080/",
          "height": 402
        },
        "id": "KAxJ-E17Ruyn",
        "outputId": "daf1ba63-5582-4d21-ece8-af6e62dfd35c"
      },
      "source": [
        "df[columns_to_be_selected]\r\n"
      ],
      "execution_count": null,
      "outputs": [
        {
          "output_type": "execute_result",
          "data": {
            "text/html": [
              "<div>\n",
              "<style scoped>\n",
              "    .dataframe tbody tr th:only-of-type {\n",
              "        vertical-align: middle;\n",
              "    }\n",
              "\n",
              "    .dataframe tbody tr th {\n",
              "        vertical-align: top;\n",
              "    }\n",
              "\n",
              "    .dataframe thead th {\n",
              "        text-align: right;\n",
              "    }\n",
              "</style>\n",
              "<table border=\"1\" class=\"dataframe\">\n",
              "  <thead>\n",
              "    <tr style=\"text-align: right;\">\n",
              "      <th></th>\n",
              "      <th>Data_value</th>\n",
              "      <th>Series_title_1</th>\n",
              "      <th>Series_title_2</th>\n",
              "    </tr>\n",
              "  </thead>\n",
              "  <tbody>\n",
              "    <tr>\n",
              "      <th>0</th>\n",
              "      <td>80078.0</td>\n",
              "      <td>Filled jobs</td>\n",
              "      <td>Agriculture, Forestry and Fishing</td>\n",
              "    </tr>\n",
              "    <tr>\n",
              "      <th>1</th>\n",
              "      <td>78324.0</td>\n",
              "      <td>Filled jobs</td>\n",
              "      <td>Agriculture, Forestry and Fishing</td>\n",
              "    </tr>\n",
              "    <tr>\n",
              "      <th>2</th>\n",
              "      <td>85850.0</td>\n",
              "      <td>Filled jobs</td>\n",
              "      <td>Agriculture, Forestry and Fishing</td>\n",
              "    </tr>\n",
              "    <tr>\n",
              "      <th>3</th>\n",
              "      <td>90743.0</td>\n",
              "      <td>Filled jobs</td>\n",
              "      <td>Agriculture, Forestry and Fishing</td>\n",
              "    </tr>\n",
              "    <tr>\n",
              "      <th>4</th>\n",
              "      <td>81780.0</td>\n",
              "      <td>Filled jobs</td>\n",
              "      <td>Agriculture, Forestry and Fishing</td>\n",
              "    </tr>\n",
              "    <tr>\n",
              "      <th>...</th>\n",
              "      <td>...</td>\n",
              "      <td>...</td>\n",
              "      <td>...</td>\n",
              "    </tr>\n",
              "    <tr>\n",
              "      <th>11996</th>\n",
              "      <td>NaN</td>\n",
              "      <td>Filled jobs (workplace location based)</td>\n",
              "      <td>Area Outside Territorial Authority</td>\n",
              "    </tr>\n",
              "    <tr>\n",
              "      <th>11997</th>\n",
              "      <td>NaN</td>\n",
              "      <td>Filled jobs (workplace location based)</td>\n",
              "      <td>Area Outside Territorial Authority</td>\n",
              "    </tr>\n",
              "    <tr>\n",
              "      <th>11998</th>\n",
              "      <td>NaN</td>\n",
              "      <td>Filled jobs (workplace location based)</td>\n",
              "      <td>Area Outside Territorial Authority</td>\n",
              "    </tr>\n",
              "    <tr>\n",
              "      <th>11999</th>\n",
              "      <td>NaN</td>\n",
              "      <td>Filled jobs (workplace location based)</td>\n",
              "      <td>Area Outside Territorial Authority</td>\n",
              "    </tr>\n",
              "    <tr>\n",
              "      <th>12000</th>\n",
              "      <td>NaN</td>\n",
              "      <td>Filled jobs (workplace location based)</td>\n",
              "      <td>Area Outside Territorial Authority</td>\n",
              "    </tr>\n",
              "  </tbody>\n",
              "</table>\n",
              "<p>12001 rows × 3 columns</p>\n",
              "</div>"
            ],
            "text/plain": [
              "       Data_value  ...                      Series_title_2\n",
              "0         80078.0  ...   Agriculture, Forestry and Fishing\n",
              "1         78324.0  ...   Agriculture, Forestry and Fishing\n",
              "2         85850.0  ...   Agriculture, Forestry and Fishing\n",
              "3         90743.0  ...   Agriculture, Forestry and Fishing\n",
              "4         81780.0  ...   Agriculture, Forestry and Fishing\n",
              "...           ...  ...                                 ...\n",
              "11996         NaN  ...  Area Outside Territorial Authority\n",
              "11997         NaN  ...  Area Outside Territorial Authority\n",
              "11998         NaN  ...  Area Outside Territorial Authority\n",
              "11999         NaN  ...  Area Outside Territorial Authority\n",
              "12000         NaN  ...  Area Outside Territorial Authority\n",
              "\n",
              "[12001 rows x 3 columns]"
            ]
          },
          "metadata": {
            "tags": []
          },
          "execution_count": 12
        }
      ]
    },
    {
      "cell_type": "code",
      "metadata": {
        "colab": {
          "base_uri": "https://localhost:8080/",
          "height": 387
        },
        "id": "DJAP88uUSIOD",
        "outputId": "795c4069-039a-4407-abc1-018ca1914c58"
      },
      "source": [
        "row_index_to_select = [0, 1, 4, 5]\r\n",
        "df.loc[row_index_to_select]"
      ],
      "execution_count": null,
      "outputs": [
        {
          "output_type": "execute_result",
          "data": {
            "text/html": [
              "<div>\n",
              "<style scoped>\n",
              "    .dataframe tbody tr th:only-of-type {\n",
              "        vertical-align: middle;\n",
              "    }\n",
              "\n",
              "    .dataframe tbody tr th {\n",
              "        vertical-align: top;\n",
              "    }\n",
              "\n",
              "    .dataframe thead th {\n",
              "        text-align: right;\n",
              "    }\n",
              "</style>\n",
              "<table border=\"1\" class=\"dataframe\">\n",
              "  <thead>\n",
              "    <tr style=\"text-align: right;\">\n",
              "      <th></th>\n",
              "      <th>Series_reference</th>\n",
              "      <th>Period</th>\n",
              "      <th>Data_value</th>\n",
              "      <th>Suppressed</th>\n",
              "      <th>STATUS</th>\n",
              "      <th>UNITS</th>\n",
              "      <th>Magnitude</th>\n",
              "      <th>Subject</th>\n",
              "      <th>Group</th>\n",
              "      <th>Series_title_1</th>\n",
              "      <th>Series_title_2</th>\n",
              "      <th>Series_title_3</th>\n",
              "      <th>Series_title_4</th>\n",
              "      <th>Series_title_5</th>\n",
              "    </tr>\n",
              "  </thead>\n",
              "  <tbody>\n",
              "    <tr>\n",
              "      <th>0</th>\n",
              "      <td>BDCQ.SEA1AA</td>\n",
              "      <td>2011.06</td>\n",
              "      <td>80078.0</td>\n",
              "      <td>NaN</td>\n",
              "      <td>F</td>\n",
              "      <td>Number</td>\n",
              "      <td>0</td>\n",
              "      <td>Business Data Collection - BDC</td>\n",
              "      <td>Industry by employment variable</td>\n",
              "      <td>Filled jobs</td>\n",
              "      <td>Agriculture, Forestry and Fishing</td>\n",
              "      <td>Actual</td>\n",
              "      <td>NaN</td>\n",
              "      <td>NaN</td>\n",
              "    </tr>\n",
              "    <tr>\n",
              "      <th>1</th>\n",
              "      <td>BDCQ.SEA1AA</td>\n",
              "      <td>2011.09</td>\n",
              "      <td>78324.0</td>\n",
              "      <td>NaN</td>\n",
              "      <td>F</td>\n",
              "      <td>Number</td>\n",
              "      <td>0</td>\n",
              "      <td>Business Data Collection - BDC</td>\n",
              "      <td>Industry by employment variable</td>\n",
              "      <td>Filled jobs</td>\n",
              "      <td>Agriculture, Forestry and Fishing</td>\n",
              "      <td>Actual</td>\n",
              "      <td>NaN</td>\n",
              "      <td>NaN</td>\n",
              "    </tr>\n",
              "    <tr>\n",
              "      <th>4</th>\n",
              "      <td>BDCQ.SEA1AA</td>\n",
              "      <td>2012.06</td>\n",
              "      <td>81780.0</td>\n",
              "      <td>NaN</td>\n",
              "      <td>F</td>\n",
              "      <td>Number</td>\n",
              "      <td>0</td>\n",
              "      <td>Business Data Collection - BDC</td>\n",
              "      <td>Industry by employment variable</td>\n",
              "      <td>Filled jobs</td>\n",
              "      <td>Agriculture, Forestry and Fishing</td>\n",
              "      <td>Actual</td>\n",
              "      <td>NaN</td>\n",
              "      <td>NaN</td>\n",
              "    </tr>\n",
              "    <tr>\n",
              "      <th>5</th>\n",
              "      <td>BDCQ.SEA1AA</td>\n",
              "      <td>2012.09</td>\n",
              "      <td>79261.0</td>\n",
              "      <td>NaN</td>\n",
              "      <td>F</td>\n",
              "      <td>Number</td>\n",
              "      <td>0</td>\n",
              "      <td>Business Data Collection - BDC</td>\n",
              "      <td>Industry by employment variable</td>\n",
              "      <td>Filled jobs</td>\n",
              "      <td>Agriculture, Forestry and Fishing</td>\n",
              "      <td>Actual</td>\n",
              "      <td>NaN</td>\n",
              "      <td>NaN</td>\n",
              "    </tr>\n",
              "  </tbody>\n",
              "</table>\n",
              "</div>"
            ],
            "text/plain": [
              "  Series_reference   Period  ...  Series_title_4 Series_title_5\n",
              "0      BDCQ.SEA1AA  2011.06  ...             NaN            NaN\n",
              "1      BDCQ.SEA1AA  2011.09  ...             NaN            NaN\n",
              "4      BDCQ.SEA1AA  2012.06  ...             NaN            NaN\n",
              "5      BDCQ.SEA1AA  2012.09  ...             NaN            NaN\n",
              "\n",
              "[4 rows x 14 columns]"
            ]
          },
          "metadata": {
            "tags": []
          },
          "execution_count": 14
        }
      ]
    },
    {
      "cell_type": "code",
      "metadata": {
        "colab": {
          "base_uri": "https://localhost:8080/"
        },
        "id": "5LDjhWRJSNz_",
        "outputId": "9357b34f-189b-4305-bb93-13b8c993e546"
      },
      "source": [
        "df[\"Data_value\"].sum()"
      ],
      "execution_count": null,
      "outputs": [
        {
          "output_type": "execute_result",
          "data": {
            "text/plain": [
              "587634084.0375841"
            ]
          },
          "metadata": {
            "tags": []
          },
          "execution_count": 15
        }
      ]
    },
    {
      "cell_type": "code",
      "metadata": {
        "colab": {
          "base_uri": "https://localhost:8080/"
        },
        "id": "inzruBmiU5-7",
        "outputId": "fe31b7d1-3686-40ea-82a7-62334d3a51c2"
      },
      "source": [
        "df[\"Data_value\"].mean()"
      ],
      "execution_count": null,
      "outputs": [
        {
          "output_type": "execute_result",
          "data": {
            "text/plain": [
              "49092.23759712479"
            ]
          },
          "metadata": {
            "tags": []
          },
          "execution_count": 16
        }
      ]
    },
    {
      "cell_type": "code",
      "metadata": {
        "colab": {
          "base_uri": "https://localhost:8080/"
        },
        "id": "Qzsc-ajlU_2V",
        "outputId": "ec880885-6682-43cc-fa1b-2abb35d0aab0"
      },
      "source": [
        "df[\"Data_value\"].min()\r\n",
        "df[\"Data_value\"].max()\r\n",
        "df[\"Data_value\"].median()\r\n",
        "df[\"Data_value\"].mode()"
      ],
      "execution_count": null,
      "outputs": [
        {
          "output_type": "execute_result",
          "data": {
            "text/plain": [
              "0     287.0\n",
              "1     292.0\n",
              "2    2841.0\n",
              "3    5048.0\n",
              "4    7859.0\n",
              "dtype: float64"
            ]
          },
          "metadata": {
            "tags": []
          },
          "execution_count": 17
        }
      ]
    },
    {
      "cell_type": "code",
      "metadata": {
        "id": "L3qZaN_BVSnY"
      },
      "source": [
        ""
      ],
      "execution_count": null,
      "outputs": []
    }
  ]
}