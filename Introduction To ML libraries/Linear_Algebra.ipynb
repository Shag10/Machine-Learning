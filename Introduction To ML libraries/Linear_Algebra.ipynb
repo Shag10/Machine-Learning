{
  "nbformat": 4,
  "nbformat_minor": 0,
  "metadata": {
    "colab": {
      "name": "Linear_Algebra.ipynb",
      "provenance": []
    },
    "kernelspec": {
      "name": "python3",
      "display_name": "Python 3"
    }
  },
  "cells": [
    {
      "cell_type": "markdown",
      "metadata": {
        "id": "Ai2ICwCbhEjK"
      },
      "source": [
        "# **Basic operations of Linear Agebra**"
      ]
    },
    {
      "cell_type": "code",
      "metadata": {
        "id": "ATornIQgYe4y"
      },
      "source": [
        "import numpy as np"
      ],
      "execution_count": 1,
      "outputs": []
    },
    {
      "cell_type": "markdown",
      "metadata": {
        "id": "ooX6zAU-Y1-t"
      },
      "source": [
        "# **1) How to Compute Dot product of two vectors?**\r\n",
        "\r\n",
        "To compute dot product first we have to create two 1d-arrays using ***np.array*** function\r\n",
        "\r\n",
        "```\r\n",
        "1. x = np.array([1,2,3])\r\n",
        "2. y = np.array([4,5,6])\r\n",
        "```\r\n",
        "\r\n",
        "\r\n",
        "\r\n",
        "Now We can compute dot product of the two NumPy arrays using ***np.dot()*** function that takes the two 1d-array as inputs. Note that the order input arguments does not matter for the dot product of two vectors.\r\n",
        "\r\n",
        "Check below code "
      ]
    },
    {
      "cell_type": "code",
      "metadata": {
        "id": "gqGUOdyFZuZd"
      },
      "source": [
        "x = np.array([1,2,3])\r\n",
        "y = np.array([4,5,6])"
      ],
      "execution_count": 2,
      "outputs": []
    },
    {
      "cell_type": "code",
      "metadata": {
        "colab": {
          "base_uri": "https://localhost:8080/"
        },
        "id": "Lc4BuUnraaVP",
        "outputId": "10e43617-132d-40fb-9af2-9d6be0c8be6f"
      },
      "source": [
        "print(np.dot(x,y))\r\n",
        "print(np.dot(y,x))"
      ],
      "execution_count": 3,
      "outputs": [
        {
          "output_type": "stream",
          "text": [
            "32\n",
            "32\n"
          ],
          "name": "stdout"
        }
      ]
    },
    {
      "cell_type": "markdown",
      "metadata": {
        "id": "F-kPR0biax5F"
      },
      "source": [
        "# **2) How To Compute Dot product of a Matrix and vector?**\r\n",
        "\r\n",
        "We can also compute dot product of a vector and a matrix using np.dot() function. Let us create a 2×3 matrix with NumPy’s array function."
      ]
    },
    {
      "cell_type": "code",
      "metadata": {
        "colab": {
          "base_uri": "https://localhost:8080/"
        },
        "id": "1aZgLfJTadDM",
        "outputId": "6c5672f5-b98e-400c-e9c9-172b1bd97039"
      },
      "source": [
        "a = np.array([[1,2,3], [4,5,6]])\r\n",
        "print(a)"
      ],
      "execution_count": 4,
      "outputs": [
        {
          "output_type": "stream",
          "text": [
            "[[1 2 3]\n",
            " [4 5 6]]\n"
          ],
          "name": "stdout"
        }
      ]
    },
    {
      "cell_type": "markdown",
      "metadata": {
        "id": "dgZYmxAPbqU0"
      },
      "source": [
        "We can NumPy’s dot function to compute dot product of a matrix and vector. And the result would be a vector.\r\n",
        "\r\n"
      ]
    },
    {
      "cell_type": "code",
      "metadata": {
        "colab": {
          "base_uri": "https://localhost:8080/"
        },
        "id": "mc1Tp0g7bnvn",
        "outputId": "a79f5d50-90a9-49bc-eb44-90ca39f94e5e"
      },
      "source": [
        "np.dot(a,x)"
      ],
      "execution_count": 5,
      "outputs": [
        {
          "output_type": "execute_result",
          "data": {
            "text/plain": [
              "array([14, 32])"
            ]
          },
          "metadata": {
            "tags": []
          },
          "execution_count": 5
        }
      ]
    },
    {
      "cell_type": "markdown",
      "metadata": {
        "id": "R-IHAdzncBSj"
      },
      "source": [
        "# **3) How to Compute transpose of a matrix?**\r\n",
        "\r\n",
        "NumPy’s transpose() function changes rows with columns. In this example, we start with 2 x 3 matrix.\r\n",
        "\r\n",
        "We can use previously created Matrix (Matrix a).\r\n",
        "\r\n",
        "After transposing, we get 3 x 2 matrix."
      ]
    },
    {
      "cell_type": "code",
      "metadata": {
        "colab": {
          "base_uri": "https://localhost:8080/"
        },
        "id": "nxL3TuDxbzNU",
        "outputId": "fe688d24-31bd-4595-e500-75ac399ca889"
      },
      "source": [
        "np.transpose(a)"
      ],
      "execution_count": 6,
      "outputs": [
        {
          "output_type": "execute_result",
          "data": {
            "text/plain": [
              "array([[1, 4],\n",
              "       [2, 5],\n",
              "       [3, 6]])"
            ]
          },
          "metadata": {
            "tags": []
          },
          "execution_count": 6
        }
      ]
    },
    {
      "cell_type": "markdown",
      "metadata": {
        "id": "bnIO6_3Vcsup"
      },
      "source": [
        "# **4) How to Create Identity Matrix?**\r\n",
        "\r\n",
        "Identity matrix is matrix with ones along the diagnola and zeroes in all off-diagonal elements. NumPy’s eye() function creates identity matrix. We just need to provide the dimension of identity matrix we want."
      ]
    },
    {
      "cell_type": "code",
      "metadata": {
        "colab": {
          "base_uri": "https://localhost:8080/"
        },
        "id": "2D2ne3u6ch6B",
        "outputId": "733729ec-e5fa-4c1f-ae9a-b9e192d11441"
      },
      "source": [
        "np.eye(3)"
      ],
      "execution_count": 7,
      "outputs": [
        {
          "output_type": "execute_result",
          "data": {
            "text/plain": [
              "array([[1., 0., 0.],\n",
              "       [0., 1., 0.],\n",
              "       [0., 0., 1.]])"
            ]
          },
          "metadata": {
            "tags": []
          },
          "execution_count": 7
        }
      ]
    },
    {
      "cell_type": "markdown",
      "metadata": {
        "id": "_WAnz69RdEas"
      },
      "source": [
        "# **5) How to Compute Inverse of a Matrix?**\r\n",
        "\r\n",
        "Computing inverse of a matrix is one of the important concepts and has many useful applications. Not all matrices can have inverse. Finding an inverse of a matrix A is find a matrix B such that the product of A with B is the identity matrix.\r\n",
        "\r\n",
        "Let us create a 3 x 3 NumPy array."
      ]
    },
    {
      "cell_type": "code",
      "metadata": {
        "colab": {
          "base_uri": "https://localhost:8080/"
        },
        "id": "4LY0XjyPc8K0",
        "outputId": "938ef00f-7671-463c-b998-4e385398d68f"
      },
      "source": [
        "b = np.array([[1.,2.,3.], [10.,5,6.],[7.,8.,9.]])\r\n",
        "print(b)"
      ],
      "execution_count": 9,
      "outputs": [
        {
          "output_type": "stream",
          "text": [
            "[[ 1.  2.  3.]\n",
            " [10.  5.  6.]\n",
            " [ 7.  8.  9.]]\n"
          ],
          "name": "stdout"
        }
      ]
    },
    {
      "cell_type": "markdown",
      "metadata": {
        "id": "JRyipj0Pdbqp"
      },
      "source": [
        "NumPy’s linalg module has the function inv."
      ]
    },
    {
      "cell_type": "code",
      "metadata": {
        "colab": {
          "base_uri": "https://localhost:8080/"
        },
        "id": "xDXQSBycdUrD",
        "outputId": "f672e0b9-55ec-4003-f781-53a8a56ce395"
      },
      "source": [
        "b_inv = np.linalg.inv(b)\r\n",
        "print(b_inv)"
      ],
      "execution_count": 10,
      "outputs": [
        {
          "output_type": "stream",
          "text": [
            "[[-0.08333333  0.16666667 -0.08333333]\n",
            " [-1.33333333 -0.33333333  0.66666667]\n",
            " [ 1.25        0.16666667 -0.41666667]]\n"
          ],
          "name": "stdout"
        }
      ]
    },
    {
      "cell_type": "markdown",
      "metadata": {
        "id": "QjMg-w4Xdnnm"
      },
      "source": [
        "# **6) How to Perform Matrix Multiplication?**\r\n",
        "\r\n",
        "Matrix multiplication or product of matrices is one of the most common operations we do in linear algebra. We can use NumPy’s dot() function to compute matrix multiplication.\r\n",
        "\r\n",
        "Let us see a example of matrix multiplication using the previous example of computing matrix inverse. We noted that, if we multiply a Matrix and its inverse, we get identity matrix as the result.\r\n",
        "\r\n",
        "Here we use NumPy’ dot() function with a matrix and its inverse. We get output that looks like a identity matrix."
      ]
    },
    {
      "cell_type": "code",
      "metadata": {
        "colab": {
          "base_uri": "https://localhost:8080/"
        },
        "id": "1Bd_i8jndhlm",
        "outputId": "d3ab0d28-f675-49ee-9c16-7f4a6007045e"
      },
      "source": [
        "np.dot(b,np.linalg.inv(b) )"
      ],
      "execution_count": 11,
      "outputs": [
        {
          "output_type": "execute_result",
          "data": {
            "text/plain": [
              "array([[ 1.00000000e+00, -2.77555756e-17,  0.00000000e+00],\n",
              "       [ 0.00000000e+00,  1.00000000e+00,  0.00000000e+00],\n",
              "       [ 1.33226763e-15,  8.32667268e-17,  1.00000000e+00]])"
            ]
          },
          "metadata": {
            "tags": []
          },
          "execution_count": 11
        }
      ]
    },
    {
      "cell_type": "markdown",
      "metadata": {
        "id": "GkmlgHAFeEFk"
      },
      "source": [
        "Let us check if the matrix we have is close to identical matrix. NumPy’s allclose() function can help us with that."
      ]
    },
    {
      "cell_type": "code",
      "metadata": {
        "colab": {
          "base_uri": "https://localhost:8080/"
        },
        "id": "WT7xiTV2dzFZ",
        "outputId": "0499f016-50ec-4571-9550-34c6de1aa40e"
      },
      "source": [
        "np.allclose(np.dot(b, b_inv), np.eye(3))"
      ],
      "execution_count": 12,
      "outputs": [
        {
          "output_type": "execute_result",
          "data": {
            "text/plain": [
              "True"
            ]
          },
          "metadata": {
            "tags": []
          },
          "execution_count": 12
        }
      ]
    },
    {
      "cell_type": "markdown",
      "metadata": {
        "id": "GIREEyn_eKPK"
      },
      "source": [
        "# **7) How to Compute Trace of a Matrix?**\r\n",
        "\r\n",
        "Let us create a matrix a."
      ]
    },
    {
      "cell_type": "code",
      "metadata": {
        "colab": {
          "base_uri": "https://localhost:8080/"
        },
        "id": "Wm4RlKOheH1r",
        "outputId": "72367d8b-93dc-4fd0-e7be-15654df41cc1"
      },
      "source": [
        "a = np.array([[1,2,3], [4,5,6],[7,8,9]])\r\n",
        "print(a)"
      ],
      "execution_count": 13,
      "outputs": [
        {
          "output_type": "stream",
          "text": [
            "[[1 2 3]\n",
            " [4 5 6]\n",
            " [7 8 9]]\n"
          ],
          "name": "stdout"
        }
      ]
    },
    {
      "cell_type": "markdown",
      "metadata": {
        "id": "6jhkYUE3erqz"
      },
      "source": [
        "We can compute trace of a matrix using NumPy’s **trace()** function."
      ]
    },
    {
      "cell_type": "code",
      "metadata": {
        "colab": {
          "base_uri": "https://localhost:8080/"
        },
        "id": "WaTXS_aGeqZB",
        "outputId": "9718bd69-dc41-4481-8c24-6dba3164f3a9"
      },
      "source": [
        "print(np.trace(a))"
      ],
      "execution_count": 14,
      "outputs": [
        {
          "output_type": "stream",
          "text": [
            "15\n"
          ],
          "name": "stdout"
        }
      ]
    },
    {
      "cell_type": "markdown",
      "metadata": {
        "id": "6LaXuN_-f2-I"
      },
      "source": [
        "# **8) How to Compute Determinant of a Matrix?**\r\n",
        "\r\n",
        "Let us create 2×2 square matrix."
      ]
    },
    {
      "cell_type": "code",
      "metadata": {
        "colab": {
          "base_uri": "https://localhost:8080/"
        },
        "id": "it3q0zTZezZD",
        "outputId": "8efdaee3-5af8-497f-932f-e88420591471"
      },
      "source": [
        "a = np.array([[3.,4.],[5,6]])\r\n",
        "print(a)"
      ],
      "execution_count": 15,
      "outputs": [
        {
          "output_type": "stream",
          "text": [
            "[[3. 4.]\n",
            " [5. 6.]]\n"
          ],
          "name": "stdout"
        }
      ]
    },
    {
      "cell_type": "markdown",
      "metadata": {
        "id": "a2SMhdVDgFse"
      },
      "source": [
        "We can compute determinant of a matrix in NumPy with linalg module’s **det()** function."
      ]
    },
    {
      "cell_type": "code",
      "metadata": {
        "colab": {
          "base_uri": "https://localhost:8080/"
        },
        "id": "8aS5tA8WgEW6",
        "outputId": "e66cba3d-b754-473b-e045-c2f8858dbfb2"
      },
      "source": [
        "np.linalg.det(a)"
      ],
      "execution_count": 16,
      "outputs": [
        {
          "output_type": "execute_result",
          "data": {
            "text/plain": [
              "-1.9999999999999971"
            ]
          },
          "metadata": {
            "tags": []
          },
          "execution_count": 16
        }
      ]
    },
    {
      "cell_type": "markdown",
      "metadata": {
        "id": "ovNugrS4gc1K"
      },
      "source": [
        "# **9) How to Compute Eigen Value and Eigen Vector of a Matrix with NumPy?**\r\n",
        "\r\n",
        "Let us create diagonal matrix. We can create a diagonal matrix with diag() function in NumPy."
      ]
    },
    {
      "cell_type": "code",
      "metadata": {
        "colab": {
          "base_uri": "https://localhost:8080/"
        },
        "id": "TMJ9RxHJgXoy",
        "outputId": "8201641f-2cb3-4729-df5a-4896a28ba6e9"
      },
      "source": [
        "a = np.diag((3, 4, 5))\r\n",
        "print(a)"
      ],
      "execution_count": 17,
      "outputs": [
        {
          "output_type": "stream",
          "text": [
            "[[3 0 0]\n",
            " [0 4 0]\n",
            " [0 0 5]]\n"
          ],
          "name": "stdout"
        }
      ]
    },
    {
      "cell_type": "markdown",
      "metadata": {
        "id": "kl12rhHtgyOT"
      },
      "source": [
        "We can use linalg module’s ***eig()*** function to computer eigen vector and eigen values of a matrix. In our example, since our input matrix is a diagonal matrix, the eigen vectors make a identity matrix and the eigen values are simply the diagonal elements of the input matrix."
      ]
    },
    {
      "cell_type": "code",
      "metadata": {
        "colab": {
          "base_uri": "https://localhost:8080/"
        },
        "id": "fPN6WTg6gtC1",
        "outputId": "c57c4a1a-2968-4d8e-b92e-9030a1227201"
      },
      "source": [
        "e_val,e_vec = np.linalg.eig(a)\r\n",
        "print(e_val)"
      ],
      "execution_count": 18,
      "outputs": [
        {
          "output_type": "stream",
          "text": [
            "[3. 4. 5.]\n"
          ],
          "name": "stdout"
        }
      ]
    },
    {
      "cell_type": "code",
      "metadata": {
        "colab": {
          "base_uri": "https://localhost:8080/"
        },
        "id": "AqoHroROg9jK",
        "outputId": "91c33441-9f91-4f27-e180-dc78b77d44a7"
      },
      "source": [
        "print(e_vec)"
      ],
      "execution_count": 19,
      "outputs": [
        {
          "output_type": "stream",
          "text": [
            "[[1. 0. 0.]\n",
            " [0. 1. 0.]\n",
            " [0. 0. 1.]]\n"
          ],
          "name": "stdout"
        }
      ]
    },
    {
      "cell_type": "code",
      "metadata": {
        "id": "V2jS9HVWg_kS"
      },
      "source": [
        ""
      ],
      "execution_count": null,
      "outputs": []
    }
  ]
}